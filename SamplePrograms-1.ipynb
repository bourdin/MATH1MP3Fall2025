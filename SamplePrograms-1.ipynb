{
 "cells": [
  {
   "cell_type": "markdown",
   "id": "389e6e5f",
   "metadata": {},
   "source": [
    "# Sample programs"
   ]
  },
  {
   "cell_type": "code",
   "execution_count": null,
   "id": "29285845",
   "metadata": {},
   "outputs": [],
   "source": [
    "def quadraticEquation(a,b,c):\n",
    "    \"\"\" solves the quadratic equation ax^2 + bx + c = 0\"\"\""
   ]
  },
  {
   "cell_type": "code",
   "execution_count": null,
   "id": "e5b890bc",
   "metadata": {},
   "outputs": [],
   "source": [
    "def is_prime(n):\n",
    "    \"returns true if a number is prime, False otherwise\""
   ]
  },
  {
   "cell_type": "markdown",
   "id": "72bad5a5",
   "metadata": {},
   "source": [
    "## Euclid's algorithm\n",
    "\n",
    "Euclid's algorithm is a classical algorithm to compute the greatest common divisor (GCD) of two integers:\n",
    "\n",
    "* let $a$ and $b$ be given\n",
    "* set $a_0 = a$ and $b_0 = b$\n",
    "* repeat:\n",
    "    - $a_i = b_i  q_i + r_i$ with $r_i < b_i$.\n",
    "    - if $r_0 = 0$ then return $GCD(a, b) = b_i$.\n",
    "    - $a_{i+1} \\leftarrow b_i$\n",
    "    - $b_{i+1} \\leftarrow r_i$.\n",
    "* until $r_i = 0$\n",
    "\n",
    "Note: since $b_{i+1} = r_i < b_i$, this algorithm will always converge in at most $b$ iterations (much less in practice)!  "
   ]
  },
  {
   "cell_type": "code",
   "execution_count": null,
   "id": "4b4fcc1e",
   "metadata": {},
   "outputs": [],
   "source": [
    "def GCD(a,b):\n",
    "    r = a % b\n",
    "    while r != 0:\n",
    "        q = a // b\n",
    "        r = a % b\n",
    "        a = b\n",
    "        b = r\n",
    "    return a\n"
   ]
  },
  {
   "cell_type": "code",
   "execution_count": null,
   "id": "8b9c7549",
   "metadata": {},
   "outputs": [],
   "source": [
    "GCD(5,137)"
   ]
  },
  {
   "cell_type": "markdown",
   "id": "61accea3",
   "metadata": {},
   "source": [
    "## Numerical differentiation\n",
    "\n",
    "Given a function $f(x)$, we say that $f'(a) = \\lim_{h \\to 0} \\frac{f(a+h) - f(a)}{h}$. "
   ]
  },
  {
   "cell_type": "markdown",
   "id": "f386a17e",
   "metadata": {},
   "source": []
  },
  {
   "cell_type": "markdown",
   "id": "7e535238",
   "metadata": {},
   "source": [
    "## Integration using the trapezoidal rule\n",
    "We want to compute $\\int_a^bf(x)\\, dx$.\n",
    "\n",
    "Let $a = a_0 < a_1< \\dots < a_{N} = b$, and $\\Delta_i = a_{i+1} - a_i$. Then\n",
    "$$ \\int_a^bf(x)\\, dx \\sim \\sum_{i = 0}^{N-1} \\Delta_i \\frac{f(a_i) + f(a_{i+1})}{2}.$$\n"
   ]
  },
  {
   "cell_type": "markdown",
   "id": "a7dd0963",
   "metadata": {},
   "source": []
  },
  {
   "cell_type": "markdown",
   "id": "f93bc388",
   "metadata": {},
   "source": [
    "## Lagrange interpolation\n",
    "\n",
    "Given $x_1, x_2, \\dots x_N$ be distinct and $y_1, y_2, \\dots y_N$, the polynomial $P$ of lowest degree such that \n",
    "$$\n",
    "    P(x_i) = y_i,\\ 1\\le i \\le N\n",
    "$$\n",
    "is given by \n",
    "$$\n",
    "P(x) = \\sum_{i=1}^N y_i\\frac{(x-x_1)(x-x_2)\\dots (x-x_{i-1})(x-x_{i+1}) \\dots (x-x_N)}{(x_i-x_1)(x_i-x_2)\\dots (x_i-x_{i-1})(x_i-x_{i+1}) \\dots (x_i-x_N)}.\n",
    "$$\n",
    "\n",
    "Write a function `Lagrange(X,Y,x)` evaluating this polynomial at some point $x$. "
   ]
  },
  {
   "cell_type": "markdown",
   "id": "fd0ad87d",
   "metadata": {},
   "source": []
  }
 ],
 "metadata": {
  "kernelspec": {
   "display_name": "base",
   "language": "python",
   "name": "python3"
  },
  "language_info": {
   "codemirror_mode": {
    "name": "ipython",
    "version": 3
   },
   "file_extension": ".py",
   "mimetype": "text/x-python",
   "name": "python",
   "nbconvert_exporter": "python",
   "pygments_lexer": "ipython3",
   "version": "3.12.11"
  }
 },
 "nbformat": 4,
 "nbformat_minor": 5
}
