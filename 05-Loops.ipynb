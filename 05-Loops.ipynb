{
 "cells": [
  {
   "cell_type": "markdown",
   "id": "b289cf76-1e1a-46d4-872c-48c1254e2d07",
   "metadata": {},
   "source": [
    "# Chapter 5: loops\n",
    "\n",
    "A *loop* is a set of statements that are repeated until a certain condition is satisfied."
   ]
  },
  {
   "cell_type": "markdown",
   "id": "1e772214-6676-498d-90c5-ec9de2e30e89",
   "metadata": {},
   "source": [
    "## 5.1 `while` loop\n",
    "Awhile loop is a code construct that runs a set of statements, known as the loop body, while a given\n",
    "condition, known as the loop expression, is true. At each iteration, once the loop statement is executed, the loop expression is evaluated again.\n",
    "* If true, the loop body will execute at least one more time (also called looping or iterating one more time).\n",
    "* If false, the loop's execution will terminate and the next statement after the loop body will execute.\n",
    "\n",
    "Example: a silly way to print all even numbers less or equal to $N$:"
   ]
  },
  {
   "cell_type": "code",
   "execution_count": null,
   "id": "c593d0e7-78fb-426e-b646-9fbdd9a5a7ba",
   "metadata": {},
   "outputs": [],
   "source": [
    "N=14\n",
    "i = 1\n",
    "while i <= N:\n",
    "   if i%2 == 0:\n",
    "      print(i)\n",
    "   i += 1"
   ]
  },
  {
   "cell_type": "markdown",
   "id": "dfffc484-45e3-4d19-b6c2-db0e20b78709",
   "metadata": {},
   "source": [
    "The Fibonacci sequence:\n",
    "$u_0 = u_1 = 1$, $u_n = n_{n-1} + u_{n-2}$, $n = 2, \\dots$\n"
   ]
  },
  {
   "cell_type": "code",
   "execution_count": null,
   "id": "97099092-7998-4801-884a-452ac20a2430",
   "metadata": {},
   "outputs": [],
   "source": [
    "# print all numbers in the Fibonacci sequence that are less than N\n",
    "N = 20\n",
    "un1 = 1\n",
    "un = 1\n",
    "while un < N:\n",
    "    print(un)\n",
    "    temp = un1\n",
    "    un1 = un\n",
    "    un = un + temp\n"
   ]
  },
  {
   "cell_type": "markdown",
   "id": "346e6dbf-0ffd-4d42-976c-6799b4fc8e8c",
   "metadata": {},
   "source": [
    "A danger of `while` loop is that they may never finish, e.g.\n",
    "```\n",
    "a = 1\n",
    "while a < 2:\n",
    "    print(\"this is never going to end\")\n",
    "```"
   ]
  },
  {
   "cell_type": "code",
   "execution_count": null,
   "id": "4491338c-29b7-404e-b906-c771fc2a5207",
   "metadata": {},
   "outputs": [],
   "source": [
    "counter = 1\n",
    "while counter < 10:\n",
    "    # couter += 1\n",
    "    print(\"this is never going to end\")"
   ]
  },
  {
   "cell_type": "code",
   "execution_count": null,
   "id": "a6fb373d-7765-4bf6-9691-348b2c89be8e",
   "metadata": {},
   "outputs": [],
   "source": [
    "# partial sum of the series $\\sum_{i=1}^n} = 1/2^i$ using a while loop\n",
    "s = 0\n",
    "i = 1\n",
    "n = 10\n",
    "while i <= n:\n",
    "    s += 2**-i\n",
    "    print(f\"s_{i} = {s}\")\n",
    "    i += 1\n"
   ]
  },
  {
   "cell_type": "markdown",
   "id": "615ce3bc-545b-48a4-abe4-3968763bf914",
   "metadata": {},
   "source": [
    "## 5.2 `for` loops\n",
    "\n",
    "A `for` loop iterates over all elements in a container. "
   ]
  },
  {
   "cell_type": "code",
   "execution_count": null,
   "id": "b53f57c2-70a9-4bfc-9fab-13a9b40e70e9",
   "metadata": {},
   "outputs": [],
   "source": [
    "A = [1,2,\"three\", 4.0]\n",
    "for a in A:\n",
    "    print(a)"
   ]
  },
  {
   "cell_type": "code",
   "execution_count": null,
   "id": "ace151c4-710e-413d-a80f-4e5fcfeecdda",
   "metadata": {},
   "outputs": [],
   "source": [
    "count = 0\n",
    "for a in A:\n",
    "    count += 1\n",
    "print(count)"
   ]
  },
  {
   "cell_type": "code",
   "execution_count": null,
   "id": "1e8ef1c3-5714-4b44-9bbc-966a0180bfe5",
   "metadata": {},
   "outputs": [],
   "source": [
    "for c in \"This is a string\":\n",
    "    print(c, end='|')"
   ]
  },
  {
   "cell_type": "code",
   "execution_count": null,
   "id": "026a3fad-0567-45a9-98f5-4cb2c600d1b4",
   "metadata": {},
   "outputs": [],
   "source": [
    "# Example: print truth tables"
   ]
  },
  {
   "cell_type": "markdown",
   "id": "6fb4546a-4838-4ee9-908a-83747eb27ab5",
   "metadata": {},
   "source": [
    "## 5.2.1 the `range` function as a container\n",
    "the `range` function is special countainer such that a loop over a `range` enumerates successive integers.\n",
    "\n",
    "syntax: `range(end)`, or `range(start, end)`, or `range(start, end, step)`"
   ]
  },
  {
   "cell_type": "code",
   "execution_count": 1,
   "id": "17f66dc2-9916-4361-99ee-6e06e6012bd9",
   "metadata": {},
   "outputs": [
    {
     "name": "stdout",
     "output_type": "stream",
     "text": [
      "0\n",
      "1\n",
      "2\n"
     ]
    }
   ],
   "source": [
    "for i in range(3):\n",
    "    print(i)\n",
    "    "
   ]
  },
  {
   "cell_type": "code",
   "execution_count": null,
   "id": "be3e548e-ea3e-43ec-852f-6b1bb6f1d1fe",
   "metadata": {},
   "outputs": [],
   "source": [
    "for i in range(2,5):\n",
    "    print(i)"
   ]
  },
  {
   "cell_type": "code",
   "execution_count": null,
   "id": "f75ec81e-3290-499c-831a-a11c42e56d9e",
   "metadata": {},
   "outputs": [],
   "source": [
    "for i in range(0,10,3): \n",
    "    print(i)"
   ]
  },
  {
   "cell_type": "code",
   "execution_count": null,
   "id": "715b53d9-21d8-41d2-aca0-82a19d97746e",
   "metadata": {},
   "outputs": [],
   "source": [
    "A = \"hello world\"\n",
    "for i in range(len(A)):\n",
    "    print(f\"the {i}th character is {A[i]}\")"
   ]
  },
  {
   "cell_type": "markdown",
   "id": "065852d4-b5a7-4c55-9a05-7b8ad02130bb",
   "metadata": {},
   "source": [
    "## 5.3 zip and enumerate\n",
    "Given 2 collections with the same length, the `zip` operator makes it possible to iterate over both container simultaneously.\n",
    "\n",
    "`enumerate` automatically increments a counter"
   ]
  },
  {
   "cell_type": "code",
   "execution_count": null,
   "id": "6c51b7cb-6a54-4eef-b0ca-3de9e12e37c2",
   "metadata": {},
   "outputs": [],
   "source": [
    "A = \"hello world\"\n",
    "for (i,c) in zip(range(len(A)),A):\n",
    "    print(f\"the {i}th character is {A[i]}\") "
   ]
  },
  {
   "cell_type": "code",
   "execution_count": null,
   "id": "092de7a9-a4b4-4ffa-a4d3-059f35a5331c",
   "metadata": {},
   "outputs": [],
   "source": [
    "A = 'hello world'\n",
    "for i, c in enumerate(A):\n",
    "    print(f\"the {i}th character is {A[i]}\")"
   ]
  },
  {
   "cell_type": "code",
   "execution_count": null,
   "id": "d8bf63da-5f83-462d-8782-e5a8ac046fac",
   "metadata": {},
   "outputs": [],
   "source": []
  }
 ],
 "metadata": {
  "kernelspec": {
   "display_name": "Python 3 (ipykernel)",
   "language": "python",
   "name": "python3"
  },
  "language_info": {
   "codemirror_mode": {
    "name": "ipython",
    "version": 3
   },
   "file_extension": ".py",
   "mimetype": "text/x-python",
   "name": "python",
   "nbconvert_exporter": "python",
   "pygments_lexer": "ipython3",
   "version": "3.13.5"
  }
 },
 "nbformat": 4,
 "nbformat_minor": 5
}
