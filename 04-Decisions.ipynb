{
 "cells": [
  {
   "cell_type": "markdown",
   "id": "ab7bdb7c-3493-406a-be1d-f3e19c9dfd1d",
   "metadata": {},
   "source": [
    "# Chapter 4: Decisions\n",
    "\n",
    "## 4.1 Boolean values\n",
    "We introduce a new data type: booleans, which can take only 2 values: `True` or `False`. "
   ]
  },
  {
   "cell_type": "code",
   "execution_count": null,
   "id": "9d5b0cfa-d6f3-422d-b3c2-b4bf43e66342",
   "metadata": {},
   "outputs": [],
   "source": [
    "is_true = True\n",
    "print(is_true)"
   ]
  },
  {
   "cell_type": "code",
   "execution_count": null,
   "id": "9be62e79-eb36-40a6-9af1-401ebcd5ab80",
   "metadata": {},
   "outputs": [],
   "source": [
    "print(1 == 2)"
   ]
  },
  {
   "cell_type": "code",
   "execution_count": null,
   "id": "c1635129-e2fb-4e6b-a74b-393a74267458",
   "metadata": {},
   "outputs": [],
   "source": [
    "myBool = 1 == 1"
   ]
  },
  {
   "cell_type": "code",
   "execution_count": null,
   "id": "5ca63524-958d-4cab-84ec-4c1430a1a99e",
   "metadata": {},
   "outputs": [],
   "source": [
    "print(myBool)"
   ]
  },
  {
   "cell_type": "markdown",
   "id": "e121971c-966e-4041-ab8f-f2c214bf9d3f",
   "metadata": {},
   "source": [
    "Boolean can be converted to and from other data types. Typically, True is 1 and False is 0. Convertly 0 is False, and anything non-zero is True"
   ]
  },
  {
   "cell_type": "code",
   "execution_count": null,
   "id": "d04d1dc3-afbd-4e3c-9e9f-f9c143621d09",
   "metadata": {},
   "outputs": [],
   "source": [
    "print('int(True): ',int(True))\n",
    "print('int(False): ',int(False))\n",
    "print('float(True): ',float(True))\n",
    "print('float(False): ',float(False))\n",
    "print('str(True): ',str(True))\n",
    "print('str(False): ', str(False))"
   ]
  },
  {
   "cell_type": "code",
   "execution_count": null,
   "id": "9322fec5-cf4e-42da-9925-3c804866e808",
   "metadata": {},
   "outputs": [],
   "source": [
    "print('bool(0): ',bool(0))\n",
    "print('bool(2): ',bool(2))\n",
    "print('bool(1.0): ', bool(1.0))\n",
    "print('bool(\"hello world\"): ', bool(\"hello world\"))\n",
    "print('bool(\"\"): ', bool(\"\"))"
   ]
  },
  {
   "cell_type": "markdown",
   "id": "0254a216-ac89-4f25-89c5-7601066ea89c",
   "metadata": {},
   "source": [
    "### 4.1.1 comparison operators:\n",
    "\n",
    "* `==`: equal to\n",
    "* `!=`: not equal to\n",
    "* `>`: greater than\n",
    "* `<`: less than\n",
    "* `>=`: greater or equal than\n",
    "* `<=`: less than or equal to\n",
    "\n",
    "For string, ordering is alphabetical. For containers, not sure what it means..."
   ]
  },
  {
   "cell_type": "markdown",
   "id": "12ce3551-c21d-4482-9aae-e818bf7680e8",
   "metadata": {},
   "source": [
    "### 4.1.2 boolean operators\n",
    "* `not`\n",
    "* `&` or `and`: and\n",
    "* `|` or `or`: or"
   ]
  },
  {
   "cell_type": "code",
   "execution_count": null,
   "id": "7e1a311b-91d1-43bc-a7ff-10a18101dfe0",
   "metadata": {},
   "outputs": [],
   "source": []
  },
  {
   "cell_type": "markdown",
   "id": "9fa2bc3a-f933-48f2-8edb-0ff05d99679d",
   "metadata": {},
   "source": [
    "### 4.2 Operator precedence:\n",
    "\n",
    "| operator | meaning |\n",
    "|----------|---------|\n",
    "| `()` | parentheses |\n",
    "| `**` | exponentiation |\n",
    "| `*`, `/`, `//`, `%` | multiplication, division, modulo |\n",
    "| `+`, `-` | Addition, substraction |\n",
    "| `<`, `<=`, `>`, `>=`, `==`, `!=` | comparison |\n",
    "\n",
    "| operator | meaning | \n",
    "|---|---|\n",
    "|`not` | logical not |\n",
    "| `and` | logical and |\n",
    "| `or` | logical or|"
   ]
  },
  {
   "cell_type": "code",
   "execution_count": null,
   "id": "e896e0cc-a04c-4f9e-a0d6-9c0f1bd65b83",
   "metadata": {},
   "outputs": [],
   "source": [
    "# Truth table\n",
    "# XOR\n",
    "# some logic"
   ]
  },
  {
   "cell_type": "markdown",
   "id": "ccbace7e-3753-443b-a549-c90290e64d94",
   "metadata": {},
   "source": [
    "## 4.3 conditionals\n",
    "\n",
    "An `if` statement is a statement that is executed or not depending on a condition. The syntax is:\n",
    "```\n",
    "if <condition>:\n",
    "  <statement>\n",
    "[else:\n",
    "  <statement>]\n",
    "```\n",
    "The statement blocks are designated using indentation. The `else` statement is optional"
   ]
  },
  {
   "cell_type": "code",
   "execution_count": null,
   "id": "bef7fddb-3556-4c42-817e-2f65ff820375",
   "metadata": {},
   "outputs": [],
   "source": [
    "# example: quadratic equations\n",
    "import math\n",
    "\n",
    "a = 1\n",
    "b = -3\n",
    "c = 2\n",
    "discriminant = b**2 - 4 * a * c\n",
    "\n",
    "if discriminant >= 0:\n",
    "    x1 = (-b - math.sqrt(discriminant)) / 2. / a\n",
    "    x2 = (-b + math.sqrt(discriminant)) / 2. / a\n",
    "    print(f\"the solutions of {a}x^2 + {b}x + {c} = 0 are x1 = {x1}, x2 = {x2}\")\n",
    "else:\n",
    "    print(f\"the equation {a}x^2 + {b}x + {c} = 0 does not admit real solutions\") "
   ]
  },
  {
   "cell_type": "code",
   "execution_count": null,
   "id": "97fdfd8e-0c46-41b4-b39f-f40fea013d47",
   "metadata": {},
   "outputs": [],
   "source": [
    "# a second version also testing for double solutions\n",
    "a = 1\n",
    "b = 2\n",
    "c = 1\n",
    "discriminant = b**2 - 4 * a * c\n",
    "\n",
    "if discriminant > 0:\n",
    "    x1 = (-b - math.sqrt(discriminant)) / 2. / a\n",
    "    x2 = (-b + math.sqrt(discriminant)) / 2. / a\n",
    "    print(f\"the solutions of {a}x^2 + {b}x + {c} = 0 are x1 = {x1}, x2 = {x2}\")\n",
    "if discriminant == 0.:\n",
    "    x1 = -b / 2. /a\n",
    "    print(f\"the equation {a}x^2 + {b}x + {c} = 0 admits a double solution x1 = {x1}\")\n",
    "if discriminant < 0:\n",
    "    print(f\"the equation {a}x^2 + {b}x + {c} = 0 does not admit real solutions\") "
   ]
  },
  {
   "cell_type": "code",
   "execution_count": null,
   "id": "21fcadc3-cd36-4e8c-b65c-88fd08ef083d",
   "metadata": {},
   "outputs": [],
   "source": [
    "# Since these conditions are mutually exclusive, we can use nested if statements:\n",
    "# a second version also testing for double solutions\n",
    "a = 1\n",
    "b = 2\n",
    "c = 10\n",
    "discriminant = b**2 - 4 * a * c\n",
    "\n",
    "if discriminant > 0:\n",
    "    x1 = (-b - math.sqrt(discriminant)) / 2. / a\n",
    "    x2 = (-b + math.sqrt(discriminant)) / 2. / a\n",
    "    print(f\"the solutions of {a}x^2 + {b}x + {c} = 0 are x1 = {x1}, x2 = {x2}\")\n",
    "else:\n",
    "    if discriminant == 0.:\n",
    "        x1 = -b / 2. /a\n",
    "        print(f\"the equation {a}x^2 + {b}x + {c} = 0 admits a double solution x1 = {x1}\")\n",
    "    else:\n",
    "        print(f\"the equation {a}x^2 + {b}x + {c} = 0 does not admit real solutions\") "
   ]
  },
  {
   "cell_type": "code",
   "execution_count": null,
   "id": "cc1b7b29-ba8c-4e21-b647-de52a8b0463a",
   "metadata": {},
   "outputs": [],
   "source": [
    "# This can be further condensed as\n",
    "a = 1\n",
    "b = 2\n",
    "c = 10\n",
    "discriminant = b**2 - 4 * a * c\n",
    "\n",
    "if discriminant > 0:\n",
    "    x1 = (-b - math.sqrt(discriminant)) / 2. / a\n",
    "    x2 = (-b + math.sqrt(discriminant)) / 2. / a\n",
    "    print(f\"the solutions of {a}x^2 + {b}x + {c} = 0 are x1 = {x1}, x2 = {x2}\")\n",
    "elif discriminant == 0.: #elif is a short for 'else if'\n",
    "    x1 = -b / 2. /a\n",
    "    print(f\"the equation {a}x^2 + {b}x + {c} = 0 admits a double solution x1 = {x1}\")\n",
    "else:\n",
    "    print(f\"the equation {a}x^2 + {b}x + {c} = 0 does not admit real solutions\") "
   ]
  },
  {
   "cell_type": "markdown",
   "id": "7d7285ea-17d1-4cd8-bed7-a7653c6b523c",
   "metadata": {},
   "source": [
    "Another example: let $f$ be the piecewise function\n",
    "$$f(x) = \\begin{cases}\n",
    "0 & \\text{ if } x<-1\\\\\n",
    "1-x^2 & \\text{ if } -1  \\le x \\le 1 \\\\\n",
    "0 & \\text{ otherwise.}\n",
    "\\end{cases}$$"
   ]
  },
  {
   "cell_type": "code",
   "execution_count": null,
   "id": "db4101ca-114d-426c-a8e7-f13f4a006026",
   "metadata": {},
   "outputs": [],
   "source": [
    "x = 0.5\n",
    "\n",
    "if x < -1:\n",
    "    f = 0\n",
    "elif x <= 1:\n",
    "    f = 1-x**2\n",
    "else:\n",
    "    f = 0\n",
    "print(f\"f({x}) = {f}\") "
   ]
  },
  {
   "cell_type": "code",
   "execution_count": null,
   "id": "b94ffa32-444c-4fd1-99a4-70b957405372",
   "metadata": {},
   "outputs": [],
   "source": [
    "# "
   ]
  }
 ],
 "metadata": {
  "kernelspec": {
   "display_name": "Python 3 (ipykernel)",
   "language": "python",
   "name": "python3"
  },
  "language_info": {
   "codemirror_mode": {
    "name": "ipython",
    "version": 3
   },
   "file_extension": ".py",
   "mimetype": "text/x-python",
   "name": "python",
   "nbconvert_exporter": "python",
   "pygments_lexer": "ipython3",
   "version": "3.13.5"
  }
 },
 "nbformat": 4,
 "nbformat_minor": 5
}
