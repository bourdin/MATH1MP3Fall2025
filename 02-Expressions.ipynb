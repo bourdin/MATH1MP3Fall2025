{
 "cells": [
  {
   "cell_type": "markdown",
   "id": "69e97fc9",
   "metadata": {},
   "source": [
    "# Chapter 2. Expression"
   ]
  },
  {
   "cell_type": "markdown",
   "id": "3de14ba5",
   "metadata": {},
   "source": [
    "A *program* is a series of statements acting on variables (think about the quadratic formulas).\n",
    "An `expression` is a series of commands that represent a value to be computed."
   ]
  },
  {
   "cell_type": "code",
   "execution_count": null,
   "id": "c3778a30",
   "metadata": {},
   "outputs": [],
   "source": [
    "# the following statement is an assignment\n",
    "x = 4\n",
    "\n",
    "# this statement is an expression\n",
    "3 * x - 5\n",
    "\n",
    "# This assigns the result of the expression `3*x - 5` to the variable `y`\n",
    "y = 3 * x - 5"
   ]
  },
  {
   "cell_type": "markdown",
   "id": "5f5ff50d",
   "metadata": {},
   "source": [
    "## 1. Type conversion\n",
    "One unusual feature of python is that variable types are not frozen but can change through *implicit type conversion*."
   ]
  },
  {
   "cell_type": "code",
   "execution_count": null,
   "id": "d1b09cce",
   "metadata": {},
   "outputs": [],
   "source": [
    "x = 1\n",
    "print(x, type(x))\n",
    "x = x/3.\n",
    "print(x, type(x))"
   ]
  },
  {
   "cell_type": "code",
   "execution_count": null,
   "id": "f30309fd",
   "metadata": {},
   "outputs": [],
   "source": [
    "x = 'oualala!'\n",
    "print(x, type(x))"
   ]
  },
  {
   "cell_type": "markdown",
   "id": "d75d5894",
   "metadata": {},
   "source": [
    "It is possible (but rarely necessary) to force conversion between types using the `int()`, `float()`, or `str()` operations"
   ]
  },
  {
   "cell_type": "code",
   "execution_count": null,
   "id": "7d88b394",
   "metadata": {},
   "outputs": [],
   "source": [
    "x = str(42)\n",
    "print(x, type(x))\n",
    "x = float(42)\n",
    "print(x, type(x))"
   ]
  },
  {
   "cell_type": "code",
   "execution_count": null,
   "id": "c8f4e44a",
   "metadata": {},
   "outputs": [],
   "source": [
    "# this makes no sense\n",
    "x = int('oulala')"
   ]
  },
  {
   "cell_type": "code",
   "execution_count": null,
   "id": "dd0b9a7e",
   "metadata": {},
   "outputs": [],
   "source": [
    "# but this does\n",
    "x = '2.3'\n",
    "print(x, type(x))\n",
    "x = float(x)\n",
    "print(x, type(x))"
   ]
  },
  {
   "cell_type": "code",
   "execution_count": null,
   "id": "fe5104aa",
   "metadata": {},
   "outputs": [],
   "source": [
    "x = 1\n",
    "x = x + 2.3\n",
    "print(x, type(x))"
   ]
  },
  {
   "cell_type": "code",
   "execution_count": null,
   "id": "00052edd",
   "metadata": {},
   "outputs": [],
   "source": [
    "x = 3\n",
    "x = 'oualala ' * x \n",
    "print(x, type(x))"
   ]
  },
  {
   "cell_type": "markdown",
   "id": "a61467ce",
   "metadata": {},
   "source": [
    "## 2. More of floating point numbers\n",
    "Like most computer languages, python uses a binary representation of numbers:\n",
    "\n",
    "* Integers can be represented exactly by a series of 'bits' (i.e. 0 or 1 as in 13 = 1 * 8 + 1 * 4 + 0 * 2 + 1 * 1 = 1101). The maximum number of bits that one is willing to use to represent integers set the largest integer that can be represented.\n",
    "* Reals are approximated by sum of powers of 1/2 multiplied by an exponent (*floating point numbers*): for instance, -0.195 could be represented as [1][011][1010]:\n",
    "\n",
    "$$ -0.195 \\simeq  (-1)^1 * 2^{-3} * (1 + 2^{-4} + 2^{-1}) = 0.1953125 $$"
   ]
  },
  {
   "cell_type": "markdown",
   "id": "16f0fac7",
   "metadata": {},
   "source": [
    " Operations on floating point numbers **are not exact** (but python tries to be smart about it). Things can go wrong in two different ways:\n",
    " * **Overflow errors** when the number representation is not sufficient to represent the result of an expression. These typically lead to python errors\n",
    " * **Round-off errors** when the *fixed precision arithmetic* (a fancy word for inexact)  leads to wrong results. These can be harder to detect\n",
    "\n"
   ]
  },
  {
   "cell_type": "code",
   "execution_count": null,
   "id": "b7fe22d1",
   "metadata": {},
   "outputs": [],
   "source": [
    "x = 1.2e+300\n",
    "y = x+1\n",
    "print(x==y)\n",
    "\n",
    "# Print floats with 30 decimal places\n",
    "x = 0.1\n",
    "y = 0.3\n",
    "print(f'{x:.30f}') # prints 0.1\n",
    "print(f'{y:.30f}') # prints 0.2\n",
    "print(f'{3*x:.30f}') # prints 0.2\n",
    "print(y==3*x)"
   ]
  },
  {
   "cell_type": "code",
   "execution_count": null,
   "id": "7dc24bc7",
   "metadata": {},
   "outputs": [],
   "source": [
    "print('3.0 to the power of 256 =',3.0**256)\n",
    "print('3.0 to the power of 512 = ',3.0**512)\n",
    "print('3.0 to the power of 1024 = ',3.0**1024)"
   ]
  },
  {
   "cell_type": "markdown",
   "id": "1b75d27b",
   "metadata": {},
   "source": [
    "### A more subtle example of loss of accuracy: \n",
    "### the harmonic series:\n",
    "\n",
    "Let $$s_n = \\sum_{i=1}^n 1/i$$\n",
    "It is \"easy\" to prove that $\\lim_{n \\to \\infty} s_n$ diverges (i.e. that $s_n$ can be made arbitrarily large by chosing $n$ large enough).\n",
    "\n",
    "Let's verify this with a simple program:"
   ]
  },
  {
   "cell_type": "code",
   "execution_count": null,
   "id": "11ff93b8",
   "metadata": {},
   "outputs": [],
   "source": [
    "import numpy as np\n",
    "n = 100000\n",
    "s = np.float16(0.)\n",
    "for i in range(1,n):\n",
    "    s += np.float16(1./i)\n",
    "print(s)"
   ]
  },
  {
   "cell_type": "markdown",
   "id": "c708647f",
   "metadata": {},
   "source": [
    "`float16` are 16bit \"half precision\" floating point numbers capable of representing values between $2^{-14}\\sim 6.1\\times 10^{-5}$ and $2-2^{-10} = 65,504$ so that when $n \\ge 2^{14} = 16,384$, the half precision representation of $1/n$ is $0$..."
   ]
  },
  {
   "cell_type": "markdown",
   "id": "8f346ded",
   "metadata": {},
   "source": []
  }
 ],
 "metadata": {
  "kernelspec": {
   "display_name": "base",
   "language": "python",
   "name": "python3"
  },
  "language_info": {
   "codemirror_mode": {
    "name": "ipython",
    "version": 3
   },
   "file_extension": ".py",
   "mimetype": "text/x-python",
   "name": "python",
   "nbconvert_exporter": "python",
   "pygments_lexer": "ipython3",
   "version": "3.12.11"
  }
 },
 "nbformat": 4,
 "nbformat_minor": 5
}
