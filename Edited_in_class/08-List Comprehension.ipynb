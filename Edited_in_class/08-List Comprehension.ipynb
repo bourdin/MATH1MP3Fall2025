{
 "cells": [
  {
   "cell_type": "markdown",
   "id": "1d40e13c",
   "metadata": {},
   "source": [
    "# Chapter 8: List comprehensions\n",
    "List comprehension are a simple way to define lists\n",
    "Syntax:\n",
    "```\n",
    "newlist = [expression for item in iterable if condition == True]\n",
    "```\n"
   ]
  },
  {
   "cell_type": "code",
   "execution_count": 17,
   "id": "dd879510-b0a4-418e-a530-54e27e4ccfe6",
   "metadata": {},
   "outputs": [
    {
     "name": "stdout",
     "output_type": "stream",
     "text": [
      "[2, 4, 6, 8, 10, 12, 14, 16, 18, 20]\n",
      "[2, 4, 6, 8, 10, 12, 14, 16, 18, 20]\n",
      "[2, 4, 6, 8, 10, 12, 14, 16, 18, 20]\n",
      "[2, 4, 6, 8, 10, 12, 14, 16, 18, 20]\n",
      "[2, 4, 6, 8, 10, 12, 14, 16, 18, 20]\n"
     ]
    }
   ],
   "source": [
    "# a list of first 10 even numbers\n",
    "l = []\n",
    "for i in range(10):\n",
    "    l = l + [2*(i+1)]\n",
    "print(l)\n",
    "\n",
    "l2 = []\n",
    "for i in range(10):\n",
    "    l2.append(2*(i+1))\n",
    "print(l2)\n",
    "\n",
    "l3  = [2*(i+1) for i in range(10)]\n",
    "print(l3)\n",
    "\n",
    "l4 = [i+1 for i in range(20) if (i+1)%2 == 0]\n",
    "print(l4)\n",
    "\n",
    "l5 = [i+1 for i in range(20) if i%2 != 0]\n",
    "print(l5)"
   ]
  },
  {
   "cell_type": "code",
   "execution_count": 12,
   "id": "dc28308e",
   "metadata": {},
   "outputs": [
    {
     "name": "stdout",
     "output_type": "stream",
     "text": [
      "[1, 4, 9, 16, 25, 36, 49]\n"
     ]
    }
   ],
   "source": [
    "# given X = [x_1, x_2, ..., x_n] and f(x), build\n",
    "# Y = [f(x_1), f(x_2), ... f(x_n)]\n",
    "\n",
    "X = [1, 2, 3, 4, 5, 6, 7]\n",
    "def f(x):\n",
    "    return x**2\n",
    "\n",
    "Y = [f(x) for x in X]\n",
    "print(Y)\n"
   ]
  },
  {
   "cell_type": "code",
   "execution_count": 18,
   "id": "47e3195c",
   "metadata": {},
   "outputs": [
    {
     "name": "stdout",
     "output_type": "stream",
     "text": [
      "['apple', 'banana', 'mango']\n"
     ]
    }
   ],
   "source": [
    "fruits = [\"apple\", \"banana\", \"cherry\", \"kiwi\", \"mango\"]\n",
    "# get a list of all fruits whose name contain an \"a\":\n",
    "\n",
    "afruits = [f for f in fruits if \"a\" in f]\n",
    "print(afruits)\n"
   ]
  },
  {
   "cell_type": "code",
   "execution_count": null,
   "id": "31baad95",
   "metadata": {},
   "outputs": [],
   "source": [
    "# print the fist n multiples of 7\n",
    "n = 12\n",
    "print([7*i for i in range(1, n+1)])"
   ]
  },
  {
   "cell_type": "markdown",
   "id": "3a58f055",
   "metadata": {},
   "source": [
    "Note that the expression itself can be something complicated, involving conditionals, for instance"
   ]
  },
  {
   "cell_type": "code",
   "execution_count": 20,
   "id": "ef4de2b0",
   "metadata": {},
   "outputs": [
    {
     "name": "stdout",
     "output_type": "stream",
     "text": [
      "['apple', 'banana', '***', '***', 'mango']\n"
     ]
    }
   ],
   "source": [
    "bfruits = [f  for f in fruits]\n",
    "\n",
    "# instead of f, we want \n",
    "# if \"a\" in f:\n",
    "#     f\n",
    "# else:\n",
    "#     \"***\"\n",
    "bfruits = [f if \"a\" in f else \"***\"  for f in fruits]\n",
    "\n",
    "    \n",
    "#bfruits = [f if not f.startswith(\"b\") else \"*\"*len(f) for f in fruits]\n",
    "print(bfruits)"
   ]
  },
  {
   "cell_type": "code",
   "execution_count": null,
   "id": "4a4ba67a",
   "metadata": {},
   "outputs": [],
   "source": []
  }
 ],
 "metadata": {
  "kernelspec": {
   "display_name": "Python 3 (ipykernel)",
   "language": "python",
   "name": "python3"
  },
  "language_info": {
   "codemirror_mode": {
    "name": "ipython",
    "version": 3
   },
   "file_extension": ".py",
   "mimetype": "text/x-python",
   "name": "python",
   "nbconvert_exporter": "python",
   "pygments_lexer": "ipython3",
   "version": "3.13.5"
  }
 },
 "nbformat": 4,
 "nbformat_minor": 5
}
