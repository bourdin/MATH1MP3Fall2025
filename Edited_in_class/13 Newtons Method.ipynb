{
 "cells": [
  {
   "cell_type": "markdown",
   "id": "1bc39dfc-759b-405d-a60c-1e7b3ed7e6cf",
   "metadata": {},
   "source": [
    "# Newton's method\n",
    "\n",
    "$$\n",
    "x_n = x_{n-1} - \\frac{f(x_{n-1})}{f'(x_{n-1})}\n",
    "$$\n"
   ]
  },
  {
   "cell_type": "code",
   "execution_count": 4,
   "id": "26828e35-14d5-4f35-86d3-f737377ca601",
   "metadata": {},
   "outputs": [],
   "source": [
    "import math\n",
    "def f(x):\n",
    "    return math.cos(x)\n",
    "def fprime(x):\n",
    "    return -math.sin(x)\n",
    "    "
   ]
  },
  {
   "cell_type": "code",
   "execution_count": 12,
   "id": "20fc7260-f3ac-475a-aa73-54a00670861a",
   "metadata": {},
   "outputs": [],
   "source": [
    "def NewtonsMethod(f, fprime, x0, tol=1.e-3):\n",
    "# xn is x_n\n",
    "# xnm1 is x_{n-1}\n",
    "    nIter = 0\n",
    "    xnm1 = x0\n",
    "    xn = x0\n",
    "    while abs(f(xn)) >= tol:\n",
    "       nIter += 1\n",
    "       xn = xnm1 - f(xnm1) / fprime(xnm1)\n",
    "       xnm1 = xn\n",
    "    return xn "
   ]
  },
  {
   "cell_type": "code",
   "execution_count": 13,
   "id": "80154a64-6afa-479b-8047-cb201373280e",
   "metadata": {},
   "outputs": [
    {
     "data": {
      "text/plain": [
       "1.5706752771612507"
      ]
     },
     "execution_count": 13,
     "metadata": {},
     "output_type": "execute_result"
    }
   ],
   "source": [
    "NewtonsMethod(f, fprime, 1.)\n",
    "\n",
    "\n"
   ]
  },
  {
   "cell_type": "code",
   "execution_count": null,
   "id": "7b081638-57fa-4f31-8ccf-ef6f155ee885",
   "metadata": {},
   "outputs": [],
   "source": []
  }
 ],
 "metadata": {
  "kernelspec": {
   "display_name": "Python 3 (ipykernel)",
   "language": "python",
   "name": "python3"
  },
  "language_info": {
   "codemirror_mode": {
    "name": "ipython",
    "version": 3
   },
   "file_extension": ".py",
   "mimetype": "text/x-python",
   "name": "python",
   "nbconvert_exporter": "python",
   "pygments_lexer": "ipython3",
   "version": "3.13.5"
  }
 },
 "nbformat": 4,
 "nbformat_minor": 5
}
