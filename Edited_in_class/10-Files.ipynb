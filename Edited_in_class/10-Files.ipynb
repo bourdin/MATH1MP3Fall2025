{
 "cells": [
  {
   "cell_type": "markdown",
   "id": "8e3b92e4",
   "metadata": {},
   "source": [
    "### Files\n",
    "Files are kind of like containers in that they \"contain\" information. Technically, a `file` object does not really contain the information but is a way to access or write it on a physical medium... \n",
    "\n",
    "* 'open' a file (so that one can read  write):\n",
    "   `f = open(<file_name>, <access_mode>)`\n",
    "   returns a file object, which is somewhat like a container.\n",
    "    - `access_mode = 'r'` for read-only\n",
    "    - `access_mode = 'a'` to append to an existing file\n",
    "    - `access-mode = 'w'` to overwrite an existing file (Use with caution)\n",
    "    - `access-mode = 'x'` to create a new file and throw an error if the file exists\n",
    "* `f.close()` when done writing. \n",
    "* `f.write(str)` to write `str` to the file. Write operation may not be actually committed to the file until it is closed.\n",
    "* `f.read()` reads the entire file\n",
    "* `f.readline()` reads one line. Iterate over `f.readline()` to read the whole file, one line at a time\n",
    "* `f.readlines()` read the whole file into a list of string. One line in each string\n",
    "\n",
    "\n",
    "\n"
   ]
  },
  {
   "cell_type": "code",
   "execution_count": 14,
   "id": "af1af4d8-9316-4b0d-a47d-09ed6035f3d4",
   "metadata": {},
   "outputs": [],
   "source": [
    "newF = open ('Frankenstein.txt','r')\n",
    "newF.close()\n",
    "\n",
    "\n",
    "\n"
   ]
  },
  {
   "cell_type": "code",
   "execution_count": 13,
   "id": "accaf7b7-a4a9-44ec-8bc7-a87cd46c5b1f",
   "metadata": {},
   "outputs": [
    {
     "name": "stdout",
     "output_type": "stream",
     "text": [
      "commencement of an enterprise which you have regarded with such evil\n",
      "\n",
      "forebodings. I arrived here yesterday, and my first task is to assure\n",
      "\n",
      "my dear sister of my welfare and increasing confidence in the success\n",
      "\n",
      "of my undertaking.\n",
      "\n",
      "\n",
      "\n",
      "I am already far north of London, and as I walk in the streets of\n",
      "\n",
      "Petersburgh, I feel a cold northern breeze play upon my cheeks, which\n",
      "\n",
      "braces my nerves and fills me with delight. Do you understand this\n",
      "\n",
      "feeling? This breeze, which has travelled from the regions towards\n",
      "\n",
      "which I am advancing, gives me a foretaste of those icy climes.\n",
      "\n"
     ]
    }
   ],
   "source": [
    "for i in range(10):\n",
    "    print(newF.readline())\n",
    "\n",
    "\n",
    "    \n"
   ]
  },
  {
   "cell_type": "code",
   "execution_count": 15,
   "id": "1a348f47",
   "metadata": {},
   "outputs": [],
   "source": [
    "f = open('example.txt','w')\n",
    "f.write('The quick brown fox jumps over the lazy dog\\n')\n",
    "f.write('a man a plan a canal panama')\n",
    "f.close()\n"
   ]
  },
  {
   "cell_type": "code",
   "execution_count": 19,
   "id": "1210960a-dcf0-468b-84ac-6d993328aada",
   "metadata": {},
   "outputs": [
    {
     "name": "stdout",
     "output_type": "stream",
     "text": [
      "The quick brown fox jumps over the lazy dog\n",
      "\n",
      "a man a plan a canal panama\n"
     ]
    }
   ],
   "source": [
    "f2 = open('example.txt','r')\n",
    "# s = f2.readlines()\n",
    "for s in f2.readlines():\n",
    "    print(s)\n",
    "f2.close()\n",
    "# print(s)\n",
    "\n",
    "\n"
   ]
  },
  {
   "cell_type": "code",
   "execution_count": 23,
   "id": "0247c33a",
   "metadata": {},
   "outputs": [
    {
     "data": {
      "text/plain": [
       "2245"
      ]
     },
     "execution_count": 23,
     "metadata": {},
     "output_type": "execute_result"
    }
   ],
   "source": [
    "f3 = open('1-1000000.txt')\n",
    "pistr = f3.read()\n",
    "# print(pistr[:256])\n",
    "pistr.index('2468')\n",
    "\n",
    "\n",
    "# len(pistr)\n",
    "\n"
   ]
  },
  {
   "cell_type": "code",
   "execution_count": 10,
   "id": "e0c5cdd0",
   "metadata": {},
   "outputs": [
    {
     "name": "stdout",
     "output_type": "stream",
     "text": [
      "The quick brown fox jumps over the lazy dog\n",
      "\n",
      "a man a plan a canal panama\n"
     ]
    }
   ],
   "source": [
    "f2 = open('example.txt')\n",
    "for line in f2.readlines():\n",
    "    print(line)\n",
    "f2.close()"
   ]
  },
  {
   "cell_type": "code",
   "execution_count": 30,
   "id": "a1ee0107",
   "metadata": {},
   "outputs": [
    {
     "name": "stdout",
     "output_type": "stream",
     "text": [
      "3\n"
     ]
    }
   ],
   "source": [
    "word = 'math'\n",
    "f = open('Frankenstein.txt')\n",
    "counter = 0\n",
    "for line in f.readlines():\n",
    "    counter += line.lower().count(word)\n",
    "print(counter)\n",
    "f.close()"
   ]
  },
  {
   "cell_type": "code",
   "execution_count": 28,
   "id": "874f7081",
   "metadata": {},
   "outputs": [
    {
     "name": "stdout",
     "output_type": "stream",
     "text": [
      "5654\n"
     ]
    }
   ],
   "source": [
    "word = 'the'\n",
    "counter = 0\n",
    "f = open('Frankenstein.txt', 'r')\n",
    "for line in f.readlines():\n",
    "    counter += line.lower().count(word)\n",
    "    # if word in line.lower():\n",
    "    #     counter += 1\n",
    "        # print(f\"found {word}\")\n",
    "print(counter)\n",
    "f.close()\n",
    "\n"
   ]
  },
  {
   "cell_type": "code",
   "execution_count": 31,
   "id": "2afa0e25-2c80-4354-9057-56a83d4f8297",
   "metadata": {},
   "outputs": [
    {
     "data": {
      "text/plain": [
       "3"
      ]
     },
     "execution_count": 31,
     "metadata": {},
     "output_type": "execute_result"
    }
   ],
   "source": [
    "str = \"this is fine\"\n",
    "len(str.split(\" \"))\n",
    "\n"
   ]
  },
  {
   "cell_type": "code",
   "execution_count": 1,
   "id": "7012479b-67e6-4018-a9b3-6ab4ed8c3724",
   "metadata": {},
   "outputs": [
    {
     "name": "stdout",
     "output_type": "stream",
     "text": [
      "Frankenstein has 76,114 words.\n"
     ]
    }
   ],
   "source": [
    "f = open('Frankenstein.txt', 'r')\n",
    "numWords = 0\n",
    "for line in f.readlines():\n",
    "    numWords += len(line.split(\" \"))\n",
    "f.close()\n",
    "print(f\"Frankenstein has {numWords:,} words.\")\n",
    "\n"
   ]
  },
  {
   "cell_type": "code",
   "execution_count": null,
   "id": "6f146f46-0e99-4c51-8091-92c1568ab981",
   "metadata": {},
   "outputs": [],
   "source": []
  }
 ],
 "metadata": {
  "kernelspec": {
   "display_name": "Python 3 (ipykernel)",
   "language": "python",
   "name": "python3"
  },
  "language_info": {
   "codemirror_mode": {
    "name": "ipython",
    "version": 3
   },
   "file_extension": ".py",
   "mimetype": "text/x-python",
   "name": "python",
   "nbconvert_exporter": "python",
   "pygments_lexer": "ipython3",
   "version": "3.13.5"
  }
 },
 "nbformat": 4,
 "nbformat_minor": 5
}
