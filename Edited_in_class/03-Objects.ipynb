{
 "cells": [
  {
   "cell_type": "markdown",
   "id": "0112277c",
   "metadata": {},
   "source": [
    "# Objects\n",
    "\n",
    "Without going too deep in details, anything python manipulates is an *object*. We have discussed strings, ints, floats, and modules. All these are *objects*.\n",
    "A python object defines *methods*, that is built-in operations acting on themselves"
   ]
  },
  {
   "cell_type": "markdown",
   "id": "83351583",
   "metadata": {},
   "source": [
    "## 1. Strings again"
   ]
  },
  {
   "cell_type": "code",
   "execution_count": 1,
   "id": "c7243c02",
   "metadata": {},
   "outputs": [
    {
     "name": "stdout",
     "output_type": "stream",
     "text": [
      "HELLO\n"
     ]
    }
   ],
   "source": [
    "# like any python objects, strings have built-in 'methods':\n",
    "print('hello'.upper())"
   ]
  },
  {
   "cell_type": "code",
   "execution_count": 2,
   "id": "2e9dfcb2",
   "metadata": {},
   "outputs": [
    {
     "data": {
      "text/plain": [
       "'HELLO'"
      ]
     },
     "execution_count": 2,
     "metadata": {},
     "output_type": "execute_result"
    }
   ],
   "source": [
    "'hello'.upper()\n",
    "str.upper('hello')\n"
   ]
  },
  {
   "cell_type": "code",
   "execution_count": 3,
   "id": "667f664d-7dfb-4dfd-a7ee-1cae67db18c0",
   "metadata": {},
   "outputs": [
    {
     "name": "stdout",
     "output_type": "stream",
     "text": [
      "HELLO\n"
     ]
    }
   ],
   "source": [
    "a='hello'\n",
    "type(a)\n",
    "\n",
    "print(str.upper(a))"
   ]
  },
  {
   "cell_type": "code",
   "execution_count": 5,
   "id": "c8f1f0b2-7fb3-400e-b455-48a2528462c8",
   "metadata": {},
   "outputs": [
    {
     "name": "stdout",
     "output_type": "stream",
     "text": [
      "HELLO\n"
     ]
    }
   ],
   "source": [
    "dir(a)\n",
    "print(a.upper())"
   ]
  },
  {
   "cell_type": "code",
   "execution_count": 6,
   "id": "8a4056cb",
   "metadata": {},
   "outputs": [
    {
     "data": {
      "text/plain": [
       "['__add__',\n",
       " '__class__',\n",
       " '__contains__',\n",
       " '__delattr__',\n",
       " '__dir__',\n",
       " '__doc__',\n",
       " '__eq__',\n",
       " '__format__',\n",
       " '__ge__',\n",
       " '__getattribute__',\n",
       " '__getitem__',\n",
       " '__getnewargs__',\n",
       " '__getstate__',\n",
       " '__gt__',\n",
       " '__hash__',\n",
       " '__init__',\n",
       " '__init_subclass__',\n",
       " '__iter__',\n",
       " '__le__',\n",
       " '__len__',\n",
       " '__lt__',\n",
       " '__mod__',\n",
       " '__mul__',\n",
       " '__ne__',\n",
       " '__new__',\n",
       " '__reduce__',\n",
       " '__reduce_ex__',\n",
       " '__repr__',\n",
       " '__rmod__',\n",
       " '__rmul__',\n",
       " '__setattr__',\n",
       " '__sizeof__',\n",
       " '__str__',\n",
       " '__subclasshook__',\n",
       " 'capitalize',\n",
       " 'casefold',\n",
       " 'center',\n",
       " 'count',\n",
       " 'encode',\n",
       " 'endswith',\n",
       " 'expandtabs',\n",
       " 'find',\n",
       " 'format',\n",
       " 'format_map',\n",
       " 'index',\n",
       " 'isalnum',\n",
       " 'isalpha',\n",
       " 'isascii',\n",
       " 'isdecimal',\n",
       " 'isdigit',\n",
       " 'isidentifier',\n",
       " 'islower',\n",
       " 'isnumeric',\n",
       " 'isprintable',\n",
       " 'isspace',\n",
       " 'istitle',\n",
       " 'isupper',\n",
       " 'join',\n",
       " 'ljust',\n",
       " 'lower',\n",
       " 'lstrip',\n",
       " 'maketrans',\n",
       " 'partition',\n",
       " 'removeprefix',\n",
       " 'removesuffix',\n",
       " 'replace',\n",
       " 'rfind',\n",
       " 'rindex',\n",
       " 'rjust',\n",
       " 'rpartition',\n",
       " 'rsplit',\n",
       " 'rstrip',\n",
       " 'split',\n",
       " 'splitlines',\n",
       " 'startswith',\n",
       " 'strip',\n",
       " 'swapcase',\n",
       " 'title',\n",
       " 'translate',\n",
       " 'upper',\n",
       " 'zfill']"
      ]
     },
     "execution_count": 6,
     "metadata": {},
     "output_type": "execute_result"
    }
   ],
   "source": [
    "# you can see a list of methods acting on a string using the command 'dir'\n",
    "dir('hello')"
   ]
  },
  {
   "cell_type": "code",
   "execution_count": 7,
   "id": "d68cd826",
   "metadata": {},
   "outputs": [
    {
     "name": "stdout",
     "output_type": "stream",
     "text": [
      "Hello World\n",
      "True\n",
      "True\n",
      "False\n",
      "True\n"
     ]
    }
   ],
   "source": [
    "print('hello world'.title())\n",
    "print('hello world'.startswith('h'))\n",
    "print('hello world'.startswith('hello'))\n",
    "\n",
    "\n",
    "# you can cascade methods one after another\n",
    "print('hello world'.title().startswith('h'))\n",
    "print('hello world'.title().startswith('h'.upper()))"
   ]
  },
  {
   "cell_type": "code",
   "execution_count": null,
   "id": "e177b4a5-d224-44cd-84b7-d534a65834fb",
   "metadata": {},
   "outputs": [],
   "source": []
  },
  {
   "cell_type": "markdown",
   "id": "cfdad3d6",
   "metadata": {},
   "source": [
    "### 1.1 String indexing\n",
    "A *container* is an object that can hold an arbitrary number of other objects. Technically, a string is a container of characters.\n",
    "Containers can implement an *indexing* method denoted by square brackets ('[]').\n",
    "\n",
    "* `s[0]` is the first character in `s`, `s[1]` the second etc.\n",
    "* `s[-1]` is the last character in `s`, `s[-2]`, second to last etc\n",
    "* `len(s)` return the length of `s`, i.e. number of characters in `s`"
   ]
  },
  {
   "cell_type": "code",
   "execution_count": 14,
   "id": "853d9975",
   "metadata": {},
   "outputs": [
    {
     "name": "stdout",
     "output_type": "stream",
     "text": [
      "L i\n",
      "l u\n",
      "17\n"
     ]
    }
   ],
   "source": [
    "s = 'Life is beautiful'\n",
    "print(s[0], s[1])\n",
    "\n",
    "print(s[-1], s[-2])\n",
    "print(len(s))"
   ]
  },
  {
   "cell_type": "code",
   "execution_count": 17,
   "id": "395962fb-48b5-437c-9394-bfc16f1d5621",
   "metadata": {},
   "outputs": [
    {
     "name": "stdout",
     "output_type": "stream",
     "text": [
      "| fe  |\n"
     ]
    }
   ],
   "source": [
    "print('|',s[2:5],'|')\n",
    "# s[j:j] are character i to j-1 (counting from 0) of s"
   ]
  },
  {
   "cell_type": "code",
   "execution_count": null,
   "id": "987aa3a6-22ce-4f8b-93c5-fdb0f8e3fa29",
   "metadata": {},
   "outputs": [],
   "source": []
  },
  {
   "cell_type": "code",
   "execution_count": null,
   "id": "761f3d4f-25c4-437d-8c58-28968e4a234e",
   "metadata": {},
   "outputs": [],
   "source": []
  },
  {
   "cell_type": "code",
   "execution_count": null,
   "id": "cd8e443b-8291-45e1-9faa-29953632fed8",
   "metadata": {},
   "outputs": [],
   "source": []
  },
  {
   "cell_type": "code",
   "execution_count": null,
   "id": "23419f83-b4da-4312-8e6a-54ce7068941e",
   "metadata": {},
   "outputs": [],
   "source": []
  },
  {
   "cell_type": "markdown",
   "id": "83dd7254",
   "metadata": {},
   "source": [
    "### 1.2 F-string\n",
    "\n",
    "Nothing R-rated here... 'f' stands for 'formatted'!\n",
    "\n",
    "In f-strings, expression in curly braces ('{}') are *replacement fields* that are substituted."
   ]
  },
  {
   "cell_type": "code",
   "execution_count": 19,
   "id": "712e3541",
   "metadata": {},
   "outputs": [
    {
     "name": "stdout",
     "output_type": "stream",
     "text": [
      "A dog year is worth 7 human years\n"
     ]
    }
   ],
   "source": [
    "n = 7\n",
    "animal = 'dog'\n",
    "print(f'A {animal} year is worth {n} human years')"
   ]
  },
  {
   "cell_type": "markdown",
   "id": "cb109245",
   "metadata": {},
   "source": [
    "## 2. Containers\n",
    "Strings are just examples of a bigger concept: *containers*. Containers contain stuff (duh!). They share methods to refer to some of their content, or perform operations on them.\n",
    "Typical operations are \n",
    "* indexing `x[i]`\n",
    "* query `'M' in '1MP3'` \n",
    "* extension, concatenation, restriction, ..."
   ]
  },
  {
   "cell_type": "markdown",
   "id": "fb5d9c81",
   "metadata": {},
   "source": [
    "### 2.1. Lists\n",
    "\n",
    "A *list* is an *ordered* collection of objects (i.e. [1,2] and [2,1] are not equal).\n",
    "\n",
    "* Lists are defined using square brackets ('[]') or the `list()` operator. \n",
    "* The bracket operator can also be used to index. \n",
    "* ':' can be used to extract a list given a range of indices\n",
    "* the last index in a range is omitted, so l[1:3] means the list [l[1], l[2]]"
   ]
  },
  {
   "cell_type": "code",
   "execution_count": 25,
   "id": "828084ab",
   "metadata": {},
   "outputs": [
    {
     "name": "stdout",
     "output_type": "stream",
     "text": [
      "1\n",
      "[2, 3]\n",
      "[1, 2, 3, 4]\n"
     ]
    }
   ],
   "source": [
    "l = [1,2,3,4,5,6]\n",
    "\n",
    "print(l[0])\n",
    "print(l[1:3])\n",
    "print(l[:-2])"
   ]
  },
  {
   "cell_type": "markdown",
   "id": "c125c420",
   "metadata": {},
   "source": [
    "Another unusual feature of python is that not all element in a list must be the same type of objects:"
   ]
  },
  {
   "cell_type": "code",
   "execution_count": 26,
   "id": "1d226341",
   "metadata": {},
   "outputs": [
    {
     "name": "stdout",
     "output_type": "stream",
     "text": [
      "[1, 'two', (3+4j), [5, 6, 7]]\n"
     ]
    }
   ],
   "source": [
    "l = [1, 'two', 3+4j, [5,6,7]]\n",
    "\n",
    "print(l)"
   ]
  },
  {
   "cell_type": "markdown",
   "id": "eb96abcf",
   "metadata": {},
   "source": [
    "Other operations on lists:\n",
    "`count`, `sort`, `append`, `reverse`, `extend`, ... (see `type(list())` for a long list)\n",
    "\n",
    "Do they also work on strings (i.e. which ones are connected to the fact that lists are containers)?"
   ]
  },
  {
   "cell_type": "code",
   "execution_count": 36,
   "id": "876b4780-e4ac-4a76-a626-61292db60a01",
   "metadata": {},
   "outputs": [],
   "source": [
    "l1 = [1, 'two', 3+4j, [5,6,7]]\n",
    "len(l)\n",
    "l2 = [1,2,3,4,2,5,7,3,2,4,6,7689]\n"
   ]
  },
  {
   "cell_type": "code",
   "execution_count": 31,
   "id": "b0d759e5-a8f8-47d4-8681-5248a3684e65",
   "metadata": {},
   "outputs": [
    {
     "data": {
      "text/plain": [
       "3"
      ]
     },
     "execution_count": 31,
     "metadata": {},
     "output_type": "execute_result"
    }
   ],
   "source": [
    "l2.count(2)"
   ]
  },
  {
   "cell_type": "code",
   "execution_count": 35,
   "id": "4d626c97-e212-416d-9de4-01c025c9c428",
   "metadata": {},
   "outputs": [
    {
     "name": "stdout",
     "output_type": "stream",
     "text": [
      "[1, 2, 2, 2, 3, 3, 4, 4, 5, 6, 7, 7689]\n"
     ]
    }
   ],
   "source": [
    "l2.sort()\n",
    "print(l2\n",
    "     )\n",
    "\n"
   ]
  },
  {
   "cell_type": "code",
   "execution_count": 38,
   "id": "3ca1f962-afcb-4efd-a66e-dd3df97c051d",
   "metadata": {},
   "outputs": [
    {
     "data": {
      "text/plain": [
       "[1, 'two', (3+4j), [5, 6, 7], 1, 2, 3, 4, 2, 5, 7, 3, 2, 4, 6, 7689]"
      ]
     },
     "execution_count": 38,
     "metadata": {},
     "output_type": "execute_result"
    }
   ],
   "source": [
    "l1+l2\n"
   ]
  },
  {
   "cell_type": "markdown",
   "id": "ae18f7b8",
   "metadata": {},
   "source": [
    "### 2.2 Tuples\n",
    "\n",
    "tuples are pretty much like list except that they are immutable (i.e. they cannot be modified). They use regular parentheses '()'.\n",
    "I don't see much use for them in mathematical programming... I may be wrong though...\n"
   ]
  },
  {
   "cell_type": "code",
   "execution_count": null,
   "id": "3e9be079",
   "metadata": {},
   "outputs": [],
   "source": [
    "t = (1,2,'three')\n",
    "print(t[1])\n",
    "t[2] = -1"
   ]
  },
  {
   "cell_type": "markdown",
   "id": "5b0f8b4c",
   "metadata": {},
   "source": [
    "### 2.3 Sets\n",
    "Sets are unordered (just like in math) so they cannot be indexed.\n"
   ]
  },
  {
   "cell_type": "code",
   "execution_count": 40,
   "id": "dfc31b7a",
   "metadata": {
    "scrolled": true
   },
   "outputs": [
    {
     "name": "stdout",
     "output_type": "stream",
     "text": [
      "Union:         {1, 2, 3, 4, 'red', 'white'}\n",
      "Intersection:  {2}\n",
      "True\n",
      "True\n",
      "s1 is  {1, 2, 3, 4}\n",
      "s1 is now  {1, 2, 3, 4}\n",
      "s1 is now  {1, 2, 3, 4, '3'}\n"
     ]
    },
    {
     "ename": "TypeError",
     "evalue": "'set' object is not subscriptable",
     "output_type": "error",
     "traceback": [
      "\u001b[31m---------------------------------------------------------------------------\u001b[39m",
      "\u001b[31mTypeError\u001b[39m                                 Traceback (most recent call last)",
      "\u001b[36mCell\u001b[39m\u001b[36m \u001b[39m\u001b[32mIn[40]\u001b[39m\u001b[32m, line 16\u001b[39m\n\u001b[32m     14\u001b[39m s1.add(\u001b[33m'\u001b[39m\u001b[33m3\u001b[39m\u001b[33m'\u001b[39m)\n\u001b[32m     15\u001b[39m \u001b[38;5;28mprint\u001b[39m(\u001b[33m'\u001b[39m\u001b[33ms1 is now \u001b[39m\u001b[33m'\u001b[39m,s1)\n\u001b[32m---> \u001b[39m\u001b[32m16\u001b[39m \u001b[43ms1\u001b[49m\u001b[43m[\u001b[49m\u001b[32;43m2\u001b[39;49m\u001b[43m]\u001b[49m\n",
      "\u001b[31mTypeError\u001b[39m: 'set' object is not subscriptable"
     ]
    }
   ],
   "source": [
    "s1 = set([1,2,3,4])\n",
    "s2 = {'red', 'white', 2}\n",
    "\n",
    "print('Union:        ', s1 | s2) # in CS, '|' often denotes logical 'or'. One could also write si.union(s2) \n",
    "print('Intersection: ', s1 & s2) # '&' denotes 'and' \n",
    "print(2 in s1)\n",
    "print('red' in s2)\n",
    "print('r' in s2)\n",
    "\n",
    "print('s1 is ',s1)\n",
    "# Can you explain why the following commands produce different results?\n",
    "s1.add(3)\n",
    "print('s1 is now ',s1)\n",
    "\n",
    "s1.add('3')\n",
    "print('s1 is now ',s1)\n",
    "s1[2]\n"
   ]
  },
  {
   "cell_type": "code",
   "execution_count": 15,
   "id": "a9ad555b-abf6-4ef9-9dee-bbcafead88e9",
   "metadata": {},
   "outputs": [
    {
     "name": "stdout",
     "output_type": "stream",
     "text": [
      "Union:         {1, 2, 3, 4, 'red', 'white'}\n",
      "Intersection:  {2}\n",
      "True\n"
     ]
    }
   ],
   "source": [
    "s1 = set([1,2,3,4])\n",
    "s2 = {'red', 'white', 2}\n",
    "\n",
    "print('Union:        ', s1 | s2) # in CS, '|' often denotes logical 'or'. One could also write si.union(s2) \n",
    "print('Intersection: ', s1 & s2) # '&' denotes 'and' \n",
    "print(2 in s1)"
   ]
  },
  {
   "cell_type": "code",
   "execution_count": 16,
   "id": "1f593457-810f-4bf0-8692-4a9e642da94a",
   "metadata": {},
   "outputs": [
    {
     "name": "stdout",
     "output_type": "stream",
     "text": [
      "s1 & s2: {2}\n",
      "s1 | s2: {1, 2, 3, 4, 'red', 'white'}\n"
     ]
    }
   ],
   "source": [
    "# s1 & s2 is the set of items that and in s1 AND s2\n",
    "# s1 | s2 is the set of items that and in s1 OR s2\n",
    "print('s1 & s2:', s1 & s2)\n",
    "print('s1 | s2:', s1 | s2)"
   ]
  },
  {
   "cell_type": "code",
   "execution_count": null,
   "id": "9c7f2c9b-9509-4532-b8ec-c6878922db81",
   "metadata": {},
   "outputs": [],
   "source": []
  },
  {
   "cell_type": "markdown",
   "id": "572f6cda",
   "metadata": {},
   "source": [
    "## 5. Variables again, references, values"
   ]
  },
  {
   "cell_type": "code",
   "execution_count": 45,
   "id": "4f8789fb",
   "metadata": {},
   "outputs": [
    {
     "name": "stdout",
     "output_type": "stream",
     "text": [
      "a is  [1, 2, 3] \n",
      "b is  [1, 2, 3]\n",
      "a is now  [4, 5, 6] \n",
      "b is now  [1, 2, 3]\n"
     ]
    }
   ],
   "source": [
    "# Can you make sense of the following?\n",
    "a = [1,2,3]\n",
    "b = a\n",
    "print('a is ', a, '\\nb is ', b)\n",
    "a = [4,5,6]\n",
    "\n",
    "print('a is now ', a, '\\nb is now ', b)"
   ]
  },
  {
   "cell_type": "code",
   "execution_count": null,
   "id": "0c7dcfdb-086e-497f-9c2a-26b02160aac0",
   "metadata": {},
   "outputs": [],
   "source": [
    "a = 1\n",
    "b = a\n",
    "print(b)\n"
   ]
  },
  {
   "cell_type": "code",
   "execution_count": null,
   "id": "576e53eb-322d-4278-83c0-443cd9352d19",
   "metadata": {},
   "outputs": [],
   "source": []
  },
  {
   "cell_type": "code",
   "execution_count": 49,
   "id": "85a51ae9-4403-41f9-ad23-6415d56a6362",
   "metadata": {},
   "outputs": [
    {
     "name": "stdout",
     "output_type": "stream",
     "text": [
      "\n",
      "again:\n",
      "a is  [1, 2, 3] \n",
      "b is  [1, 2, 3]\n",
      "a is now  [1, 2, -1] \n",
      "b is now  [1, 2, -1]\n"
     ]
    }
   ],
   "source": [
    "# but \n",
    "print(\"\\nagain:\")\n",
    "a = [1,2,3]\n",
    "b = a\n",
    "\n",
    "print('a is ', a, '\\nb is ', b)\n",
    "#a.extend([9,8,7])\n",
    "a[2] = -1\n",
    "\n",
    "\n",
    "print('a is now ', a, '\\nb is now ', b)"
   ]
  },
  {
   "cell_type": "code",
   "execution_count": 50,
   "id": "fd636e2d-6b02-4c56-9e8c-aa22136ca4a3",
   "metadata": {},
   "outputs": [],
   "source": [
    "a = [1,2,3]\n",
    "b = a\n",
    "b[1] = 'new value'\n",
    "#\n",
    "print('a is now ', a, '\\nb is now ', b)\n"
   ]
  },
  {
   "cell_type": "code",
   "execution_count": 51,
   "id": "a1dc19d3-2710-4246-9b5e-6e68d6036f31",
   "metadata": {},
   "outputs": [
    {
     "name": "stdout",
     "output_type": "stream",
     "text": [
      "[1, 'new value', 3]\n"
     ]
    }
   ],
   "source": [
    "print(b)\n"
   ]
  },
  {
   "cell_type": "code",
   "execution_count": 52,
   "id": "f8bf3d13-cd6a-4ec6-9509-5b56156df158",
   "metadata": {},
   "outputs": [
    {
     "name": "stdout",
     "output_type": "stream",
     "text": [
      "[1, 'new value', 3]\n"
     ]
    }
   ],
   "source": [
    "print(a)\n"
   ]
  },
  {
   "cell_type": "code",
   "execution_count": null,
   "id": "2b9bb0b1-f5d3-417d-9249-a355a98108eb",
   "metadata": {},
   "outputs": [],
   "source": []
  }
 ],
 "metadata": {
  "kernelspec": {
   "display_name": "Python 3 (ipykernel)",
   "language": "python",
   "name": "python3"
  },
  "language_info": {
   "codemirror_mode": {
    "name": "ipython",
    "version": 3
   },
   "file_extension": ".py",
   "mimetype": "text/x-python",
   "name": "python",
   "nbconvert_exporter": "python",
   "pygments_lexer": "ipython3",
   "version": "3.13.5"
  }
 },
 "nbformat": 4,
 "nbformat_minor": 5
}
