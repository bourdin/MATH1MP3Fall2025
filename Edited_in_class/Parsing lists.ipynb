{
 "cells": [
  {
   "cell_type": "code",
   "execution_count": 14,
   "id": "1ca0a3e7-f0df-4e87-b99a-5d62aea1d677",
   "metadata": {},
   "outputs": [
    {
     "name": "stdout",
     "output_type": "stream",
     "text": [
      "[0, 3, 6, 9]\n"
     ]
    }
   ],
   "source": [
    "L1 = [i*3 for i in range(4)]\n",
    "L2 = [i*7 for i in range(4\n",
    "                        )]\n",
    "print(L1)\n"
   ]
  },
  {
   "cell_type": "markdown",
   "id": "8bb57061-1a75-4dec-bbbe-1a26b21083bd",
   "metadata": {},
   "source": [
    "$\\| L\\| = \\sqrt{\\sum_{i=0}^M L_i^2}$\n",
    "\n"
   ]
  },
  {
   "cell_type": "code",
   "execution_count": 6,
   "id": "cac19123-5170-4981-a9ee-93d1cb0b640f",
   "metadata": {},
   "outputs": [
    {
     "name": "stdout",
     "output_type": "stream",
     "text": [
      "50.6458290484024\n"
     ]
    }
   ],
   "source": [
    "# Better way (plus works even if L1 is a set)\n",
    "import math\n",
    "norm = 0\n",
    "for l in L1:\n",
    "    norm += l**2\n",
    "norm = math.sqrt(norm)\n",
    "print(norm)\n"
   ]
  },
  {
   "cell_type": "code",
   "execution_count": 8,
   "id": "0aab87c6-b14d-46fe-a104-9e0aa4a1548c",
   "metadata": {},
   "outputs": [
    {
     "name": "stdout",
     "output_type": "stream",
     "text": [
      "50.6458290484024\n"
     ]
    }
   ],
   "source": [
    "# not as elegant way\n",
    "norm = 0\n",
    "for i in range(len(L1)):\n",
    "    norm += L1[i]**2\n",
    "norm = math.sqrt(norm)\n",
    "print(norm)\n",
    "\n"
   ]
  },
  {
   "cell_type": "markdown",
   "id": "44cbe5bd-336a-4099-b54e-d5cc1814f7ce",
   "metadata": {},
   "source": [
    "$L_1 \\cdot L_2 = \\sum_{i=0}^N L_1[i] * L_2[i]$\n",
    "\n"
   ]
  },
  {
   "cell_type": "code",
   "execution_count": 10,
   "id": "f56cd80f-2e87-4bd6-9d0a-2883e371607a",
   "metadata": {},
   "outputs": [
    {
     "name": "stdout",
     "output_type": "stream",
     "text": [
      "5985\n"
     ]
    }
   ],
   "source": [
    "dotProduct = 0\n",
    "for i in range(len(L1)):\n",
    "    dotProduct += L1[i] * L2[i]\n",
    "print(dotProduct)\n",
    "\n"
   ]
  },
  {
   "cell_type": "code",
   "execution_count": 13,
   "id": "a3d8ed55-c7f6-414a-a1a9-ec8c2ae44aa7",
   "metadata": {},
   "outputs": [
    {
     "name": "stdout",
     "output_type": "stream",
     "text": [
      "5985\n"
     ]
    }
   ],
   "source": [
    "# A more elegant way:\n",
    "dotProduct = 0\n",
    "for l1, l2 in zip(L1, L2):\n",
    "    dotProduct += l1 * l2\n",
    "print(dotProduct)"
   ]
  },
  {
   "cell_type": "code",
   "execution_count": 16,
   "id": "cf47605e-d819-4e8c-b82d-326fcc427f99",
   "metadata": {},
   "outputs": [
    {
     "name": "stdout",
     "output_type": "stream",
     "text": [
      "0 0\n",
      "0 7\n",
      "0 14\n",
      "0 21\n",
      "3 0\n",
      "3 7\n",
      "3 14\n",
      "3 21\n",
      "6 0\n",
      "6 7\n",
      "6 14\n",
      "6 21\n",
      "9 0\n",
      "9 7\n",
      "9 14\n",
      "9 21\n"
     ]
    }
   ],
   "source": [
    "# nested loops\n",
    "for l1 in L1:\n",
    "    for l2 in L2:\n",
    "        # This is executed N^2 times\n",
    "        print(l1, l2)    "
   ]
  },
  {
   "cell_type": "code",
   "execution_count": 15,
   "id": "faa4af08-ded0-44ee-b225-fbdec4bb11c4",
   "metadata": {},
   "outputs": [
    {
     "name": "stdout",
     "output_type": "stream",
     "text": [
      "0 0\n",
      "3 7\n",
      "6 14\n",
      "9 21\n"
     ]
    }
   ],
   "source": [
    "for l1, l2 in zip(L1, L2):\n",
    "    # this is executed N times\n",
    "    print(l1, l2)"
   ]
  },
  {
   "cell_type": "code",
   "execution_count": 19,
   "id": "3eca0e16-4b2e-4792-9682-29c88ae09960",
   "metadata": {},
   "outputs": [
    {
     "name": "stdout",
     "output_type": "stream",
     "text": [
      "285\n",
      "285\n"
     ]
    }
   ],
   "source": [
    "M = [[1,2,3], \n",
    "     [4,5,6],\n",
    "     [7,8,9]]\n",
    "n = 3\n",
    "# going through all items in M :\n",
    "# compute the sum of the square of all entries\n",
    "sumSquare = 0\n",
    "for i in range(n):\n",
    "    for j in range(n):\n",
    "        sumSquare += M[i][j]**2\n",
    "\n",
    "print(sumSquare)\n",
    "sumSquare = 0\n",
    "for row in M:\n",
    "    for m in row:\n",
    "        sumSquare += m**2\n",
    "print(sumSquare)\n",
    "\n"
   ]
  },
  {
   "cell_type": "code",
   "execution_count": 20,
   "id": "edc20066-6a2e-4cca-a4df-814b8027d86c",
   "metadata": {},
   "outputs": [
    {
     "name": "stdout",
     "output_type": "stream",
     "text": [
      "15\n"
     ]
    }
   ],
   "source": [
    "trace = 0\n",
    "for i in range(n):\n",
    "    for j in range(n):\n",
    "        if i == j:\n",
    "            trace += M[i][j]\n",
    "print(trace)\n"
   ]
  },
  {
   "cell_type": "code",
   "execution_count": 21,
   "id": "d17e6734-f498-479e-b7c6-ab3ea3ce9d96",
   "metadata": {},
   "outputs": [
    {
     "name": "stdout",
     "output_type": "stream",
     "text": [
      "15\n"
     ]
    }
   ],
   "source": [
    "trace = 0\n",
    "for i in range(n):\n",
    "    trace += M[i][i]\n",
    "print(trace)"
   ]
  },
  {
   "cell_type": "code",
   "execution_count": 27,
   "id": "36bc9c38-080d-48f1-849a-5d7e70d9728e",
   "metadata": {},
   "outputs": [
    {
     "name": "stdout",
     "output_type": "stream",
     "text": [
      "[2, 4, 6]\n"
     ]
    }
   ],
   "source": [
    "# List comprehension are the best way to apply an operation to each terms in a list\n",
    "L = [1,2,3]\n",
    "L2 = [2*l for l in L]\n",
    "print(L2)\n"
   ]
  },
  {
   "cell_type": "code",
   "execution_count": null,
   "id": "b3afd90b-2565-47a5-a3d5-1c672d01434a",
   "metadata": {},
   "outputs": [],
   "source": []
  }
 ],
 "metadata": {
  "kernelspec": {
   "display_name": "Python 3 (ipykernel)",
   "language": "python",
   "name": "python3"
  },
  "language_info": {
   "codemirror_mode": {
    "name": "ipython",
    "version": 3
   },
   "file_extension": ".py",
   "mimetype": "text/x-python",
   "name": "python",
   "nbconvert_exporter": "python",
   "pygments_lexer": "ipython3",
   "version": "3.13.5"
  }
 },
 "nbformat": 4,
 "nbformat_minor": 5
}
