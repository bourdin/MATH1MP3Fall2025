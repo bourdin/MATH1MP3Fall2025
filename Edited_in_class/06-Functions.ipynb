{
 "cells": [
  {
   "cell_type": "markdown",
   "id": "914631bd",
   "metadata": {},
   "source": [
    "### Chapter 6: Functions\n",
    "A *function* is a named, reusable block of code that performs a task when *called*.\n",
    "\n",
    "Like in mathematics functions, given one or several inputs functions returns one or several outputs. The input of a function (which we would call *independent variables* in a mathematical function) are called *arguments*.\n",
    "\n",
    "Functions are an essential part of programming. They promote modularity and code reuse."
   ]
  },
  {
   "cell_type": "markdown",
   "id": "a7187200",
   "metadata": {},
   "source": [
    "## 6.1 defining a function \n",
    "General syntax for a function:\n",
    "```\n",
    "def <function_name>(<arguments>):\n",
    "    \"\"\" docstring: an explanation of what the function does\n",
    "        possibly spread over multiple lines.\n",
    "        This will be printed when calling help(function_name).\n",
    "\n",
    "        Typically, the docstring should start with a one sentence description of what the function does.\n",
    "        Followed by a description of what each argument is\n",
    "        Followed by a description of what is returned by the function\"\"\"\n",
    "    :\n",
    "    :\n",
    "    return <one or several values or nothing>\n",
    "```\n",
    "example:\n",
    "```\n",
    "def square(x):\n",
    "   \"\"\" \n",
    "   Returns the square of its argument.\n",
    "   input: x, the quantity to be squared\n",
    "   output: x**2\n",
    "   \"\"\"\n",
    "   return x**2\n",
    "```\n",
    "\n",
    "Note that the code *inside* the function is not executed here. All we did was to create a new python object: a rule that can be applied to any python object for which the operation `**2` is defined. This is another example situation (like loops and conditionals) where the logical order on which operations are executed in a program may not be the same as the order in which they are written in the program."
   ]
  },
  {
   "cell_type": "code",
   "execution_count": 2,
   "id": "67110132",
   "metadata": {},
   "outputs": [
    {
     "name": "stdout",
     "output_type": "stream",
     "text": [
      "Help on function square in module __main__:\n",
      "\n",
      "square(x)\n",
      "    Returns the square of its argument.\n",
      "    input: x, the quantity to be squared\n",
      "    output: x**2\n",
      "\n"
     ]
    }
   ],
   "source": [
    "def square(x):\n",
    "   \"\"\" \n",
    "    Returns the square of its argument.\n",
    "    input: x, the quantity to be squared\n",
    "    output: x**2\n",
    "   \"\"\"\n",
    "   return x**2\n",
    "help(square)\n"
   ]
  },
  {
   "cell_type": "code",
   "execution_count": 3,
   "id": "6b788bb7-3a49-4869-a876-9d6e20744802",
   "metadata": {},
   "outputs": [
    {
     "data": {
      "text/plain": [
       "16"
      ]
     },
     "execution_count": 3,
     "metadata": {},
     "output_type": "execute_result"
    }
   ],
   "source": [
    "square(4)\n",
    "\n"
   ]
  },
  {
   "cell_type": "code",
   "execution_count": 4,
   "id": "59191077",
   "metadata": {},
   "outputs": [
    {
     "name": "stdout",
     "output_type": "stream",
     "text": [
      "4\n",
      "1 1.0 (-1+0j)\n"
     ]
    }
   ],
   "source": [
    "# Once a function has been created, it can be 'called' with its arguments are passed between parentheses\n",
    "z = square(2)\n",
    "print(z)\n",
    "print(square(-1), square(-1.), square(0+1j))\n"
   ]
  },
  {
   "cell_type": "code",
   "execution_count": 5,
   "id": "322dfb7b",
   "metadata": {},
   "outputs": [
    {
     "ename": "TypeError",
     "evalue": "unsupported operand type(s) for ** or pow(): 'str' and 'int'",
     "output_type": "error",
     "traceback": [
      "\u001b[31m---------------------------------------------------------------------------\u001b[39m",
      "\u001b[31mTypeError\u001b[39m                                 Traceback (most recent call last)",
      "\u001b[36mCell\u001b[39m\u001b[36m \u001b[39m\u001b[32mIn[5]\u001b[39m\u001b[32m, line 1\u001b[39m\n\u001b[32m----> \u001b[39m\u001b[32m1\u001b[39m \u001b[38;5;28mprint\u001b[39m(\u001b[43msquare\u001b[49m\u001b[43m(\u001b[49m\u001b[33;43m\"\u001b[39;49m\u001b[33;43moulala\u001b[39;49m\u001b[33;43m\"\u001b[39;49m\u001b[43m)\u001b[49m)\n",
      "\u001b[36mCell\u001b[39m\u001b[36m \u001b[39m\u001b[32mIn[2]\u001b[39m\u001b[32m, line 7\u001b[39m, in \u001b[36msquare\u001b[39m\u001b[34m(x)\u001b[39m\n\u001b[32m      1\u001b[39m \u001b[38;5;28;01mdef\u001b[39;00m\u001b[38;5;250m \u001b[39m\u001b[34msquare\u001b[39m(x):\n\u001b[32m      2\u001b[39m \u001b[38;5;250m   \u001b[39m\u001b[33;03m\"\"\" \u001b[39;00m\n\u001b[32m      3\u001b[39m \u001b[33;03m    Returns the square of its argument.\u001b[39;00m\n\u001b[32m      4\u001b[39m \u001b[33;03m    input: x, the quantity to be squared\u001b[39;00m\n\u001b[32m      5\u001b[39m \u001b[33;03m    output: x**2\u001b[39;00m\n\u001b[32m      6\u001b[39m \u001b[33;03m   \"\"\"\u001b[39;00m\n\u001b[32m----> \u001b[39m\u001b[32m7\u001b[39m    \u001b[38;5;28;01mreturn\u001b[39;00m \u001b[43mx\u001b[49m\u001b[43m*\u001b[49m\u001b[43m*\u001b[49m\u001b[32;43m2\u001b[39;49m\n",
      "\u001b[31mTypeError\u001b[39m: unsupported operand type(s) for ** or pow(): 'str' and 'int'"
     ]
    }
   ],
   "source": [
    "print(square(\"oulala\"))\n"
   ]
  },
  {
   "cell_type": "code",
   "execution_count": 6,
   "id": "36e6d675-1e98-4544-8ac2-5dfecea2b203",
   "metadata": {},
   "outputs": [
    {
     "name": "stdout",
     "output_type": "stream",
     "text": [
      "5\n",
      "hello world!\n"
     ]
    }
   ],
   "source": [
    "def sum(a,b):\n",
    "    \"returns the sum of a and b\"\n",
    "    return a+b\n",
    "print(sum(2,3))\n",
    "print(sum(\"hello\", \" world!\"))\n"
   ]
  },
  {
   "cell_type": "markdown",
   "id": "703c11ba",
   "metadata": {},
   "source": [
    "## 6.2 Functions can take and return more than one argument"
   ]
  },
  {
   "cell_type": "code",
   "execution_count": 7,
   "id": "348c8036",
   "metadata": {},
   "outputs": [],
   "source": [
    "def sumAndProduct(x,y):\n",
    "    return x+y,x*y"
   ]
  },
  {
   "cell_type": "code",
   "execution_count": 10,
   "id": "2e510ba1",
   "metadata": {},
   "outputs": [
    {
     "name": "stdout",
     "output_type": "stream",
     "text": [
      "3 2\n"
     ]
    }
   ],
   "source": [
    "s, p = sumAndProduct(1,2) \n",
    "print(s, p)"
   ]
  },
  {
   "cell_type": "code",
   "execution_count": 14,
   "id": "22aeed51",
   "metadata": {},
   "outputs": [
    {
     "name": "stdout",
     "output_type": "stream",
     "text": [
      "(3, 2)\n",
      "3 2\n"
     ]
    }
   ],
   "source": [
    "# Note the difference between\n",
    "x = sumAndProduct(1,2)\n",
    "print(x)\n",
    "\n",
    "(x,y) = sumAndProduct(1,2)\n",
    "# or x,y = sumAndProduct(1,2)\n",
    "print(x,y)\n"
   ]
  },
  {
   "cell_type": "markdown",
   "id": "2899fce4",
   "metadata": {},
   "source": [
    "## 6.3 Scope\n",
    "\n",
    "Variables defined *inside* a function are *local* to the function. They cannot be accessed from outside the function, unless they are `return`ed. We say that the *scope* of these variable is limited to the function \n"
   ]
  },
  {
   "cell_type": "code",
   "execution_count": null,
   "id": "5fd9a5bb",
   "metadata": {},
   "outputs": [],
   "source": [
    "def f(x):\n",
    "    myLocalVar = x\n",
    "    return 2*x\n",
    "print(myLocalVar)"
   ]
  },
  {
   "cell_type": "code",
   "execution_count": null,
   "id": "c47086a8",
   "metadata": {},
   "outputs": [],
   "source": [
    "x = 2\n",
    "def f(y):\n",
    "    print(f\"Inside the function: x is {x}\")\n",
    "    print(f\"Inside the function: y is {y}\")\n",
    "    return 2*y\n",
    "\n",
    "z = f(2)"
   ]
  },
  {
   "cell_type": "markdown",
   "id": "815d01d9",
   "metadata": {},
   "source": [
    "The arguments of a function are not real variable (just like independent variables in a math functions are not real variables).\n",
    "If a global variable of the same name exists outside the function ('out of scope'), it cannot be accessed."
   ]
  },
  {
   "cell_type": "code",
   "execution_count": null,
   "id": "3a40f81d",
   "metadata": {},
   "outputs": [],
   "source": [
    "x = -1\n",
    "y = 3\n",
    "z = f(8)"
   ]
  },
  {
   "cell_type": "markdown",
   "id": "161007b2",
   "metadata": {},
   "source": [
    "As a general rule, **avoid global variables as much as possible**. Make sure that any variable that is needed inside a function is passed as an argument of the function."
   ]
  },
  {
   "cell_type": "markdown",
   "id": "2e72a357",
   "metadata": {},
   "source": [
    "## 6.4 Keyword arguments\n",
    "It is possible to pass variable 'by keyword' in order to make a code easier to read (this is really useful when a function has many arguments). 'Positional arguments' need to be placed first, followed by 'keyword arguments'."
   ]
  },
  {
   "cell_type": "code",
   "execution_count": 8,
   "id": "71be8008",
   "metadata": {},
   "outputs": [
    {
     "name": "stdout",
     "output_type": "stream",
     "text": [
      "Inside the function: x is 1\n",
      "Inside the function: y is 2\n",
      "(0.5, 2)\n",
      "Inside the function: x is 2\n",
      "Inside the function: y is 1\n",
      "(2.0, 2)\n",
      "Inside the function: x is 1\n",
      "Inside the function: y is 2\n",
      "(0.5, 2)\n",
      "Inside the function: x is 1\n",
      "Inside the function: y is 2\n",
      "(0.5, 2)\n",
      "Inside the function: x is 1\n",
      "Inside the function: y is 2\n",
      "(0.5, 2)\n"
     ]
    }
   ],
   "source": [
    "def ratioAndProduct(x,y):\n",
    "    print(f\"Inside the function: x is {x}\")\n",
    "    print(f\"Inside the function: y is {y}\")\n",
    "    if y != 0:\n",
    "        return x/y, x*y\n",
    "    else:\n",
    "        return x*y\n",
    "print(ratioAndProduct(1,2))\n",
    "print(ratioAndProduct(2,1))\n",
    "# but\n",
    "print(ratioAndProduct(x = 1, y = 2))\n",
    "print(ratioAndProduct(y = 2, x = 1))\n",
    "print(ratioAndProduct(1,y=2))"
   ]
  },
  {
   "cell_type": "code",
   "execution_count": 9,
   "id": "ebfa34c4",
   "metadata": {},
   "outputs": [
    {
     "ename": "TypeError",
     "evalue": "ratioAndProduct() got multiple values for argument 'x'",
     "output_type": "error",
     "traceback": [
      "\u001b[31m---------------------------------------------------------------------------\u001b[39m",
      "\u001b[31mTypeError\u001b[39m                                 Traceback (most recent call last)",
      "\u001b[36mCell\u001b[39m\u001b[36m \u001b[39m\u001b[32mIn[9]\u001b[39m\u001b[32m, line 2\u001b[39m\n\u001b[32m      1\u001b[39m \u001b[38;5;66;03m# Why does the following give an error message?\u001b[39;00m\n\u001b[32m----> \u001b[39m\u001b[32m2\u001b[39m \u001b[38;5;28mprint\u001b[39m(\u001b[43mratioAndProduct\u001b[49m\u001b[43m(\u001b[49m\u001b[32;43m1\u001b[39;49m\u001b[43m,\u001b[49m\u001b[43mx\u001b[49m\u001b[43m=\u001b[49m\u001b[32;43m2\u001b[39;49m\u001b[43m)\u001b[49m)\n",
      "\u001b[31mTypeError\u001b[39m: ratioAndProduct() got multiple values for argument 'x'"
     ]
    }
   ],
   "source": [
    "# Why does the following give an error message?\n",
    "print(ratioAndProduct(1,x=2))"
   ]
  },
  {
   "cell_type": "markdown",
   "id": "a5fa7423",
   "metadata": {},
   "source": [
    "Arguments can be given a default value, or be made optional by assigning them a default value of `None`"
   ]
  },
  {
   "cell_type": "code",
   "execution_count": 10,
   "id": "bcf260e2",
   "metadata": {},
   "outputs": [
    {
     "name": "stdout",
     "output_type": "stream",
     "text": [
      "2\n",
      "3\n",
      "21\n"
     ]
    }
   ],
   "source": [
    "def g(x,y=2):\n",
    "    return x*y\n",
    "print(g(1))\n",
    "print(g(1,3))\n",
    "print(g(x=3,y=7))"
   ]
  },
  {
   "cell_type": "code",
   "execution_count": null,
   "id": "d28d8029",
   "metadata": {},
   "outputs": [],
   "source": [
    "def h(x,y=None):\n",
    "    if y:\n",
    "        return x + y\n",
    "    else:\n",
    "        return x\n",
    "\n",
    "print(h(1))\n",
    "print(h(1,3))  "
   ]
  },
  {
   "cell_type": "markdown",
   "id": "60da8901-c1cd-44e3-b87b-61651b2e8075",
   "metadata": {},
   "source": [
    "## 6.5 Recursion\n",
    "A *recursive* function is a function that calls itself.\n",
    "\n",
    "Ex. $n! = n (n-1)!$ and $0! = 1$"
   ]
  },
  {
   "cell_type": "code",
   "execution_count": 14,
   "id": "6337aa4d-85ad-4876-9d96-2a7e1781de1f",
   "metadata": {},
   "outputs": [],
   "source": [
    "def factorial(n):\n",
    "    \"Returns n!, given n\"\n"
   ]
  },
  {
   "cell_type": "code",
   "execution_count": 16,
   "id": "65445625-be25-4c29-932a-0e70a605f231",
   "metadata": {},
   "outputs": [
    {
     "data": {
      "text/plain": [
       "120"
      ]
     },
     "execution_count": 16,
     "metadata": {},
     "output_type": "execute_result"
    }
   ],
   "source": [
    "factorial(5)"
   ]
  },
  {
   "cell_type": "markdown",
   "id": "4d4f309b-4f2d-44fa-89e1-b29f7376bed6",
   "metadata": {},
   "source": [
    "The danger with recursivity is that the complexity can grow very quickly:\n",
    "\n",
    "\n",
    "ex: the Fibonacci sequence: $u_0 = u_1 = 1$, $u_{n} = u_{n-1} + n_{n-2}$."
   ]
  },
  {
   "cell_type": "code",
   "execution_count": 27,
   "id": "a3fae0cb-43ea-44cd-98de-ab113058c863",
   "metadata": {},
   "outputs": [],
   "source": [
    "def Fibonacci(n):\n",
    "    if n == 0 or n == 1:\n",
    "        return 1\n",
    "    else:\n",
    "        return Fibonacci(n-1) + Fibonacci(n-1)"
   ]
  },
  {
   "cell_type": "code",
   "execution_count": 28,
   "id": "2b186b0e-78dd-480c-85a1-50334351fab1",
   "metadata": {},
   "outputs": [
    {
     "data": {
      "text/plain": [
       "2"
      ]
     },
     "execution_count": 28,
     "metadata": {},
     "output_type": "execute_result"
    }
   ],
   "source": [
    "Fibonacci(2)"
   ]
  },
  {
   "cell_type": "markdown",
   "id": "b1279056-a66b-48b7-b8c5-59aa63a82443",
   "metadata": {},
   "source": [
    "## 6.6 A function's argument can be any python object (even another function)\n",
    "\n",
    "ex: $f'(a) = \\lim_{h\\to 0} \\frac{f(a+h) - f(a)}{h}$"
   ]
  },
  {
   "cell_type": "code",
   "execution_count": 33,
   "id": "dedb4ad0-c658-4605-a170-480399d3a852",
   "metadata": {},
   "outputs": [
    {
     "name": "stdout",
     "output_type": "stream",
     "text": [
      "16.000000982785423\n"
     ]
    }
   ],
   "source": [
    "def derivative(f,a,h):\n",
    "    return (f(a+h)-f(a)) / h\n",
    "\n",
    "def myFunction(x):\n",
    "    return x**2\n",
    "\n",
    "print(derivative(myFunction, 8, 1.e-6))\n"
   ]
  },
  {
   "cell_type": "code",
   "execution_count": 35,
   "id": "4392fee6-e905-4a2e-849d-25bf55e09564",
   "metadata": {},
   "outputs": [
    {
     "name": "stdout",
     "output_type": "stream",
     "text": [
      "d sin(3.141592653589793)/dx ~ -0.9983341664682823 (-1.0)\n",
      "d sin(3.141592653589793)/dx ~ -0.9999833334166452 (-1.0)\n",
      "d sin(3.141592653589793)/dx ~ -0.9999998333332315 (-1.0)\n",
      "d sin(3.141592653589793)/dx ~ -0.9999999983354435 (-1.0)\n",
      "d sin(3.141592653589793)/dx ~ -0.9999999999898844 (-1.0)\n"
     ]
    }
   ],
   "source": [
    "import math\n",
    "a = math.pi\n",
    "for h in [1e-1, 1e-2, 1e-3, 1e-4, 1e-5]:\n",
    "    print(f\"d sin({a})/dx ~ {derivative(math.sin, a, h)} ({math.cos(a)})\")"
   ]
  },
  {
   "cell_type": "markdown",
   "id": "87c8f2d3",
   "metadata": {},
   "source": [
    "## 6.7 Modifying arguments ('side effects')\n",
    "\n",
    "In Python, a variable is a name that refers to an object stored in memory, aka an object reference, so Python uses a 'pass-by-object-reference' system. If an argument is changed in a function, the changes are kept or lost depending on the object's mutability. A *mutable object* can be modified after creation. A function's changes to the object then appear outside the function. An *immutable object* cannot be modified after creation. So a function must make a local copy to modify, and the local copy's changes don't appear outside the function."
   ]
  },
  {
   "cell_type": "code",
   "execution_count": null,
   "id": "24288028-26ee-45bb-96a0-ab12ff4b36ff",
   "metadata": {},
   "outputs": [],
   "source": []
  },
  {
   "cell_type": "code",
   "execution_count": null,
   "id": "18aa434e",
   "metadata": {},
   "outputs": [],
   "source": [
    "x = 1\n",
    "y = 2\n",
    "z = 3\n",
    "def f(x,y):\n",
    "    y = -1\n",
    "    z = 10\n",
    "    print(f\"in function: x {x}, y {y}, z {z}\")\n",
    "    return z\n",
    "\n",
    "t = f(x,y)\n",
    "print(f\"after function: x {x}, y {y}, z {z}\")"
   ]
  },
  {
   "cell_type": "code",
   "execution_count": null,
   "id": "18b27111",
   "metadata": {},
   "outputs": [],
   "source": [
    "myList = [1,2,3,4]\n",
    "def listFunction1(l):\n",
    "    l = [-1,-2,-3,-4]\n",
    "    print(f\"inside the function: {l}\")\n",
    "    return 0\n",
    "\n",
    "print(f\"before the function: {myList}\")\n",
    "z = listFunction1(myList)\n",
    "print(f\"after the function: {myList}\")\n"
   ]
  },
  {
   "cell_type": "code",
   "execution_count": null,
   "id": "91bf12b3",
   "metadata": {},
   "outputs": [],
   "source": [
    "myList = [1,2,3,4]\n",
    "def listFunction2(l):\n",
    "    for i in range(len(l)):\n",
    "        l[i] += i\n",
    "    print(f\"inside the function: {l}\")\n",
    "    return 0\n",
    "\n",
    "print(f\"before the function: {myList}\")\n",
    "z = listFunction2(myList)\n",
    "print(f\"after the function: {myList}\")\n"
   ]
  },
  {
   "cell_type": "markdown",
   "id": "02df41e9",
   "metadata": {},
   "source": []
  }
 ],
 "metadata": {
  "kernelspec": {
   "display_name": "Python 3 (ipykernel)",
   "language": "python",
   "name": "python3"
  },
  "language_info": {
   "codemirror_mode": {
    "name": "ipython",
    "version": 3
   },
   "file_extension": ".py",
   "mimetype": "text/x-python",
   "name": "python",
   "nbconvert_exporter": "python",
   "pygments_lexer": "ipython3",
   "version": "3.13.5"
  }
 },
 "nbformat": 4,
 "nbformat_minor": 5
}
