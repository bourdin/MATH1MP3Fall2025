{
 "cells": [
  {
   "cell_type": "code",
   "execution_count": 1,
   "id": "24e4a5c5-66f2-41ac-ab38-e2117723f59e",
   "metadata": {},
   "outputs": [
    {
     "name": "stdout",
     "output_type": "stream",
     "text": [
      "Union:         {'white', 1, 2, 3, 4, 'red'}\n",
      "Intersection:  {2}\n",
      "True\n"
     ]
    }
   ],
   "source": [
    "s1 = set([1,2,3,4])\n",
    "s2 = {'red', 'white', 2}\n",
    "\n",
    "print('Union:        ', s1 | s2) # in CS, '|' often denotes logical 'or'. One could also write si.union(s2) \n",
    "print('Intersection: ', s1 & s2) # '&' denotes 'and' \n",
    "print(2 in s1)\n"
   ]
  },
  {
   "cell_type": "code",
   "execution_count": 3,
   "id": "87ac4de6-3d0b-48c8-8c38-0b10f74da790",
   "metadata": {},
   "outputs": [],
   "source": [
    "# s1 & s2 is the set of items that and in s1 AND s2\n",
    "# s1 | s2 is the set of items that and in s1 OR s2"
   ]
  },
  {
   "cell_type": "code",
   "execution_count": 5,
   "id": "8ccd1ce7-7ec2-41ec-aabd-d843526c577c",
   "metadata": {},
   "outputs": [
    {
     "name": "stdout",
     "output_type": "stream",
     "text": [
      "{2}\n",
      "{'white', 1, 2, 3, 4, 'red'}\n"
     ]
    }
   ],
   "source": [
    "print(s1 & s2)\n",
    "print(s1| s2)"
   ]
  },
  {
   "cell_type": "code",
   "execution_count": 6,
   "id": "e5897bf2-6b09-42d7-8217-39f6d5586bba",
   "metadata": {},
   "outputs": [
    {
     "name": "stdout",
     "output_type": "stream",
     "text": [
      "False\n"
     ]
    }
   ],
   "source": [
    "print('r' in s2)\n"
   ]
  },
  {
   "cell_type": "code",
   "execution_count": null,
   "id": "f94d76a6-b70f-44ec-b0cf-f722349f8118",
   "metadata": {},
   "outputs": [],
   "source": []
  }
 ],
 "metadata": {
  "kernelspec": {
   "display_name": "Python 3 (ipykernel)",
   "language": "python",
   "name": "python3"
  },
  "language_info": {
   "codemirror_mode": {
    "name": "ipython",
    "version": 3
   },
   "file_extension": ".py",
   "mimetype": "text/x-python",
   "name": "python",
   "nbconvert_exporter": "python",
   "pygments_lexer": "ipython3",
   "version": "3.13.5"
  }
 },
 "nbformat": 4,
 "nbformat_minor": 5
}
