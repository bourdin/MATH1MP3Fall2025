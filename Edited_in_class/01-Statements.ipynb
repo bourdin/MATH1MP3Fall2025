{
 "cells": [
  {
   "cell_type": "markdown",
   "id": "f322571b",
   "metadata": {},
   "source": [
    "# Chapter I: Statements "
   ]
  },
  {
   "cell_type": "markdown",
   "id": "795388e0",
   "metadata": {},
   "source": [
    "*Programs* consist of statements to be run one after the other. A *statement* describes some action to be carried out.\n",
    "The statement `print(\"Good morning\")` instructs Python to output the message \"Good morning\" to the user. The statement `count = 0` instructs Python to assign the integer 0 to the variable `count`."
   ]
  },
  {
   "cell_type": "markdown",
   "id": "83de3c59",
   "metadata": {},
   "source": [
    "### 1. Input / Output\n",
    "\n",
    "Think of a computer program as a cooking recipe.\n",
    "* The `input` is what we bring to the program (or one step of a program).\n",
    "* The `output` is what comes out of the program (or one step of a program)."
   ]
  },
  {
   "cell_type": "code",
   "execution_count": null,
   "id": "579aaa0e",
   "metadata": {},
   "outputs": [],
   "source": [
    "# here, \"hello world\" is the input of the command `print`\n",
    "print(\"Hello world\")\n"
   ]
  },
  {
   "cell_type": "code",
   "execution_count": null,
   "id": "f30b4a3e",
   "metadata": {},
   "outputs": [],
   "source": [
    "# `Strings` are example of python objects. \n",
    "# Strings are delimited with single or double quotes (but don't mix them)\n",
    "# single quote are permitted in a double quote-enclosed string and conversely\n",
    "print(\"Hello\", 'world')\n",
    "print(\"single quote look like this: '\")\n",
    "print('double quotes looke like that: \"')"
   ]
  },
  {
   "cell_type": "code",
   "execution_count": null,
   "id": "9c72ad16",
   "metadata": {},
   "outputs": [],
   "source": [
    "# '+' denotes the addition of strings\n",
    "print('hello' + \"world\")\n",
    "# note the missing space!\n",
    "\n",
    "# '*' means repeat\n",
    "print('hello ' * 2)"
   ]
  },
  {
   "cell_type": "code",
   "execution_count": null,
   "id": "f69e68b9",
   "metadata": {},
   "outputs": [],
   "source": [
    "# '-' does not have a meaning for strings\n",
    "'hello' - 'world'\n",
    "# see how python tries to help you understand what went wrong"
   ]
  },
  {
   "cell_type": "code",
   "execution_count": null,
   "id": "66a23bda",
   "metadata": {},
   "outputs": [],
   "source": [
    "# input can be used to ask for user input (not very useful with notebooks, we may as well write in the notebook)\n",
    "s = input()\n",
    "print(\"User typed \", s)"
   ]
  },
  {
   "cell_type": "markdown",
   "id": "52481f90",
   "metadata": {},
   "source": [
    "## 2. Variables\n",
    "\n",
    "Wouldn't it be nice to not have to type 'hello world' over and over?\n",
    "That's what `variables` are for...\n",
    "As mathematicians, we can think of variables are unknowns."
   ]
  },
  {
   "cell_type": "code",
   "execution_count": null,
   "id": "8e5e5c2e",
   "metadata": {},
   "outputs": [],
   "source": [
    "msg = 'hello world'\n",
    "print(msg) # note: no quotes here!\n",
    "print('msg') # this is not wrong, but also probably not what we intended to do\n",
    "\n",
    "print(msg.upper())\n",
    "msg = 'The quick brown fox jumps over the lazy dog' \n",
    "# notice something special about this string?\n",
    "print(msg.title())\n",
    "\n",
    "# variables are a first step towards writing reusable code"
   ]
  },
  {
   "cell_type": "markdown",
   "id": "ec23ee0e",
   "metadata": {},
   "source": [
    "Note that the '=' signs has a very different meaning here than in mathematics. It is an *assignment*.\n",
    "\n",
    "Read `msg = 'oulala'` as *let assign the value `'oulala'` to the variable `msg`*.\n",
    "\n",
    "We will see later how to express equality (as in *is the value of `msg` the string `'oulala'` ?*)"
   ]
  },
  {
   "cell_type": "code",
   "execution_count": null,
   "id": "dc7d1e12",
   "metadata": {},
   "outputs": [],
   "source": [
    "# The following makes sense in this context:\n",
    "a = 1\n",
    "print(a)\n",
    "a = a + 1 # i.e. assigns the value of a + 1 to the variable a\n",
    "print(a)"
   ]
  },
  {
   "cell_type": "markdown",
   "id": "1d51d092",
   "metadata": {},
   "source": [
    "### Rules for variable names:\n",
    "* python is *case sensitive* (`hello` is not the same as `Hello`)\n",
    "* variable names cannot contain special characters other that `_`\n",
    "* python recommends \"\n",
    "* variable names cannot start with a digit\n",
    "* the following list of reserved word (*keywords*) cannot be used as variable names\n",
    "\n",
    "| keyword | keyword  | keyword | keyword  | keyword |\n",
    "|---------|----------|---------|----------|---------|\n",
    "| False   | await    | else    | import   | pass    |\n",
    "| None    | break    | except  | in       | raise   |\n",
    "| True    | class    | finally | is       | return  |\n",
    "| and     | continue | for     | lambda   | try     |\n",
    "| as      | def      | from    | nonlocal | while   |\n",
    "| assert  | del      | global  | not      | with    |\n",
    "| asynch  | elif     | if      | or       | yield   |\n",
    "\n",
    "* Names should be descriptive: `discriminant = b**2 - 4 * a*c` is better than `delta = b**2 - 4 * a*c`\n",
    "* Naming should be consistent, for instance:\n",
    "    * `lowercase`\n",
    "    * `lower_case_with_underscores`\n",
    "    * `UPPERCASE` (avoid!)\n",
    "    * `UPPER_CASE_WITH_UNDERSCORES` (avoid!)\n",
    "    * `CapitalizedWords` (or CapWords, or CamelCase)\n",
    "    * `mixedCase` (differs from CapitalizedWords by initial lowercase character!)\n",
    "    * `Capitalized_Words_With_Underscores` (ugly!)\n",
    "* names starting or ending with one or several underscores are reserved for specific advanced uses. Avoid, except when avoiding conflict with a keyword (e.g., `lambda_`)\n"
   ]
  },
  {
   "cell_type": "markdown",
   "id": "02d2b0ea",
   "metadata": {},
   "source": [
    "## 3. Strings\n",
    "\n",
    "A `string` represents some text. Strings are delimited by (matching) single or double quotes."
   ]
  },
  {
   "cell_type": "code",
   "execution_count": null,
   "id": "66d9af19",
   "metadata": {},
   "outputs": [],
   "source": [
    "# These are valid strings:\n",
    "\"17\"\n",
    "\"a b c d\"\n",
    "\"Don't forget\"\n",
    "'double quotes look like this: \"'"
   ]
  },
  {
   "cell_type": "code",
   "execution_count": null,
   "id": "97726ccc",
   "metadata": {},
   "outputs": [],
   "source": [
    "# These are not\n",
    "'Non matching quotes\"\n",
    "'don't forget'\n",
    "This is not a string"
   ]
  },
  {
   "cell_type": "markdown",
   "id": "69c2c6c2",
   "metadata": {},
   "source": [
    "### Basic operations on strings:\n",
    "* `len()` returns the length of a string\n",
    "* `+` denotes the concatenation of strings\n",
    "* `*` repeats a string"
   ]
  },
  {
   "cell_type": "code",
   "execution_count": 2,
   "id": "36a6b449",
   "metadata": {},
   "outputs": [
    {
     "name": "stdout",
     "output_type": "stream",
     "text": [
      "6\n",
      "oula oulala\n",
      "oulala oulala \n"
     ]
    },
    {
     "name": "stdin",
     "output_type": "stream",
     "text": [
      "provide some input This is a string\n"
     ]
    },
    {
     "name": "stdout",
     "output_type": "stream",
     "text": [
      "This is a string\n"
     ]
    }
   ],
   "source": [
    "print(len(\"oulala\"))\n",
    "print(\"oula \" + \"oulala\")\n",
    "print(\"oulala \" * 2)\n",
    "s = input(\"provide some input\")\n",
    "print(s)"
   ]
  },
  {
   "cell_type": "code",
   "execution_count": null,
   "id": "c901c998-58cf-46e6-8d05-ced1909b5c49",
   "metadata": {},
   "outputs": [],
   "source": []
  },
  {
   "cell_type": "markdown",
   "id": "f7902a07",
   "metadata": {},
   "source": [
    "## 4. Numerical types\n",
    "Like most computer languages, python makes a distinction between integers and real numbers."
   ]
  },
  {
   "cell_type": "code",
   "execution_count": null,
   "id": "8974eb6b",
   "metadata": {},
   "outputs": [],
   "source": [
    "# A decimal point is used to represent real numbers\n",
    "a=1\n",
    "print(type(a))\n",
    "b = 1.\n",
    "print(type(b))\n",
    "\n",
    "# Floats can also be given in scientific notations\n",
    "a = 3.15e+2\n",
    "print(a)"
   ]
  },
  {
   "cell_type": "markdown",
   "id": "c6ed3263",
   "metadata": {},
   "source": [
    "python use PEMDAS (BEDMAS?) for operation orders\n",
    "exponentiation is ** (2^3 is written `2**3`)"
   ]
  },
  {
   "cell_type": "code",
   "execution_count": 1,
   "id": "6679e817",
   "metadata": {},
   "outputs": [
    {
     "name": "stdout",
     "output_type": "stream",
     "text": [
      "288.0\n",
      "2.0\n",
      "2.0\n",
      "-1 1 -1\n",
      "0 2 -2\n"
     ]
    }
   ],
   "source": [
    "# How much is 48/2*(9+3)?\n",
    "print(48 / 2 * (9 + 3))\n",
    "print(48 / 2 / (9 + 3))\n",
    "print(48 / (2 * (9 + 3)))\n",
    "\n",
    "# How about these?\n",
    "a = -1\n",
    "b = --1\n",
    "c = ---1\n",
    "\n",
    "print(a,b,c)\n",
    "\n",
    "d = 1-1\n",
    "e = 1--1\n",
    "f = -1---1\n",
    "print(d,e,f)\n"
   ]
  },
  {
   "cell_type": "markdown",
   "id": "1cac044f",
   "metadata": {},
   "source": [
    "`/` represents the usual division. The integer division is `//`. Modulo (remainder in integer division) is `%`"
   ]
  },
  {
   "cell_type": "code",
   "execution_count": 2,
   "id": "45ceab81",
   "metadata": {},
   "outputs": [
    {
     "name": "stdout",
     "output_type": "stream",
     "text": [
      "3/2 is  1.5\n",
      "3//2 is  1\n",
      "3%2 is  1\n",
      "3/2 * 2 =  3.0\n",
      "3//2 * 2 =  2\n",
      "3//2 * 2 + 3%2 =  3\n"
     ]
    }
   ],
   "source": [
    "print('3/2 is ',3/2)\n",
    "\n",
    "\n",
    "print('3//2 is ',3//2)\n",
    "\n",
    "print('3%2 is ', 3%2)\n",
    "\n",
    "print('3/2 * 2 = ', 3/2 * 2)\n",
    "print('3//2 * 2 = ', 3//2 * 2)\n",
    "print('3//2 * 2 + 3%2 = ', 3//2 * 2 + 3%2)"
   ]
  },
  {
   "cell_type": "markdown",
   "id": "d35eac3b",
   "metadata": {},
   "source": [
    "python knows complex numbers. The number $a+ib$ is written `a+bj` (note, no '*', and 'j' instead of 'i') "
   ]
  },
  {
   "cell_type": "code",
   "execution_count": null,
   "id": "e6969ff0",
   "metadata": {},
   "outputs": [],
   "source": [
    "z = 1+2j\n",
    "print(z**2)\n",
    "print(1/z)\n",
    "print(z.real, z.imag)"
   ]
  },
  {
   "cell_type": "markdown",
   "id": "9306ca66",
   "metadata": {},
   "source": [
    "More complex operation require additional *modules*.\n",
    "\n",
    "Modules are special objects that extend the functionality of the python language.\n",
    "The most relevant for us are `math` and `numpy`.\n",
    "\n",
    "At this stage, both provide the same functionalities, but `math` is part of base python and is always available, whereas `numpy` needs to be added to python (but is almost always available.)"
   ]
  },
  {
   "cell_type": "code",
   "execution_count": 4,
   "id": "ecb4522a",
   "metadata": {},
   "outputs": [
    {
     "name": "stdout",
     "output_type": "stream",
     "text": [
      "1.4142135623730951\n",
      "2.0000000000000004\n",
      "1.4142135623730951\n",
      "2.0000000000000004\n"
     ]
    }
   ],
   "source": [
    "import math\n",
    "print(math.sqrt(2))\n",
    "print(math.sqrt(2)**2) # remember how I said that not all calculations are exact in python?\n",
    "\n",
    "import numpy as np\n",
    "print(np.sqrt(2))\n",
    "print(np.sqrt(2)**2) # remember how I said that not all calculations are exact in python?\n"
   ]
  },
  {
   "cell_type": "code",
   "execution_count": 3,
   "id": "8847f18e",
   "metadata": {},
   "outputs": [
    {
     "data": {
      "text/plain": [
       "False"
      ]
     },
     "execution_count": 3,
     "metadata": {},
     "output_type": "execute_result"
    }
   ],
   "source": [
    "\"2\" == 2\n"
   ]
  },
  {
   "cell_type": "code",
   "execution_count": null,
   "id": "88c7634b-c56e-44d9-a1d5-a4d45f16e2a7",
   "metadata": {},
   "outputs": [],
   "source": [
    "a = input(\"enter a number\")\n",
    "a=12\n",
    "\n",
    "print('a = ', a)\n",
    "print(type(a))\n",
    "\n",
    "\n",
    "b = float\n",
    "(a)\n",
    "\n",
    "print(b)\n",
    "print(type(b))\n",
    "\n",
    "print('b+1 = ', b + 1)"
   ]
  },
  {
   "cell_type": "code",
   "execution_count": 8,
   "id": "2059c4b1-103c-44f4-b229-52d17c44da08",
   "metadata": {},
   "outputs": [
    {
     "name": "stdout",
     "output_type": "stream",
     "text": [
      "the discriminant is  -23.0\n"
     ]
    },
    {
     "ename": "ValueError",
     "evalue": "math domain error",
     "output_type": "error",
     "traceback": [
      "\u001b[31m---------------------------------------------------------------------------\u001b[39m",
      "\u001b[31mValueError\u001b[39m                                Traceback (most recent call last)",
      "\u001b[36mCell\u001b[39m\u001b[36m \u001b[39m\u001b[32mIn[8]\u001b[39m\u001b[32m, line 8\u001b[39m\n\u001b[32m      6\u001b[39m discriminant = b**\u001b[32m2\u001b[39m - \u001b[32m4.\u001b[39m * a * c\n\u001b[32m      7\u001b[39m \u001b[38;5;28mprint\u001b[39m(\u001b[33m\"\u001b[39m\u001b[33mthe discriminant is \u001b[39m\u001b[33m\"\u001b[39m, discriminant)\n\u001b[32m----> \u001b[39m\u001b[32m8\u001b[39m x1 = (-b - \u001b[43mmath\u001b[49m\u001b[43m.\u001b[49m\u001b[43msqrt\u001b[49m\u001b[43m(\u001b[49m\u001b[43mdiscriminant\u001b[49m\u001b[43m)\u001b[49m) / \u001b[32m2.\u001b[39m / a\n\u001b[32m     10\u001b[39m x2 = (-b + math.sqrt(discriminant)) / \u001b[32m2.\u001b[39m / a\n\u001b[32m     12\u001b[39m \u001b[38;5;28mprint\u001b[39m(\u001b[33m\"\u001b[39m\u001b[33mthe roots are \u001b[39m\u001b[33m\"\u001b[39m, x1, \u001b[33m\"\u001b[39m\u001b[33m and \u001b[39m\u001b[33m\"\u001b[39m, x2)\n",
      "\u001b[31mValueError\u001b[39m: math domain error"
     ]
    }
   ],
   "source": [
    "# example: solve ax^2 + bx + c = 0\n",
    "a = 1\n",
    "b = -3\n",
    "c = 8\n",
    "\n",
    "discriminant = b**2 - 4. * a * c\n",
    "print(\"the discriminant is \", discriminant)\n",
    "\n",
    "x1 = (-b - math.sqrt(discriminant)) / 2. / a\n",
    "\n",
    "x2 = (-b + math.sqrt(discriminant)) / 2. / a\n",
    "\n",
    "print(\"the roots are \", x1, \" and \", x2)\n",
    "\n"
   ]
  },
  {
   "cell_type": "code",
   "execution_count": null,
   "id": "5f2565d2-c7aa-4ac0-ab94-1db78fb59218",
   "metadata": {},
   "outputs": [],
   "source": []
  }
 ],
 "metadata": {
  "kernelspec": {
   "display_name": "Python 3 (ipykernel)",
   "language": "python",
   "name": "python3"
  },
  "language_info": {
   "codemirror_mode": {
    "name": "ipython",
    "version": 3
   },
   "file_extension": ".py",
   "mimetype": "text/x-python",
   "name": "python",
   "nbconvert_exporter": "python",
   "pygments_lexer": "ipython3",
   "version": "3.13.5"
  }
 },
 "nbformat": 4,
 "nbformat_minor": 5
}
