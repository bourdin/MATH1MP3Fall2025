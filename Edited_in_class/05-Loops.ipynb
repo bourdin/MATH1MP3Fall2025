{
 "cells": [
  {
   "cell_type": "markdown",
   "id": "b289cf76-1e1a-46d4-872c-48c1254e2d07",
   "metadata": {},
   "source": [
    "# Chapter 5: loops\n",
    "\n",
    "A *loop* is a set of statements that are repeated until a certain condition is satisfied."
   ]
  },
  {
   "cell_type": "markdown",
   "id": "1e772214-6676-498d-90c5-ec9de2e30e89",
   "metadata": {},
   "source": [
    "## 5.1 `while` loop\n",
    "Awhile loop is a code construct that runs a set of statements, known as the loop body, while a given\n",
    "condition, known as the loop expression, is true. At each iteration, once the loop statement is executed, the loop expression is evaluated again.\n",
    "* If true, the loop body will execute at least one more time (also called looping or iterating one more time).\n",
    "* If false, the loop's execution will terminate and the next statement after the loop body will execute.\n",
    "\n",
    "Example: a silly way to print all even numbers less or equal to $N$:"
   ]
  },
  {
   "cell_type": "code",
   "execution_count": 1,
   "id": "c593d0e7-78fb-426e-b646-9fbdd9a5a7ba",
   "metadata": {},
   "outputs": [
    {
     "name": "stdout",
     "output_type": "stream",
     "text": [
      "1\n",
      "2\n",
      "3\n",
      "4\n",
      "5\n",
      "6\n",
      "7\n",
      "8\n",
      "9\n",
      "10\n",
      "11\n",
      "12\n",
      "13\n",
      "14\n"
     ]
    }
   ],
   "source": [
    "N = 14\n",
    "i = 1\n",
    "while i <= N:\n",
    "    print(i)\n",
    "    i += 1\n"
   ]
  },
  {
   "cell_type": "code",
   "execution_count": 4,
   "id": "52bb751b-6f82-48c5-87ed-6f98490c2943",
   "metadata": {},
   "outputs": [
    {
     "ename": "KeyboardInterrupt",
     "evalue": "",
     "output_type": "error",
     "traceback": [
      "\u001b[31m---------------------------------------------------------------------------\u001b[39m",
      "\u001b[31mKeyboardInterrupt\u001b[39m                         Traceback (most recent call last)",
      "\u001b[36mCell\u001b[39m\u001b[36m \u001b[39m\u001b[32mIn[4]\u001b[39m\u001b[32m, line 6\u001b[39m\n\u001b[32m      3\u001b[39m i = \u001b[32m1\u001b[39m\n\u001b[32m      4\u001b[39m N = \u001b[32m10\u001b[39m\n\u001b[32m----> \u001b[39m\u001b[32m6\u001b[39m \u001b[38;5;28;01mwhile\u001b[39;00m i <= N:\n\u001b[32m      7\u001b[39m     s += \u001b[32m1\u001b[39m / i\n\u001b[32m      8\u001b[39m     \u001b[38;5;66;03m#i += 1\u001b[39;00m\n",
      "\u001b[31mKeyboardInterrupt\u001b[39m: "
     ]
    }
   ],
   "source": [
    "# example: harmonic sequence:\n",
    "s = 0\n",
    "i = 1\n",
    "N = 10\n",
    "\n",
    "# Be very careful not to write an endless loop!\n",
    "while i <= N:\n",
    "    s += 1 / i\n",
    "    i += 1\n",
    "print(s)\n"
   ]
  },
  {
   "cell_type": "markdown",
   "id": "dfffc484-45e3-4d19-b6c2-db0e20b78709",
   "metadata": {},
   "source": [
    "The Fibonacci sequence:\n",
    "$u_0 = u_1 = 1$, $u_n = n_{n-1} + u_{n-2}$, $n = 2, \\dots$\n"
   ]
  },
  {
   "cell_type": "code",
   "execution_count": null,
   "id": "97099092-7998-4801-884a-452ac20a2430",
   "metadata": {},
   "outputs": [],
   "source": [
    "# print all numbers in the Fibonacci sequence that are less than N\n",
    "N = 20\n",
    "un1 = 1\n",
    "un = 1\n",
    "while un < N:\n",
    "    print(un)\n",
    "    temp = un1\n",
    "    un1 = un\n",
    "    un = un + temp\n"
   ]
  },
  {
   "cell_type": "markdown",
   "id": "346e6dbf-0ffd-4d42-976c-6799b4fc8e8c",
   "metadata": {},
   "source": [
    "A danger of `while` loop is that they may never finish, e.g.\n",
    "```\n",
    "a = 1\n",
    "while a < 2:\n",
    "    print(\"this is never going to end\")\n",
    "```"
   ]
  },
  {
   "cell_type": "code",
   "execution_count": null,
   "id": "4491338c-29b7-404e-b906-c771fc2a5207",
   "metadata": {},
   "outputs": [],
   "source": [
    "counter = 1\n",
    "while counter < 10:\n",
    "    # counter += 1\n",
    "    print(\"this is never going to end\")"
   ]
  },
  {
   "cell_type": "code",
   "execution_count": 6,
   "id": "a6fb373d-7765-4bf6-9691-348b2c89be8e",
   "metadata": {},
   "outputs": [
    {
     "name": "stdout",
     "output_type": "stream",
     "text": [
      "s_1 = 0.5\n",
      "s_2 = 0.75\n",
      "s_3 = 0.875\n",
      "s_4 = 0.9375\n",
      "s_5 = 0.96875\n",
      "s_6 = 0.984375\n",
      "s_7 = 0.9921875\n",
      "s_8 = 0.99609375\n",
      "s_9 = 0.998046875\n",
      "s_10 = 0.9990234375\n",
      "s_11 = 0.99951171875\n",
      "s_12 = 0.999755859375\n",
      "s_13 = 0.9998779296875\n",
      "s_14 = 0.99993896484375\n",
      "s_15 = 0.999969482421875\n",
      "s_16 = 0.9999847412109375\n",
      "s_17 = 0.9999923706054688\n",
      "s_18 = 0.9999961853027344\n",
      "s_19 = 0.9999980926513672\n",
      "s_20 = 0.9999990463256836\n"
     ]
    }
   ],
   "source": [
    "# partial sum of the series $\\sum_{i=1}^n} = 1/2^i$ using a while loop\n",
    "s = 0\n",
    "i = 1\n",
    "n = 2\n",
    "0\n",
    "while i <= n:\n",
    "    s += 2**-i\n",
    "    print(f\"s_{i} = {s}\")\n",
    "    i += 1\n",
    "    "
   ]
  },
  {
   "cell_type": "markdown",
   "id": "615ce3bc-545b-48a4-abe4-3968763bf914",
   "metadata": {},
   "source": [
    "## 5.2 `for` loops\n",
    "\n",
    "A `for` loop iterates over all elements in a container. "
   ]
  },
  {
   "cell_type": "code",
   "execution_count": 7,
   "id": "b53f57c2-70a9-4bfc-9fab-13a9b40e70e9",
   "metadata": {},
   "outputs": [
    {
     "name": "stdout",
     "output_type": "stream",
     "text": [
      "1\n",
      "2\n",
      "three\n",
      "4.0\n"
     ]
    }
   ],
   "source": [
    "A = [1,2,\"three\", 4.0]\n",
    "for a in A:\n",
    "    print(a)"
   ]
  },
  {
   "cell_type": "code",
   "execution_count": null,
   "id": "8e2893db-fce7-4ab7-a1f9-57b41e36c98a",
   "metadata": {},
   "outputs": [],
   "source": []
  },
  {
   "cell_type": "code",
   "execution_count": null,
   "id": "d9815f20-8061-444a-807a-4cf8e911c195",
   "metadata": {},
   "outputs": [],
   "source": []
  },
  {
   "cell_type": "code",
   "execution_count": 15,
   "id": "ace151c4-710e-413d-a80f-4e5fcfeecdda",
   "metadata": {},
   "outputs": [
    {
     "name": "stdout",
     "output_type": "stream",
     "text": [
      "4\n",
      "loop over items in a set\n",
      "1\n",
      "2\n",
      "4.0\n",
      "three\n",
      "loop over items in a list\n",
      "1\n",
      "2\n",
      "three\n",
      "4.0\n"
     ]
    }
   ],
   "source": [
    "count = 0\n",
    "for a in A:\n",
    "    count += 1\n",
    "print(count)\n",
    "# This is silly, we could have set count = len(A)\n",
    "\n",
    "print(\"loop over items\n",
    "in a set\")\n",
    "S = {1, 2, 'three', 4.0}\n",
    "for s in S:\n",
    "    print(s) \n",
    "    \n",
    "print(\"loop over items in a list\")\n",
    "S = [1, 2, 'three', 4.0]\n",
    "for s in S:\n",
    "    print(s) "
   ]
  },
  {
   "cell_type": "code",
   "execution_count": 18,
   "id": "1e8ef1c3-5714-4b44-9bbc-966a0180bfe5",
   "metadata": {},
   "outputs": [
    {
     "name": "stdout",
     "output_type": "stream",
     "text": [
      "T|h|i|s| |i|s| |a| |s|t|r|i|n|g|"
     ]
    }
   ],
   "source": [
    "C = \"This is a string\"\n",
    "for c in C:\n",
    "    print(c, end='|')\n",
    "\n",
    "    "
   ]
  },
  {
   "cell_type": "code",
   "execution_count": 33,
   "id": "59d54885",
   "metadata": {},
   "outputs": [
    {
     "name": "stdout",
     "output_type": "stream",
     "text": [
      "Today\n",
      "is\n",
      "a\n",
      "great\n",
      "day\n",
      "to\n",
      "be\n",
      "alive\n",
      "summing the terms in a list\n",
      "number is 0.5, total: 0.5\n",
      "number is 0.3333333333333333, total: 0.8333333333333333\n",
      "number is 0.25, total: 1.0833333333333333\n",
      "number is 0.2, total: 1.2833333333333332\n",
      "number is 0.16666666666666666, total: 1.45\n",
      "1.45\n"
     ]
    }
   ],
   "source": [
    "# Combining loops and conditionals:\n",
    "# printing each word in a string\n",
    "s = \"Today is a great day to be alive\"\n",
    "for c in s:\n",
    "    if c == \" \":\n",
    "        print()\n",
    "    else:\n",
    "        print(c, end='') # prints the character c and do not go to the next line\n",
    "# computing the sum of the terms in a list\n",
    "print()\n",
    "\n",
    "print('summing the terms in a list')\n",
    "\n",
    "s = [1/2, 1/3, 1/4, 1/5, 1/6]\n",
    "total = 0\n",
    "for number in s:\n",
    "    total += number\n",
    "\n",
    "    print (f\"number is {number}, total: {total}\")\n",
    "print(total)\n"
   ]
  },
  {
   "cell_type": "code",
   "execution_count": null,
   "id": "9331a463-3bab-4ac6-84bd-0283a35db358",
   "metadata": {},
   "outputs": [],
   "source": []
  },
  {
   "cell_type": "markdown",
   "id": "fc8fac2a",
   "metadata": {},
   "source": [
    "## 5.2.1 the `range` function as a container\n",
    "the `range` function is special countainer such that a loop over a `range` enumerates successive integers.\n",
    "\n",
    "syntax: `range(end)`, or `range(start, end)`, or `range(start, end, step)`"
   ]
  },
  {
   "cell_type": "code",
   "execution_count": null,
   "id": "f3c50b04",
   "metadata": {},
   "outputs": [],
   "source": [
    "for i in range(3):\n",
    "    print(i)\n",
    "\n",
    "for i in range(2,5):\n",
    "    print(i)\n",
    "\n",
    "for i in range(0,10,3): \n",
    "    print(i)\n",
    "\n",
    "A = \"hello world\"\n",
    "for i in range(len(A)):\n",
    "    print(f\"the {i}th character is {A[i]}\")\n"
   ]
  },
  {
   "cell_type": "markdown",
   "id": "11e4bc3d",
   "metadata": {},
   "source": []
  },
  {
   "cell_type": "markdown",
   "id": "bc92d102",
   "metadata": {},
   "source": [
    "### Nested loops"
   ]
  },
  {
   "cell_type": "code",
   "execution_count": null,
   "id": "3857ff90",
   "metadata": {},
   "outputs": [],
   "source": [
    "M = [[1,2,3],[4,5,6],[7,8,9]]\n",
    "for row in M:\n",
    "    print(row)\n",
    "\n",
    "# print only the lower triangular part:\n",
    "n = len(M)\n",
    "for i in range(n):\n",
    "    for j in range(i+1):\n",
    "        print(M[i][j], end=' ')\n",
    "    print()\n",
    "\n",
    "# another way:\n",
    "for rowIdx, row in enumerate(M):\n",
    "    for colIdx, v in enumerate(row[:rowIdx+1]):\n",
    "        print(v, end=' ')\n",
    "    print()\n",
    "\n",
    "# Complexity"
   ]
  },
  {
   "cell_type": "markdown",
   "id": "fd091bfd",
   "metadata": {},
   "source": [
    "### `Break` and `continue`\n",
    "A `break` statement is used within a `for` or a `while` loop to allow the program execution to exit the loop once a\n",
    "given condition is triggered. A `break` statement can be used to improve runtime efficiency when further loop\n",
    "execution is not required."
   ]
  },
  {
   "cell_type": "code",
   "execution_count": null,
   "id": "1678d611",
   "metadata": {},
   "outputs": [],
   "source": [
    "# example: breaking out of an infinite loop:\n",
    "counter = 1\n",
    "while True:\n",
    "    if counter >= 10:\n",
    "        break\n",
    "    print(counter)\n",
    "    counter += 1\n",
    "\n",
    "# back to previous example:\n",
    "print(\"Lower triangular part of M\")\n",
    "n = len(M)\n",
    "for i in range(n):\n",
    "    for j in range(n):\n",
    "        print(M[i][j], end=' ')\n",
    "        if j == i:\n",
    "            print()\n",
    "            break\n"
   ]
  },
  {
   "cell_type": "markdown",
   "id": "42658770",
   "metadata": {},
   "source": [
    "### Loop `else`\n",
    "\n",
    "An `else` statement in a loop can be used to check if the loop was exited through a `break` statement of not. (It's not a very well-know feature that can lead to very clean code"
   ]
  },
  {
   "cell_type": "code",
   "execution_count": null,
   "id": "e571a9f5-2457-4db5-81b7-80724939221e",
   "metadata": {},
   "outputs": [],
   "source": []
  },
  {
   "cell_type": "code",
   "execution_count": null,
   "id": "be9cc2db",
   "metadata": {},
   "outputs": [],
   "source": []
  },
  {
   "cell_type": "code",
   "execution_count": null,
   "id": "1e617722-282d-4431-9027-061dab7b2b37",
   "metadata": {},
   "outputs": [],
   "source": [
    "### "
   ]
  },
  {
   "cell_type": "code",
   "execution_count": null,
   "id": "026a3fad-0567-45a9-98f5-4cb2c600d1b4",
   "metadata": {},
   "outputs": [],
   "source": [
    "#vs:\n",
    "is_prime = True\n",
    "for i in range(2,N):\n",
    "    if not N%i:\n",
    "        is_prime = False\n",
    "        print(f\"{i} divides {N}\")\n",
    "        break\n",
    "if is_prime:\n",
    "    print(f\"{N} is prime\")"
   ]
  },
  {
   "cell_type": "code",
   "execution_count": null,
   "id": "8321ec56-2545-47b9-95e1-14022f0db7e5",
   "metadata": {},
   "outputs": [],
   "source": []
  },
  {
   "cell_type": "code",
   "execution_count": null,
   "id": "deeb3671-422b-4640-8f90-f93b6706b753",
   "metadata": {},
   "outputs": [],
   "source": [
    "# Example: testing if a number is prime (not efficient)\n",
    "N = 13\n",
    "for i in range(2,N):\n",
    "    if not N%i:\n",
    "        print(f\"{i} divides {N}\")\n",
    "        break\n",
    "else:\n",
    "    print(f\"{N} is prime\")"
   ]
  },
  {
   "cell_type": "code",
   "execution_count": null,
   "id": "c8db0d69-883a-44d0-adf0-1316ece701ea",
   "metadata": {},
   "outputs": [],
   "source": []
  },
  {
   "cell_type": "markdown",
   "id": "6fb4546a-4838-4ee9-908a-83747eb27ab5",
   "metadata": {},
   "source": [
    "## 5.2.1 the `range` function as a container\n",
    "the `range` function is special countainer such that a loop over a `range` enumerates successive integers.\n",
    "\n",
    "syntax: `range(end)`, or `range(start, end)`, or `range(start, end, step)`"
   ]
  },
  {
   "cell_type": "code",
   "execution_count": null,
   "id": "17f66dc2-9916-4361-99ee-6e06e6012bd9",
   "metadata": {},
   "outputs": [],
   "source": [
    "for i in range(3):\n",
    "    print(i)"
   ]
  },
  {
   "cell_type": "code",
   "execution_count": null,
   "id": "be3e548e-ea3e-43ec-852f-6b1bb6f1d1fe",
   "metadata": {},
   "outputs": [],
   "source": [
    "for i in range(2,5):\n",
    "    print(i)"
   ]
  },
  {
   "cell_type": "code",
   "execution_count": null,
   "id": "f75ec81e-3290-499c-831a-a11c42e56d9e",
   "metadata": {},
   "outputs": [],
   "source": [
    "for i in range(0,10,3): \n",
    "    print(i)"
   ]
  },
  {
   "cell_type": "code",
   "execution_count": null,
   "id": "715b53d9-21d8-41d2-aca0-82a19d97746e",
   "metadata": {},
   "outputs": [],
   "source": [
    "A = \"hello world\"\n",
    "for i in range(len(A)):\n",
    "    print(f\"the {i}th character is {A[i]}\")"
   ]
  },
  {
   "cell_type": "code",
   "execution_count": null,
   "id": "4776d858-aff8-48cf-affe-8cd77efe4498",
   "metadata": {},
   "outputs": [],
   "source": []
  },
  {
   "cell_type": "code",
   "execution_count": null,
   "id": "a44dec9a-3cd0-4ddb-9924-06574023fdca",
   "metadata": {},
   "outputs": [],
   "source": []
  },
  {
   "cell_type": "code",
   "execution_count": null,
   "id": "71fd3aba-9550-4b0c-8050-2b83182cf285",
   "metadata": {},
   "outputs": [],
   "source": []
  },
  {
   "cell_type": "markdown",
   "id": "065852d4-b5a7-4c55-9a05-7b8ad02130bb",
   "metadata": {},
   "source": [
    "## 5.3 zip and enumerate\n",
    "Given 2 collections with the same length, the `zip` operator makes it possible to iterate over both container simultaneously.\n",
    "\n",
    "`enumerate` automatically increments a counter"
   ]
  },
  {
   "cell_type": "code",
   "execution_count": null,
   "id": "6c51b7cb-6a54-4eef-b0ca-3de9e12e37c2",
   "metadata": {},
   "outputs": [],
   "source": [
    "A = \"hello world\"\n",
    "for (i,c) in zip(range(len(A)),A):\n",
    "    print(f\"the {i}th character is {A[i]}\") "
   ]
  },
  {
   "cell_type": "code",
   "execution_count": null,
   "id": "092de7a9-a4b4-4ffa-a4d3-059f35a5331c",
   "metadata": {},
   "outputs": [],
   "source": [
    "A = 'hello world'\n",
    "for i, c in enumerate(A):\n",
    "    print(f\"the {i}th character is {A[i]}\")"
   ]
  },
  {
   "cell_type": "markdown",
   "id": "d8bf63da-5f83-462d-8782-e5a8ac046fac",
   "metadata": {},
   "source": [
    "### Note:\n",
    "Do not abuse the `range` operator.  \n",
    "In particular, a loop of the form \n",
    "```\n",
    "   for i in range(len(<container>)):\n",
    "```  \n",
    "can most of the time be replaced with the more readable version:\n",
    "```\n",
    "   for idx, entry in enumerate(<container>):\n",
    "```"
   ]
  },
  {
   "cell_type": "code",
   "execution_count": null,
   "id": "bee5b360",
   "metadata": {},
   "outputs": [],
   "source": []
  }
 ],
 "metadata": {
  "kernelspec": {
   "display_name": "Python 3 (ipykernel)",
   "language": "python",
   "name": "python3"
  },
  "language_info": {
   "codemirror_mode": {
    "name": "ipython",
    "version": 3
   },
   "file_extension": ".py",
   "mimetype": "text/x-python",
   "name": "python",
   "nbconvert_exporter": "python",
   "pygments_lexer": "ipython3",
   "version": "3.13.5"
  }
 },
 "nbformat": 4,
 "nbformat_minor": 5
}
