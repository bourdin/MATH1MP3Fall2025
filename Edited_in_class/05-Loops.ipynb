{
 "cells": [
  {
   "cell_type": "markdown",
   "id": "b289cf76-1e1a-46d4-872c-48c1254e2d07",
   "metadata": {},
   "source": [
    "# Chapter 5: loops\n",
    "\n",
    "A *loop* is a set of statements that are repeated until a certain condition is satisfied."
   ]
  },
  {
   "cell_type": "markdown",
   "id": "1e772214-6676-498d-90c5-ec9de2e30e89",
   "metadata": {},
   "source": [
    "## 5.1 `while` loop\n",
    "Awhile loop is a code construct that runs a set of statements, known as the loop body, while a given\n",
    "condition, known as the loop expression, is true. At each iteration, once the loop statement is executed, the loop expression is evaluated again.\n",
    "* If true, the loop body will execute at least one more time (also called looping or iterating one more time).\n",
    "* If false, the loop's execution will terminate and the next statement after the loop body will execute.\n",
    "\n",
    "Example: a silly way to print all even numbers less or equal to $N$:"
   ]
  },
  {
   "cell_type": "code",
   "execution_count": null,
   "id": "c593d0e7-78fb-426e-b646-9fbdd9a5a7ba",
   "metadata": {},
   "outputs": [],
   "source": [
    "N = 5\n",
    "\n",
    "i = 1\n",
    "while i <= N:\n",
    "    print(i)\n",
    "    i += 1\n",
    "    print(f\"I have just incremented i to {i}\")\n"
   ]
  },
  {
   "cell_type": "code",
   "execution_count": null,
   "id": "52bb751b-6f82-48c5-87ed-6f98490c2943",
   "metadata": {},
   "outputs": [],
   "source": [
    "# example: harmonic sequence:\n",
    "s = 0\n",
    "i = 1\n",
    "N = 10\n",
    "\n",
    "# Be very careful not to write an endless loop!\n",
    "while i <= N:\n",
    "    s += 1 / i\n",
    "    i += 1\n",
    "print(s)\n"
   ]
  },
  {
   "cell_type": "markdown",
   "id": "dfffc484-45e3-4d19-b6c2-db0e20b78709",
   "metadata": {},
   "source": [
    "The Fibonacci sequence:\n",
    "$u_0 = u_1 = 1$, $u_n = n_{n-1} + u_{n-2}$, $n = 2, \\dots$\n"
   ]
  },
  {
   "cell_type": "code",
   "execution_count": null,
   "id": "97099092-7998-4801-884a-452ac20a2430",
   "metadata": {},
   "outputs": [],
   "source": [
    "# print all numbers in the Fibonacci sequence that are less than N\n",
    "N = 20\n",
    "un1 = 1\n",
    "un = 1\n",
    "while un < N:\n",
    "    print(un)\n",
    "    temp = un1\n",
    "    un1 = un\n",
    "    un = un + temp\n"
   ]
  },
  {
   "cell_type": "markdown",
   "id": "346e6dbf-0ffd-4d42-976c-6799b4fc8e8c",
   "metadata": {},
   "source": [
    "A danger of `while` loop is that they may never finish, e.g.\n",
    "```\n",
    "a = 1\n",
    "while a < 2:\n",
    "    print(\"this is never going to end\")\n",
    "```"
   ]
  },
  {
   "cell_type": "code",
   "execution_count": null,
   "id": "4491338c-29b7-404e-b906-c771fc2a5207",
   "metadata": {},
   "outputs": [],
   "source": [
    "counter = 1\n",
    "while counter < 10:\n",
    "    # counter += 1\n",
    "    print(\"this is never going to end\")"
   ]
  },
  {
   "cell_type": "code",
   "execution_count": null,
   "id": "a6fb373d-7765-4bf6-9691-348b2c89be8e",
   "metadata": {},
   "outputs": [],
   "source": [
    "# partial sum of the series $\\sum_{i=1}^n} = 1/2^i$ using a while loop\n",
    "s = 0\n",
    "i = 1\n",
    "n = 2\n",
    "0\n",
    "while i <= n:\n",
    "    s += 2**-i\n",
    "    print(f\"s_{i} = {s}\")\n",
    "    i += 1\n",
    "    "
   ]
  },
  {
   "cell_type": "markdown",
   "id": "615ce3bc-545b-48a4-abe4-3968763bf914",
   "metadata": {},
   "source": [
    "## 5.2 `for` loops\n",
    "\n",
    "A `for` loop iterates over all elements in a container. \n",
    "Note that the container does *not* have to be ordered (*i.e.* looping over the elements of a set is possible)."
   ]
  },
  {
   "cell_type": "code",
   "execution_count": null,
   "id": "b53f57c2-70a9-4bfc-9fab-13a9b40e70e9",
   "metadata": {},
   "outputs": [],
   "source": [
    "A = [1,2,\"three\", 4.0]\n",
    "for a in A:\n",
    "    \n",
    "    print(a)"
   ]
  },
  {
   "cell_type": "code",
   "execution_count": null,
   "id": "ace151c4-710e-413d-a80f-4e5fcfeecdda",
   "metadata": {},
   "outputs": [],
   "source": [
    "# COunting the number of elements in a container\n",
    "count = 0\n",
    "for a in A:\n",
    "    count += 1\n",
    "print(count)\n",
    "# This is silly, we could have set count = len(A)"
   ]
  },
  {
   "cell_type": "code",
   "execution_count": null,
   "id": "9e8e158e",
   "metadata": {},
   "outputs": [],
   "source": [
    "print(\"loop over items in a set\")\n",
    "S = {1, 2, 'three', 4.0}\n",
    "for s in S:\n",
    "    print(s) "
   ]
  },
  {
   "cell_type": "code",
   "execution_count": null,
   "id": "fef44497",
   "metadata": {},
   "outputs": [],
   "source": [
    "print(\"loop over items in a list\")\n",
    "S = [1, 2, 'three', 4.0]\n",
    "for s in S:\n",
    "    print(s)"
   ]
  },
  {
   "cell_type": "code",
   "execution_count": null,
   "id": "1e8ef1c3-5714-4b44-9bbc-966a0180bfe5",
   "metadata": {},
   "outputs": [],
   "source": [
    "# looping over a string\n",
    "C = \"This is a string\"\n",
    "for c in C:\n",
    "    print(c, end='|')\n",
    "# The \",end = '|'\" argument instruct Python to print a \"|\" after each character instead of skipping to the next line "
   ]
  },
  {
   "cell_type": "code",
   "execution_count": null,
   "id": "59d54885",
   "metadata": {},
   "outputs": [],
   "source": [
    "# Combining loops and conditionals:\n",
    "# printing each word in a string\n",
    "s = \"Today is a great day to be alive\"\n",
    "for c in s:\n",
    "    if c == \" \":\n",
    "        print()\n",
    "    else:\n",
    "        print(c, end='') # prints the character c and do not go to the next line\n",
    "# computing the sum of the terms in a list\n",
    "print()"
   ]
  },
  {
   "cell_type": "code",
   "execution_count": null,
   "id": "8c89d189",
   "metadata": {},
   "outputs": [],
   "source": [
    "print('summing the terms in a list')\n",
    "\n",
    "s = [1/2, 1/3, 1/4, 1/5, 1/6]\n",
    "total = 0\n",
    "for number in s:\n",
    "    total += number\n",
    "    print (f\"number is {number}, total: {total}\")\n",
    "print(total)\n"
   ]
  },
  {
   "cell_type": "markdown",
   "id": "74271fcf",
   "metadata": {},
   "source": [
    "## 5.2.1 the `range` function as a container\n",
    "the `range` function is special countainer such that a loop over a `range` enumerates successive integers.\n",
    "\n",
    "syntax: `range(end)`, or `range(start, end)`, or `range(start, end, step)`"
   ]
  },
  {
   "cell_type": "code",
   "execution_count": null,
   "id": "f3c50b04",
   "metadata": {},
   "outputs": [],
   "source": [
    "# repeat something 3 times:\n",
    "for i in range(3):\n",
    "    print(\"Hello \", i)"
   ]
  },
  {
   "cell_type": "code",
   "execution_count": null,
   "id": "8f137d43",
   "metadata": {},
   "outputs": [],
   "source": [
    "for i in range(2,5):\n",
    "    print(i)"
   ]
  },
  {
   "cell_type": "code",
   "execution_count": null,
   "id": "d2fc7066",
   "metadata": {},
   "outputs": [],
   "source": [
    "for i in range(0,10,3): \n",
    "    print(i)"
   ]
  },
  {
   "cell_type": "code",
   "execution_count": null,
   "id": "8c2be251",
   "metadata": {},
   "outputs": [],
   "source": [
    "A = \"hello world\"\n",
    "for i in range(len(A)):\n",
    "    print(f\"the {i}th character is {A[i]}\")"
   ]
  },
  {
   "cell_type": "markdown",
   "id": "bc92d102",
   "metadata": {},
   "source": [
    "### Nested loops\n",
    "\n",
    "Loops can be nested (the classicla example would be to go thuough the elements of a list of lists (a matrix), a list of list of lists, a list of list of list of lists...).\n"
   ]
  },
  {
   "cell_type": "code",
   "execution_count": null,
   "id": "3857ff90",
   "metadata": {},
   "outputs": [],
   "source": [
    "M = [[1,2,3],[4,5,6],[7,8,9]]\n",
    "for row in M:\n",
    "    print(row)\n",
    "\n",
    "# print only the lower triangular part:\n",
    "n = len(M)\n",
    "for i in range(n):\n",
    "    for j in range(i+1):\n",
    "        print(M[i][j], end=' ')\n",
    "    print()\n",
    "\n",
    "# another way:\n",
    "for rowIdx, row in enumerate(M):\n",
    "    for colIdx, v in enumerate(row[:rowIdx+1]):\n",
    "        print(v, end=' ')\n",
    "    print()\n"
   ]
  },
  {
   "cell_type": "code",
   "execution_count": null,
   "id": "c571138d",
   "metadata": {},
   "outputs": [],
   "source": [
    "# Illustrating the order of operations in a 3-level nested loop \n",
    "n = 2\n",
    "for i in range(n):\n",
    "    # i is the outermost index. It changes very slowly\n",
    "    for j in range(n):\n",
    "        for k in range(n):\n",
    "            # k is the innermost index. It changes very quickly\n",
    "            print(\"i \",i,\" j \",j,\" k \", k)"
   ]
  },
  {
   "cell_type": "markdown",
   "id": "a83c04c0",
   "metadata": {},
   "source": [
    "Be aware that the complexity grows quickly!\n",
    "When using nested loops, ask your self whether there is a way that does not involve nesting"
   ]
  },
  {
   "cell_type": "code",
   "execution_count": null,
   "id": "488843a5",
   "metadata": {},
   "outputs": [],
   "source": [
    "for i in range(n):\n",
    "    for j in range(p):\n",
    "        # do something\n",
    "        # This will be repeated n.p times\n",
    "        # Python does not like loops that do nothing so we add the \"continue\" statement that doesn't do anything really\n",
    "        continue \n",
    "\n",
    "for i in range(n):\n",
    "    for j in range(n):\n",
    "        for k in range(n):\n",
    "            # do something\n",
    "            # This will be repeated n^3 times\n",
    "            continue"
   ]
  },
  {
   "cell_type": "markdown",
   "id": "fd091bfd",
   "metadata": {},
   "source": [
    "### `Break` and `continue`\n",
    "A `break` statement is used within a `for` or a `while` loop to allow the program execution to exit the loop once a\n",
    "given condition is triggered. A `break` statement can be used to improve runtime efficiency when further loop\n",
    "execution is not required."
   ]
  },
  {
   "cell_type": "code",
   "execution_count": null,
   "id": "1678d611",
   "metadata": {},
   "outputs": [],
   "source": [
    "# example: breaking out of an infinite loop:\n",
    "counter = 1\n",
    "while True:\n",
    "    if counter >= 10:\n",
    "        break\n",
    "    print(counter)\n",
    "    counter += 1"
   ]
  },
  {
   "cell_type": "code",
   "execution_count": null,
   "id": "b1fa7a43",
   "metadata": {},
   "outputs": [],
   "source": [
    "# back to previous example:\n",
    "M = [[1,2,3],[4,5,6],[7,8,9]]\n",
    "print(\"Lower triangular part of M\")\n",
    "n = len(M)\n",
    "for i in range(n):\n",
    "    for j in range(n):\n",
    "        print(M[i][j], end=' ')\n",
    "        if j == i:\n",
    "            print()\n",
    "            break"
   ]
  },
  {
   "cell_type": "markdown",
   "id": "42658770",
   "metadata": {},
   "source": [
    "### Loop `else`\n",
    "\n",
    "An `else` statement in a loop can be used to check if the loop was exited through a `break` statement of not. (It's not a very well-know feature that can lead to very clean code"
   ]
  },
  {
   "cell_type": "code",
   "execution_count": null,
   "id": "026a3fad-0567-45a9-98f5-4cb2c600d1b4",
   "metadata": {},
   "outputs": [],
   "source": [
    "# Example: testing if a number is prime (not efficient)\n",
    "# is_prime = True\n",
    "for i in range(2,N):\n",
    "    if not N%i:\n",
    "        is_prime = False\n",
    "        print(f\"{i} divides {N}\")\n",
    "        break\n",
    "if is_prime:\n",
    "    print(f\"{N} is prime\")"
   ]
  },
  {
   "cell_type": "code",
   "execution_count": null,
   "id": "deeb3671-422b-4640-8f90-f93b6706b753",
   "metadata": {},
   "outputs": [],
   "source": [
    "# Example: testing if a number is prime (not efficient)\n",
    "# Same, rewritten using a loop else\n",
    "N = 13\n",
    "for i in range(2,N):\n",
    "    if not N%i:\n",
    "        print(f\"{i} divides {N}\")\n",
    "        break\n",
    "else:\n",
    "    print(f\"{N} is prime\")"
   ]
  },
  {
   "cell_type": "markdown",
   "id": "065852d4-b5a7-4c55-9a05-7b8ad02130bb",
   "metadata": {},
   "source": [
    "## 5.3 zip and enumerate\n",
    "Given 2 collections with the same length, the `zip` operator makes it possible to iterate over both container simultaneously.\n",
    "\n",
    "`enumerate` automatically increments a counter"
   ]
  },
  {
   "cell_type": "code",
   "execution_count": null,
   "id": "6c51b7cb-6a54-4eef-b0ca-3de9e12e37c2",
   "metadata": {},
   "outputs": [],
   "source": [
    "A = \"hello world\"\n",
    "for (i,c) in zip(range(len(A)),A):\n",
    "    print(f\"the {i}th character is {A[i]}\") "
   ]
  },
  {
   "cell_type": "code",
   "execution_count": null,
   "id": "092de7a9-a4b4-4ffa-a4d3-059f35a5331c",
   "metadata": {},
   "outputs": [],
   "source": [
    "A = 'hello world'\n",
    "for i, c in enumerate(A):\n",
    "    print(f\"the {i}th character is {A[i]}\")"
   ]
  },
  {
   "cell_type": "markdown",
   "id": "d8bf63da-5f83-462d-8782-e5a8ac046fac",
   "metadata": {},
   "source": [
    "### Note:\n",
    "Do not abuse the `range` operator.  \n",
    "In particular, a loop of the form \n",
    "```\n",
    "   for i in range(len(<container>)):\n",
    "```  \n",
    "can most of the time be replaced with the more readable version:\n",
    "```\n",
    "   for idx, entry in enumerate(<container>):\n",
    "```"
   ]
  },
  {
   "cell_type": "markdown",
   "id": "bf12b8a0",
   "metadata": {},
   "source": []
  }
 ],
 "metadata": {
  "kernelspec": {
   "display_name": "Python 3 (ipykernel)",
   "language": "python",
   "name": "python3"
  },
  "language_info": {
   "codemirror_mode": {
    "name": "ipython",
    "version": 3
   },
   "file_extension": ".py",
   "mimetype": "text/x-python",
   "name": "python",
   "nbconvert_exporter": "python",
   "pygments_lexer": "ipython3",
   "version": "3.13.5"
  }
 },
 "nbformat": 4,
 "nbformat_minor": 5
}
