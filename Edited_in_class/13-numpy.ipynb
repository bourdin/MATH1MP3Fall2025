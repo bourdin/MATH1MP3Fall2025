{
 "cells": [
  {
   "cell_type": "markdown",
   "id": "7838dc07-7fbf-4194-a512-006a52fa42f0",
   "metadata": {},
   "source": [
    "# Chapter 14. `numpy`\n",
    "\n",
    "`numpy` provides many low level tools for computational work with python.\n",
    "The most important ones are `ndarrays`, *i.e.* n-dimensional arrays.\n",
    "\n",
    "## 14.1: `ndarray`\n",
    "\n",
    "Python lists are not the same as math vectors. In particular, the addition, scalar multiplication etc of lists does not work the way math vectors work.\n",
    "\n",
    "Let's start with one-dimensional arrays and compare the following\n"
   ]
  },
  {
   "cell_type": "code",
   "execution_count": 5,
   "id": "d57754b2-915b-4eac-8ace-1fa83f2748c3",
   "metadata": {},
   "outputs": [
    {
     "name": "stdout",
     "output_type": "stream",
     "text": [
      "[1, 2, 3, 2, 7, 9]\n",
      "[1, 2, 3, 1, 2, 3]\n",
      "[1, 2, 3, 1, 2, 3]\n"
     ]
    }
   ],
   "source": [
    "A = [1, 2, 3]\n",
    "B = [2, 7, 9]\n",
    "print(A + B)\n",
    "print(2*A)\n",
    "print(A*2)\n"
   ]
  },
  {
   "cell_type": "code",
   "execution_count": 4,
   "id": "7c337391-610c-489c-b903-25bb6f52bd24",
   "metadata": {},
   "outputs": [
    {
     "ename": "TypeError",
     "evalue": "can't multiply sequence by non-int of type 'float'",
     "output_type": "error",
     "traceback": [
      "\u001b[31m---------------------------------------------------------------------------\u001b[39m",
      "\u001b[31mTypeError\u001b[39m                                 Traceback (most recent call last)",
      "\u001b[36mCell\u001b[39m\u001b[36m \u001b[39m\u001b[32mIn[4]\u001b[39m\u001b[32m, line 1\u001b[39m\n\u001b[32m----> \u001b[39m\u001b[32m1\u001b[39m \u001b[38;5;28mprint\u001b[39m(\u001b[43mA\u001b[49m\u001b[43m*\u001b[49m\u001b[32;43m2.5\u001b[39;49m)\n",
      "\u001b[31mTypeError\u001b[39m: can't multiply sequence by non-int of type 'float'"
     ]
    }
   ],
   "source": [
    "print(A*2.5)"
   ]
  },
  {
   "cell_type": "code",
   "execution_count": 3,
   "id": "3f539896-9468-425b-9595-81a997ff052f",
   "metadata": {},
   "outputs": [
    {
     "name": "stdout",
     "output_type": "stream",
     "text": [
      "[ 2 14 27]\n"
     ]
    }
   ],
   "source": [
    "import numpy as np\n",
    "A = np.array([1, 2, 3]) # A, B are ndarrays\n",
    "B = np.array([2, 7, 9])\n",
    "# print(A + B)\n",
    "\n",
    "print(A * B)\n",
    "\n"
   ]
  },
  {
   "cell_type": "markdown",
   "id": "ea820d13-e011-4b04-a590-9e06ed561e3b",
   "metadata": {},
   "source": [
    "Short version: most algebraic operators apply on each term (dot operators with matlab). Python calls this \"broadcasting\".\n"
   ]
  },
  {
   "cell_type": "code",
   "execution_count": 7,
   "id": "5fa961a5-b9bd-496f-91f6-1d79d2ad92bf",
   "metadata": {},
   "outputs": [
    {
     "name": "stdout",
     "output_type": "stream",
     "text": [
      "[ 5 50 82]\n",
      "[ 4 14 18]\n",
      "[ 4 14 18]\n",
      "[ 3  8 10]\n"
     ]
    }
   ],
   "source": [
    "def f(x):\n",
    "    return x**2+1\n",
    "print(f(B))\n",
    "print(2*B)\n",
    "print(B*2)\n",
    "print(B+1)\n"
   ]
  },
  {
   "cell_type": "markdown",
   "id": "44e388da-430c-4bb8-9b88-5952c919d598",
   "metadata": {},
   "source": [
    "We'll see later more ways to initialize ndarrays, but for instance, \n",
    "```\n",
    "M = np.array([[1,2,3], [4,5,6], [7,8,9]])\n",
    "``` \n",
    "will initialize a two-dimensional ndarray"
   ]
  },
  {
   "cell_type": "code",
   "execution_count": 4,
   "id": "acc0f6b4-5cbb-412a-ba91-c5179cc6d1b8",
   "metadata": {},
   "outputs": [
    {
     "name": "stdout",
     "output_type": "stream",
     "text": [
      "[[1 2 3]\n",
      " [4 5 6]\n",
      " [7 8 9]]\n"
     ]
    }
   ],
   "source": [
    "M = np.array([[1,2,3], [4,5,6], [7,8,9]])\n",
    "print(M)"
   ]
  },
  {
   "cell_type": "markdown",
   "id": "05697ec4-f32e-4a98-b34b-1805e0d41412",
   "metadata": {},
   "source": [
    "Unlike python arrays, all elements of a ndarray must be of the same type, all rows (sections) of a ndarray must be of the same size, and the size cannot be changed"
   ]
  },
  {
   "cell_type": "raw",
   "id": "438bd3a7-8291-4a4f-97e8-840721f06740",
   "metadata": {},
   "source": []
  },
  {
   "cell_type": "code",
   "execution_count": 17,
   "id": "9b425c82-0c6a-457e-9775-f7a3bfa7c89a",
   "metadata": {},
   "outputs": [
    {
     "name": "stdout",
     "output_type": "stream",
     "text": [
      "[1 2 3]\n",
      "[1 2 3]\n",
      "[[1, 2, 3], [4, 5]]\n"
     ]
    }
   ],
   "source": [
    "\n",
    "u = np.array([1,2,3])\n",
    "# u.append(2)\n",
    "print(u)\n",
    "# \n",
    "\n",
    "print(u)\n",
    "\n",
    "A = [[1,2,3], [4,5]]\n",
    "print(A)\n",
    "\n"
   ]
  },
  {
   "cell_type": "code",
   "execution_count": 6,
   "id": "82137d90-c647-494d-83e2-6e7ccb3885e3",
   "metadata": {},
   "outputs": [
    {
     "ename": "ValueError",
     "evalue": "setting an array element with a sequence. The requested array has an inhomogeneous shape after 1 dimensions. The detected shape was (2,) + inhomogeneous part.",
     "output_type": "error",
     "traceback": [
      "\u001b[31m---------------------------------------------------------------------------\u001b[39m",
      "\u001b[31mValueError\u001b[39m                                Traceback (most recent call last)",
      "\u001b[36mCell\u001b[39m\u001b[36m \u001b[39m\u001b[32mIn[6]\u001b[39m\u001b[32m, line 1\u001b[39m\n\u001b[32m----> \u001b[39m\u001b[32m1\u001b[39m u = \u001b[43mnp\u001b[49m\u001b[43m.\u001b[49m\u001b[43marray\u001b[49m\u001b[43m(\u001b[49m\u001b[43m[\u001b[49m\u001b[43m[\u001b[49m\u001b[32;43m1\u001b[39;49m\u001b[43m,\u001b[49m\u001b[32;43m2\u001b[39;49m\u001b[43m,\u001b[49m\u001b[43m \u001b[49m\u001b[32;43m3\u001b[39;49m\u001b[43m]\u001b[49m\u001b[43m,\u001b[49m\u001b[43m \u001b[49m\u001b[43m[\u001b[49m\u001b[32;43m3\u001b[39;49m\u001b[43m,\u001b[49m\u001b[32;43m4\u001b[39;49m\u001b[43m]\u001b[49m\u001b[43m]\u001b[49m\u001b[43m)\u001b[49m\n",
      "\u001b[31mValueError\u001b[39m: setting an array element with a sequence. The requested array has an inhomogeneous shape after 1 dimensions. The detected shape was (2,) + inhomogeneous part."
     ]
    }
   ],
   "source": [
    "u = np.array([[1,2, 3], [3,4]])"
   ]
  },
  {
   "cell_type": "markdown",
   "id": "3c6eaadd-cc8a-4cb7-add2-5b0724f45b7d",
   "metadata": {},
   "source": [
    "## 14.2 Axes\n",
    "In order to avoid confusion between the shape of `ndarray`s and the data they represent, numpy refers do dimension as `axes`.\n",
    "\n",
    "For instance, `np.array([[1,2,3],[4,5,6])` could represent 2 points in 3 dimensional space, or 3 points in the plane, but numpy think of oit as an array with 2 axes.\n",
    "\n",
    "Element of arrays with more than 1 axis can be indexed by specifiying all indices in a single set of square brackets"
   ]
  },
  {
   "cell_type": "code",
   "execution_count": 7,
   "id": "0b4beaa1-1499-4a25-b8f1-72f57a940811",
   "metadata": {},
   "outputs": [
    {
     "name": "stdout",
     "output_type": "stream",
     "text": [
      "A:  [[ 1  2  3  4]\n",
      " [ 5  6  7  8]\n",
      " [ 9 10 11 12]]\n",
      "A[0]:  [1 2 3 4]\n",
      "A[0,0]:  1\n"
     ]
    }
   ],
   "source": [
    "A = np.array([[1, 2, 3, 4], [5, 6, 7, 8], [9, 10, 11, 12]])\n",
    "print(\"A: \",A)\n",
    "print(\"A[0]: \", A[0])\n",
    "print(\"A[0,0]: \", A[0,0]) # same as A[0][0] but more compact"
   ]
  },
  {
   "cell_type": "markdown",
   "id": "a1302cc9-e0bf-4fbf-aaba-0735b6ad2a27",
   "metadata": {},
   "source": [
    "Basic information on axes:\n",
    "* `ndim`: number of axes\n",
    "* `shape`: length along all axes\n",
    "* `size`: total number of values"
   ]
  },
  {
   "cell_type": "code",
   "execution_count": 8,
   "id": "b9c8ab82-4df8-417b-a8bd-68315c83dd5f",
   "metadata": {},
   "outputs": [
    {
     "name": "stdout",
     "output_type": "stream",
     "text": [
      "[[ 1  2  3  4]\n",
      " [ 5  6  7  8]\n",
      " [ 9 10 11 12]]\n",
      "A.ndim:   2\n",
      "A.shape:  (3, 4)\n",
      "A.size:   12\n"
     ]
    }
   ],
   "source": [
    "print(A)\n",
    "print(\"A.ndim:  \", A.ndim)\n",
    "print(\"A.shape: \", A.shape)\n",
    "print(\"A.size:  \", A.size)\n"
   ]
  },
  {
   "cell_type": "code",
   "execution_count": 18,
   "id": "0e0caee9-4c64-4d33-9651-d9c599b39754",
   "metadata": {},
   "outputs": [
    {
     "data": {
      "text/plain": [
       "3"
      ]
     },
     "execution_count": 18,
     "metadata": {},
     "output_type": "execute_result"
    }
   ],
   "source": [
    "l =  [[1, 2, 3, 4], [5, 6, 7, 8], [9, 10, 11, 12]]\n",
    "len(l)\n"
   ]
  },
  {
   "cell_type": "code",
   "execution_count": 24,
   "id": "8635157b-b3e0-4287-86b2-0ae0f6e73e41",
   "metadata": {},
   "outputs": [
    {
     "name": "stdout",
     "output_type": "stream",
     "text": [
      "[[[ 0  1  2  3]\n",
      "  [ 4  5  6  7]]\n",
      "\n",
      " [[10 11 12 13]\n",
      "  [14 15 16 17]]\n",
      "\n",
      " [[20 21 22 23]\n",
      "  [24 25 26 27]]]\n",
      "B.ndim:   3\n",
      "B.shape:  (3, 2, 4)\n",
      "B.size:   24\n"
     ]
    }
   ],
   "source": [
    "B = np.array([[[0, 1, 2, 3],\n",
    "               [4, 5, 6, 7]],\n",
    "              [[10, 11, 12, 13],\n",
    "               [14, 15, 16, 17]],\n",
    "              [[20 ,21 ,22, 23],\n",
    "               [24, 25, 26, 27]]])\n",
    "print(B)\n",
    "print(\"B.ndim:  \", B.ndim)\n",
    "print(\"B.shape: \", B.shape)\n",
    "print(\"B.size:  \", B.size)\n",
    "\n"
   ]
  },
  {
   "cell_type": "code",
   "execution_count": 32,
   "id": "b3c0d1e7-0205-43cc-9f04-0c8c8a7a5a4f",
   "metadata": {},
   "outputs": [
    {
     "name": "stdout",
     "output_type": "stream",
     "text": [
      "26\n",
      "[6 7]\n",
      "[[ 0  4]\n",
      " [10 14]\n",
      " [20 24]]\n",
      "[[ 1  5]\n",
      " [11 15]]\n"
     ]
    }
   ],
   "source": [
    "print(B[2,1,2])\n",
    "\n",
    "print(B[0,1,2:4])\n",
    "\n",
    "\n",
    "print(B[:,:,0])\n",
    "print(B[0:2,0:2,1])\n"
   ]
  },
  {
   "cell_type": "markdown",
   "id": "40317b69-70ea-4804-a575-f70edf79f710",
   "metadata": {},
   "source": [
    "For most operations, one can specify an axis along which to operate, for instance:"
   ]
  },
  {
   "cell_type": "code",
   "execution_count": 39,
   "id": "ee24e33b-8546-438a-8f2b-dd0550a1f436",
   "metadata": {},
   "outputs": [
    {
     "name": "stdout",
     "output_type": "stream",
     "text": [
      "[[ 1  2  3  4]\n",
      " [ 5  6  7  8]\n",
      " [ 9 10 11 12]]\n",
      "78\n",
      "[15 18 21 24]\n",
      "[10 26 42]\n"
     ]
    }
   ],
   "source": [
    "A = np.array([[1, 2, 3, 4], [5, 6, 7, 8], [9, 10, 11, 12]])\n",
    "print(A)\n",
    "\n",
    "print(A.sum())\n",
    "\n",
    "print(A.sum(axis=0))\n",
    "print(A.sum(axis=1))\n",
    "\n"
   ]
  },
  {
   "cell_type": "markdown",
   "id": "bed3134f-928d-4b42-9fbd-caa39ed6302c",
   "metadata": {},
   "source": [
    "## 14.3 Commonly used arrays\n",
    "* `zeros`: arrays full of 0s\n",
    "*  `ones`: array full of 1s\n",
    "*  `empty`: empty array (useful since ndarrays cannot be extended)\n",
    "*  `arange`: arrays with a range of numbers. Unlike `range`, elements do not have to be integers\n",
    "*  `linspace`: arrays with equally spaced elements\n",
    "*  `eye`: 2D identity matrix\n",
    "*  `meshgrid`: create a set of (x,y) coordinates given x and y"
   ]
  },
  {
   "cell_type": "code",
   "execution_count": null,
   "id": "0bd24e90-d16a-420f-a75a-d8aaa1503d45",
   "metadata": {},
   "outputs": [],
   "source": []
  },
  {
   "cell_type": "code",
   "execution_count": null,
   "id": "595d6b90-d871-4c5c-805a-4bddbc8637f6",
   "metadata": {},
   "outputs": [],
   "source": []
  },
  {
   "cell_type": "code",
   "execution_count": null,
   "id": "93acf8c2-b917-4755-a8f3-6d562606bfc5",
   "metadata": {},
   "outputs": [],
   "source": []
  },
  {
   "cell_type": "code",
   "execution_count": 9,
   "id": "72217d5c-68e5-4848-af3c-1e6fe1f97732",
   "metadata": {},
   "outputs": [
    {
     "name": "stdout",
     "output_type": "stream",
     "text": [
      "0\n",
      "1\n",
      "2\n",
      "0\n",
      "1\n",
      "2\n",
      "range(0, 3)\n",
      "[0, 1, 2, 3, 4]\n",
      "[0, 1, 2, 3, 4]\n",
      "[1 3]\n",
      "[0.   0.25 0.5  0.75 1.  ]\n"
     ]
    }
   ],
   "source": [
    "#print(np.empty( (4,3) ))\n",
    "import numpy as np\n",
    "\n",
    "for i in range(3):\n",
    "    print(i)\n",
    "    \n",
    "for i in [0,1,2]:\n",
    "    print(i)\n",
    "print(range(3))\n",
    "\n",
    "# n -> 0, 1, 2, 3, 4, 5 ... n-1]\n",
    "n = 5\n",
    "\n",
    "\n",
    "l = []\n",
    "i = 0\n",
    "while i < n:\n",
    "    l.append(i)\n",
    "    i += 1\n",
    "print(l)\n",
    "\n",
    "l = [i for i in range(n)]\n",
    "print(l)\n",
    "\n",
    "L = np.arange(1,5,2)\n",
    "\n",
    "print(L)\n",
    "print(np.linspace(0,1,5))\n",
    "\n",
    "\n",
    "\n",
    "\n",
    "#print(np.arange(1.5, 9.5, 2))\n",
    "#print(np.linspace(0,1,8))"
   ]
  },
  {
   "cell_type": "code",
   "execution_count": null,
   "id": "6082672d-c58a-428f-9f84-28febe0a1251",
   "metadata": {},
   "outputs": [],
   "source": []
  },
  {
   "cell_type": "code",
   "execution_count": 12,
   "id": "5bdbab6c-795c-4310-a63d-c681e92dda2a",
   "metadata": {},
   "outputs": [
    {
     "name": "stdout",
     "output_type": "stream",
     "text": [
      "[[0. 0. 0.]\n",
      " [0. 0. 0.]]\n",
      "[[ 1.14285714 -2.28571429  0.57142857]\n",
      " [-2.28571429  4.97142857 -1.54285714]\n",
      " [ 0.57142857 -1.54285714  0.88571429]]\n"
     ]
    }
   ],
   "source": [
    "print(np.zeros( (2,3) ))\n",
    "print(np.empty( (3,3) )) # values are uninitialized and can be anything"
   ]
  },
  {
   "cell_type": "code",
   "execution_count": 15,
   "id": "b93b97be-6b08-49f5-8b9d-d84e309fe302",
   "metadata": {},
   "outputs": [
    {
     "name": "stdout",
     "output_type": "stream",
     "text": [
      "[0.         0.33333333 0.66666667 1.        ]\n",
      "[2.   2.25 2.5  2.75 3.  ]\n"
     ]
    },
    {
     "data": {
      "text/plain": [
       "tuple"
      ]
     },
     "execution_count": 15,
     "metadata": {},
     "output_type": "execute_result"
    }
   ],
   "source": [
    "x = np.linspace(0,1,4)\n",
    "y = np.linspace(2,3,5)\n",
    "print(x)\n",
    "print(y)\n"
   ]
  },
  {
   "cell_type": "markdown",
   "id": "f4641dc4-38a2-4950-8d23-4f2f7e766c01",
   "metadata": {},
   "source": [
    "## 14.4 Indexing\n",
    "Usual indexing rules apply and can be used along any axis"
   ]
  },
  {
   "cell_type": "code",
   "execution_count": 13,
   "id": "b5391c7e-29ad-410a-8ab8-032be5994e49",
   "metadata": {},
   "outputs": [
    {
     "name": "stdout",
     "output_type": "stream",
     "text": [
      "[1 2] [3 4 5 6]\n",
      "[3 4]\n",
      "[1 3 5]\n"
     ]
    }
   ],
   "source": [
    "A = np.array([1,2,3,4,5,6])\n",
    "print(A[:2], A[2:])\n",
    "print(A[2:4])\n",
    "print(A[0::2])\n"
   ]
  },
  {
   "cell_type": "code",
   "execution_count": 14,
   "id": "8177c20f-35db-4d1c-b0fd-ee66e0ac79f4",
   "metadata": {},
   "outputs": [
    {
     "name": "stdout",
     "output_type": "stream",
     "text": [
      "[[0 1 2 3]\n",
      " [4 5 6 7]]\n",
      "[[ 0  1  2  3]\n",
      " [10 11 12 13]\n",
      " [20 21 22 23]]\n",
      "[[ 0  4]\n",
      " [10 14]\n",
      " [20 24]]\n"
     ]
    }
   ],
   "source": [
    "A = np.array([[[0, 1, 2, 3],\n",
    "               [4, 5, 6, 7]],\n",
    "              [[10, 11, 12, 13],\n",
    "               [14, 15, 16, 17]],\n",
    "              [[20 ,21 ,22, 23],\n",
    "               [24, 25, 26, 27]]])\n",
    "print(A[0,:,:])\n",
    "print(A[:,0,:])\n",
    "print(A[:,:,0])"
   ]
  },
  {
   "cell_type": "markdown",
   "id": "4eaffde9-a262-4554-a953-65f8fbeb649f",
   "metadata": {},
   "source": [
    "## 14.5 masking / filtering"
   ]
  },
  {
   "cell_type": "code",
   "execution_count": 17,
   "id": "2782fc27-b02c-470e-a0e7-10b4212686ee",
   "metadata": {},
   "outputs": [
    {
     "name": "stdout",
     "output_type": "stream",
     "text": [
      "[ 0  1  2  3  4  5  6  7  8  9 10 11]\n",
      "[False False False False False  True  True  True  True  True  True  True]\n",
      "[ 5  6  7  8  9 10 11]\n"
     ]
    }
   ],
   "source": [
    "a = np.arange(12)\n",
    "print(a)\n",
    "\n",
    "print(a>4)\n",
    "\n",
    "print(a[a>4])\n"
   ]
  },
  {
   "cell_type": "code",
   "execution_count": 19,
   "id": "45e15fa0-39c3-4816-8d31-57ef7d611c98",
   "metadata": {},
   "outputs": [
    {
     "name": "stdout",
     "output_type": "stream",
     "text": [
      "[[ 1  2  3  4]\n",
      " [ 5  6  7  8]\n",
      " [ 9 10 11 12]]\n",
      "[[False  True False  True]\n",
      " [False  True False  True]\n",
      " [False  True False  True]]\n"
     ]
    }
   ],
   "source": [
    "A = np.array([[1, 2, 3, 4], [5, 6, 7, 8], [9, 10, 11, 12]])\n",
    "\n",
    "print(A)\n",
    "\n",
    "print(A%2==0)"
   ]
  },
  {
   "cell_type": "code",
   "execution_count": 20,
   "id": "fd9ef91a-80e2-47e0-b3ba-5070f2aa744d",
   "metadata": {},
   "outputs": [
    {
     "name": "stdout",
     "output_type": "stream",
     "text": [
      "[[ 0  2  0  4]\n",
      " [ 0  6  0  8]\n",
      " [ 0 10  0 12]]\n"
     ]
    }
   ],
   "source": [
    "print(A * (A%2 == 0))\n"
   ]
  },
  {
   "cell_type": "markdown",
   "id": "9cfc977c-3858-48eb-a6b1-c15a18af6d9f",
   "metadata": {},
   "source": [
    "## 14.6 stacking\n",
    "* `hstack`\n",
    "* `vstack`\n",
    "* `dstack`\n"
   ]
  },
  {
   "cell_type": "code",
   "execution_count": 18,
   "id": "f2125dee-0839-47a8-9936-09c49350067d",
   "metadata": {},
   "outputs": [],
   "source": [
    "a1 = np.array([[1, 1],\n",
    "               [2, 2]])\n",
    "\n",
    "a2 = np.array([[3, 3],\n",
    "               [4, 4]])"
   ]
  },
  {
   "cell_type": "code",
   "execution_count": 19,
   "id": "73597f38-38ca-4849-a1de-7536ea727305",
   "metadata": {},
   "outputs": [
    {
     "data": {
      "text/plain": [
       "array([[1, 1],\n",
       "       [2, 2],\n",
       "       [3, 3],\n",
       "       [4, 4]])"
      ]
     },
     "execution_count": 19,
     "metadata": {},
     "output_type": "execute_result"
    }
   ],
   "source": [
    "np.vstack((a1, a2))"
   ]
  },
  {
   "cell_type": "code",
   "execution_count": 20,
   "id": "0bba3ff4-9d3b-41ce-be87-bcf65ff21330",
   "metadata": {},
   "outputs": [
    {
     "data": {
      "text/plain": [
       "array([[1, 1, 3, 3],\n",
       "       [2, 2, 4, 4]])"
      ]
     },
     "execution_count": 20,
     "metadata": {},
     "output_type": "execute_result"
    }
   ],
   "source": [
    "np.hstack((a1, a2))"
   ]
  },
  {
   "cell_type": "code",
   "execution_count": 21,
   "id": "98899bb9-23a5-42d4-84fa-ff1f41e2b781",
   "metadata": {},
   "outputs": [
    {
     "data": {
      "text/plain": [
       "array([[[ 0,  1,  2,  3,  0,  1,  2,  3],\n",
       "        [ 4,  5,  6,  7,  4,  5,  6,  7]],\n",
       "\n",
       "       [[10, 11, 12, 13, 10, 11, 12, 13],\n",
       "        [14, 15, 16, 17, 14, 15, 16, 17]],\n",
       "\n",
       "       [[20, 21, 22, 23, 20, 21, 22, 23],\n",
       "        [24, 25, 26, 27, 24, 25, 26, 27]]])"
      ]
     },
     "execution_count": 21,
     "metadata": {},
     "output_type": "execute_result"
    }
   ],
   "source": [
    "A = np.array([[[0, 1, 2, 3],\n",
    "               [4, 5, 6, 7]],\n",
    "              [[10, 11, 12, 13],\n",
    "               [14, 15, 16, 17]],\n",
    "              [[20 ,21 ,22, 23],\n",
    "               [24, 25, 26, 27]]])\n",
    "np.dstack((A,A))"
   ]
  },
  {
   "cell_type": "markdown",
   "id": "2ec18e6b-1766-4323-9e62-48166053362c",
   "metadata": {},
   "source": [
    "## 14.7 reshaping\n",
    "numpy arrays can be reshaped (provided that it does not change the size). Note that reshaping does not change the underlying data (i.e., does not reorder terms)"
   ]
  },
  {
   "cell_type": "code",
   "execution_count": 33,
   "id": "49aab1f0-6bff-4ae8-bc01-4c5b640e8abe",
   "metadata": {},
   "outputs": [
    {
     "name": "stdout",
     "output_type": "stream",
     "text": [
      "[[[ 0  1  2  3]\n",
      "  [ 4  5  6  7]\n",
      "  [ 8  9 10 11]]\n",
      "\n",
      " [[12 13 14 15]\n",
      "  [16 17 18 19]\n",
      "  [20 21 22 23]]]\n"
     ]
    }
   ],
   "source": [
    "a = np.arange(24)\n",
    "# print(a.reshape(4,6))\n",
    "# print(a.reshape(6,4))\n",
    "print(a.reshape((2,3,4)))"
   ]
  },
  {
   "cell_type": "markdown",
   "id": "9ee8ebc4-a144-49d5-93ee-33112e22dc1c",
   "metadata": {},
   "source": [
    "## 14.8 loading and saving data with numpy"
   ]
  },
  {
   "cell_type": "code",
   "execution_count": 22,
   "id": "23ecb045-b785-4932-a810-b6452200bf02",
   "metadata": {},
   "outputs": [],
   "source": [
    "a = np.array([[-2.58289208,  0.43014843, -1.24082018, 1.59572603],\n",
    "              [ 0.99027828, 1.17150989,  0.94125714, -0.14692469],\n",
    "              [ 0.76989341,  0.81299683, -0.95068423, 0.11769564],\n",
    "              [ 0.20484034,  0.34784527,  1.96979195, 0.51992837]])"
   ]
  },
  {
   "cell_type": "code",
   "execution_count": 23,
   "id": "800add66-0c59-4ad0-8c51-1926db917bc8",
   "metadata": {},
   "outputs": [],
   "source": [
    "np.savetxt('example2.csv', a, delimiter = ', ')"
   ]
  },
  {
   "cell_type": "code",
   "execution_count": 35,
   "id": "a23014f6-c98c-483f-a395-b305aa09c097",
   "metadata": {},
   "outputs": [],
   "source": [
    "b = np.loadtxt('example2.csv', delimiter = ',')"
   ]
  },
  {
   "cell_type": "code",
   "execution_count": 36,
   "id": "2213207c-b4a7-4734-867c-9c5e4e7d8111",
   "metadata": {},
   "outputs": [
    {
     "name": "stdout",
     "output_type": "stream",
     "text": [
      "[[-2.58289208  0.43014843 -1.24082018  1.59572603]\n",
      " [ 0.99027828  1.17150989  0.94125714 -0.14692469]\n",
      " [ 0.76989341  0.81299683 -0.95068423  0.11769564]\n",
      " [ 0.20484034  0.34784527  1.96979195  0.51992837]]\n"
     ]
    }
   ],
   "source": [
    "print(b)"
   ]
  },
  {
   "cell_type": "markdown",
   "id": "1356ce36-8772-42e8-9728-8767f10bd715",
   "metadata": {},
   "source": [
    "## 14.9 linear algebra"
   ]
  },
  {
   "cell_type": "markdown",
   "id": "9de3cf51-5e3d-4418-a4d5-5e0d086c0d24",
   "metadata": {},
   "source": []
  },
  {
   "cell_type": "markdown",
   "id": "85bd8738-fb36-4008-afe0-01c445175510",
   "metadata": {},
   "source": [
    "M = np.array([1,2,3,4]).reshape(2,2)"
   ]
  },
  {
   "cell_type": "code",
   "execution_count": 43,
   "id": "17766af4-b366-42c9-a903-474ed8b3a4d5",
   "metadata": {},
   "outputs": [
    {
     "data": {
      "text/plain": [
       "array([[ 1,  4],\n",
       "       [ 9, 16]])"
      ]
     },
     "execution_count": 43,
     "metadata": {},
     "output_type": "execute_result"
    }
   ],
   "source": [
    "M * M"
   ]
  },
  {
   "cell_type": "markdown",
   "id": "07579292-1476-4bd6-8264-71dae72b754b",
   "metadata": {},
   "source": [
    "## 14.9 linear algebra\n",
    "Warning: `*` does term by term product. Matrix product is `@`, vector dot product is `vdot` or `vecdot`"
   ]
  },
  {
   "cell_type": "code",
   "execution_count": 46,
   "id": "53f10806-c1bc-47e3-a6eb-36e82b201c17",
   "metadata": {},
   "outputs": [],
   "source": [
    "M = np.array([1,2,3,4]).reshape((2,2))"
   ]
  },
  {
   "cell_type": "code",
   "execution_count": 48,
   "id": "2f60f157-d9ef-4e47-a5ec-3646ed0c496a",
   "metadata": {},
   "outputs": [
    {
     "data": {
      "text/plain": [
       "array([[ 1,  4],\n",
       "       [ 9, 16]])"
      ]
     },
     "execution_count": 48,
     "metadata": {},
     "output_type": "execute_result"
    }
   ],
   "source": [
    "M*M"
   ]
  },
  {
   "cell_type": "code",
   "execution_count": 49,
   "id": "ec3544a2-0a5d-4437-b37b-d42293efce59",
   "metadata": {},
   "outputs": [
    {
     "data": {
      "text/plain": [
       "array([[ 7, 10],\n",
       "       [15, 22]])"
      ]
     },
     "execution_count": 49,
     "metadata": {},
     "output_type": "execute_result"
    }
   ],
   "source": [
    "M@M"
   ]
  },
  {
   "cell_type": "code",
   "execution_count": 59,
   "id": "26baf561-7897-4d3f-8b5a-0aa1078c1fc4",
   "metadata": {},
   "outputs": [
    {
     "name": "stdout",
     "output_type": "stream",
     "text": [
      "26\n",
      "[ 2 -4  2]\n"
     ]
    }
   ],
   "source": [
    "u = np.array([3,4,5])\n",
    "v = np.array([1,2,3])\n",
    "print(np.vdot(u,v))\n",
    "print(np.linalg.cross(u,v))"
   ]
  },
  {
   "cell_type": "code",
   "execution_count": null,
   "id": "1acc137e-4cdc-49b8-837d-5ac25cecfe9d",
   "metadata": {},
   "outputs": [],
   "source": []
  }
 ],
 "metadata": {
  "kernelspec": {
   "display_name": "Python 3 (ipykernel)",
   "language": "python",
   "name": "python3"
  },
  "language_info": {
   "codemirror_mode": {
    "name": "ipython",
    "version": 3
   },
   "file_extension": ".py",
   "mimetype": "text/x-python",
   "name": "python",
   "nbconvert_exporter": "python",
   "pygments_lexer": "ipython3",
   "version": "3.13.5"
  }
 },
 "nbformat": 4,
 "nbformat_minor": 5
}
