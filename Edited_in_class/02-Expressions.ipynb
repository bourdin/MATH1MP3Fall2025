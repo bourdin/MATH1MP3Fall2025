{
 "cells": [
  {
   "cell_type": "markdown",
   "id": "69e97fc9",
   "metadata": {},
   "source": [
    "# Chapter 2. Expression"
   ]
  },
  {
   "cell_type": "markdown",
   "id": "3de14ba5",
   "metadata": {},
   "source": [
    "A *program* is a series of statements acting on variables (think about the quadratic formulas).\n",
    "An `expression` is a series of commands that represent a value to be computed."
   ]
  },
  {
   "cell_type": "code",
   "execution_count": null,
   "id": "c3778a30",
   "metadata": {},
   "outputs": [],
   "source": [
    "# the following statement is an assignment\n",
    "x = 4\n",
    "\n",
    "# this statement is an expression\n",
    "3 * x - 5\n",
    "\n",
    "# This assigns the result of the expression `3*x - 5` to the variable `y`\n",
    "y = 3 * x - 5"
   ]
  },
  {
   "cell_type": "markdown",
   "id": "5f5ff50d",
   "metadata": {},
   "source": [
    "## 1. Type conversion\n",
    "One unusual feature of python is that variable types are not frozen but can change through *implicit type conversion*."
   ]
  },
  {
   "cell_type": "code",
   "execution_count": null,
   "id": "d1b09cce",
   "metadata": {},
   "outputs": [],
   "source": [
    "x = 1\n",
    "print(x, type(x))\n",
    "x = x/3.\n",
    "print(x, type(x))"
   ]
  },
  {
   "cell_type": "code",
   "execution_count": null,
   "id": "f30309fd",
   "metadata": {},
   "outputs": [],
   "source": [
    "x = 'oualala!'\n",
    "print(x, type(x))"
   ]
  },
  {
   "cell_type": "markdown",
   "id": "d75d5894",
   "metadata": {},
   "source": [
    "It is possible (but rarely necessary) to force conversion between types using the `int()`, `float()`, or `str()` operations"
   ]
  },
  {
   "cell_type": "code",
   "execution_count": null,
   "id": "7d88b394",
   "metadata": {},
   "outputs": [],
   "source": [
    "x = str(42)\n",
    "print(x, type(x))\n",
    "x = float(42)\n",
    "print(x, type(x))"
   ]
  },
  {
   "cell_type": "code",
   "execution_count": null,
   "id": "c8f4e44a",
   "metadata": {},
   "outputs": [],
   "source": [
    "# this makes no sense\n",
    "x = int('oulala')"
   ]
  },
  {
   "cell_type": "code",
   "execution_count": null,
   "id": "dd0b9a7e",
   "metadata": {},
   "outputs": [],
   "source": [
    "# but this does\n",
    "x = '2.3'\n",
    "print(x, type(x))\n",
    "x = float(x)\n",
    "print(x, type(x))"
   ]
  },
  {
   "cell_type": "code",
   "execution_count": null,
   "id": "fe5104aa",
   "metadata": {},
   "outputs": [],
   "source": [
    "x = 1\n",
    "x = x + 2.3\n",
    "print(x, type(x))"
   ]
  },
  {
   "cell_type": "code",
   "execution_count": null,
   "id": "00052edd",
   "metadata": {},
   "outputs": [],
   "source": [
    "x = 3\n",
    "x = 'oualala ' * x \n",
    "print(x, type(x))"
   ]
  },
  {
   "cell_type": "markdown",
   "id": "a61467ce",
   "metadata": {},
   "source": [
    "## 2. More of floating point numbers\n",
    "Like most computer languages, python uses a binary representation of numbers:\n",
    "\n",
    "* Integers can be represented exactly by a series of 'bits' (i.e. 0 or 1 as in 13 = 1 * 8 + 1 * 4 + 0 * 2 + 1 * 1 = 1101). The maximum number of bits that one is willing to use to represent integers set the largest integer that can be represented.\n",
    "* Reals are approximated by sum of powers of 1/2 multiplied by an exponent (*floating point numbers*): for instance, -0.195 could be represented as [1][011][1010]:\n",
    "\n",
    "$$ -0.195 \\simeq  (-1)^1 * 2^{-3} * (1 + 2^{-4} + 2^{-1}) = 0.1953125 $$"
   ]
  },
  {
   "cell_type": "markdown",
   "id": "16f0fac7",
   "metadata": {},
   "source": [
    " Operations on floating point numbers **are not exact** (but python tries to be smart about it). Things can go wrong in two different ways:\n",
    " * **Overflow errors** when the number representation is not sufficient to represent the result of an expression. These typically lead to python errors\n",
    " * **Round-off errors** when the *fixed precision arithmetic* (a fancy word for inexact)  leads to wrong results. These can be harder to detect\n",
    "\n"
   ]
  },
  {
   "cell_type": "code",
   "execution_count": null,
   "id": "b7fe22d1",
   "metadata": {},
   "outputs": [],
   "source": [
    "import math\n",
    "\n",
    "x = 1.2e+300\n",
    "y = x+1\n",
    "print(x==y)\n",
    "\n",
    "\n",
    "# Print floats with 30 decimal places\n",
    "x = 0.1\n",
    "y = 0.3\n",
    "print(f'{x:.30f}') # prints 0.1\n",
    "print(f'{y:.30f}') # prints 0.2\n",
    "print(f'{3*x:.30f}') # prints 0.2\n",
    "print(y==3*x)\n",
    "print(abs(y-3*x)< 1.e-12)"
   ]
  },
  {
   "cell_type": "code",
   "execution_count": null,
   "id": "7dc24bc7",
   "metadata": {},
   "outputs": [],
   "source": [
    "print('3.0 to the power of 256 =',3.0**256)\n",
    "print('3.0 to the power of 512 = ',3.0**512)\n",
    "print('3.0 to the power of 1024 = ',3.0**1024)"
   ]
  },
  {
   "cell_type": "code",
   "execution_count": null,
   "id": "73049781-cf89-417a-99ce-7959f69b5c59",
   "metadata": {},
   "outputs": [],
   "source": []
  },
  {
   "cell_type": "markdown",
   "id": "fded2948",
   "metadata": {},
   "source": [
    "### An example of loss of accuracy:\n",
    "\n",
    "let $0 < \\varepsilon <1$ be an arbitrary number, and $x = 1- \\varepsilon^2$."
   ]
  },
  {
   "cell_type": "code",
   "execution_count": null,
   "id": "53d5b44e",
   "metadata": {},
   "outputs": [],
   "source": [
    "eps = 1.e-12\n",
    "\n",
    "\n",
    "x = 1. - eps**2\n",
    "print(f\"x = {x:.32f}\")\n",
    "\n"
   ]
  },
  {
   "cell_type": "markdown",
   "id": "2f465492",
   "metadata": {},
   "source": [
    "Let then $y = \\frac{x}{1-\\varepsilon}$ and $z = \\frac{y}{1+\\varepsilon}$.\n",
    "\n",
    "Since $1-\\varepsilon^2 = (1-\\varepsilon) ( 1+\\varepsilon)$, we should have \n",
    "$ y = 1 + \\varepsilon$ and $ z = 1$."
   ]
  },
  {
   "cell_type": "code",
   "execution_count": null,
   "id": "2f903004",
   "metadata": {},
   "outputs": [],
   "source": [
    "y = x / (1. - eps)\n",
    "z = y / (1. + eps)\n",
    "# the following lines print x, y, and z with 32 digit accuracy (we'll see later what it means)\n",
    "print(f\"x = {x:.40f}\")\n",
    "print(f\"y = {y:.40f}\")\n",
    "print(f\"z = {z:.40\n",
    "f}\")"
   ]
  },
  {
   "cell_type": "markdown",
   "id": "1b75d27b",
   "metadata": {},
   "source": [
    "### A more subtle example of loss of accuracy: the harmonic series.\n",
    "\n",
    "Let $$s_n = \\sum_{i=1}^n 1/i$$\n",
    "It is \"easy\" to prove that $\\lim_{n \\to \\infty} s_n$ diverges (i.e. that $s_n$ can be made arbitrarily large by chosing $n$ large enough).\n",
    "\n",
    "Let's verify this with a simple program:"
   ]
  },
  {
   "cell_type": "code",
   "execution_count": null,
   "id": "11ff93b8",
   "metadata": {},
   "outputs": [],
   "source": [
    "import numpy as np\n",
    "n = 1000000\n",
    "\n",
    "s = np.float16(0.)\n",
    "for i in range(1,n):\n",
    "    s += np.float16(1./i)\n",
    "print(s)"
   ]
  },
  {
   "cell_type": "markdown",
   "id": "8f346ded",
   "metadata": {},
   "source": []
  },
  {
   "cell_type": "markdown",
   "id": "c708647f",
   "metadata": {},
   "source": [
    "`float16` are 16bit \"half precision\" floating point numbers capable of representing values between $2^{-14}\\sim 6.1\\times 10^{-5}$ and $2-2^{-10} = 65,504$ so that when $n \\ge 2^{14} = 16,384$, the half precision representation of $1/n$ is $0$..."
   ]
  },
  {
   "cell_type": "markdown",
   "id": "15602c13-a2f5-4cc5-b911-82af905778fa",
   "metadata": {},
   "source": [
    "$9 = 1 * 2^0 + 0 * 2^1 + 0 * 2^2 + 1 * 2^3 \\simeq [1, 0, 0, 1]\n",
    "$ \n"
   ]
  },
  {
   "cell_type": "markdown",
   "id": "04d911a6-bdd8-417d-b235-717c21274683",
   "metadata": {},
   "source": []
  },
  {
   "cell_type": "markdown",
   "id": "983d9c08-ff5a-4806-af07-d663cdc5ae89",
   "metadata": {},
   "source": [
    "## The `math` module\n",
    "in order to use most mathematical operators, you need to 'import' the `math` module. Once\n",
    "it is loaded, it will remain available for the entire session.\n",
    "\n",
    "You can see all operations provided by this module by 'listing' its content."
   ]
  },
  {
   "cell_type": "code",
   "execution_count": 1,
   "id": "4b2537a5-f42c-4c7f-b4dd-c7fe8b8594be",
   "metadata": {},
   "outputs": [
    {
     "data": {
      "text/plain": [
       "['__doc__',\n",
       " '__file__',\n",
       " '__loader__',\n",
       " '__name__',\n",
       " '__package__',\n",
       " '__spec__',\n",
       " 'acos',\n",
       " 'acosh',\n",
       " 'asin',\n",
       " 'asinh',\n",
       " 'atan',\n",
       " 'atan2',\n",
       " 'atanh',\n",
       " 'cbrt',\n",
       " 'ceil',\n",
       " 'comb',\n",
       " 'copysign',\n",
       " 'cos',\n",
       " 'cosh',\n",
       " 'degrees',\n",
       " 'dist',\n",
       " 'e',\n",
       " 'erf',\n",
       " 'erfc',\n",
       " 'exp',\n",
       " 'exp2',\n",
       " 'expm1',\n",
       " 'fabs',\n",
       " 'factorial',\n",
       " 'floor',\n",
       " 'fma',\n",
       " 'fmod',\n",
       " 'frexp',\n",
       " 'fsum',\n",
       " 'gamma',\n",
       " 'gcd',\n",
       " 'hypot',\n",
       " 'inf',\n",
       " 'isclose',\n",
       " 'isfinite',\n",
       " 'isinf',\n",
       " 'isnan',\n",
       " 'isqrt',\n",
       " 'lcm',\n",
       " 'ldexp',\n",
       " 'lgamma',\n",
       " 'log',\n",
       " 'log10',\n",
       " 'log1p',\n",
       " 'log2',\n",
       " 'modf',\n",
       " 'nan',\n",
       " 'nextafter',\n",
       " 'perm',\n",
       " 'pi',\n",
       " 'pow',\n",
       " 'prod',\n",
       " 'radians',\n",
       " 'remainder',\n",
       " 'sin',\n",
       " 'sinh',\n",
       " 'sqrt',\n",
       " 'sumprod',\n",
       " 'tan',\n",
       " 'tanh',\n",
       " 'tau',\n",
       " 'trunc',\n",
       " 'ulp']"
      ]
     },
     "execution_count": 1,
     "metadata": {},
     "output_type": "execute_result"
    }
   ],
   "source": [
    "import math\n",
    "dir(math)\n"
   ]
  },
  {
   "cell_type": "code",
   "execution_count": 2,
   "id": "0a87630e-ef1a-4232-a4c8-2af865304402",
   "metadata": {},
   "outputs": [
    {
     "name": "stdout",
     "output_type": "stream",
     "text": [
      "3.141592653589793\n"
     ]
    }
   ],
   "source": [
    "print(math.pi)\n"
   ]
  },
  {
   "cell_type": "code",
   "execution_count": 3,
   "id": "43743ddd-63e0-4946-8858-1d427b210c2e",
   "metadata": {},
   "outputs": [
    {
     "name": "stdout",
     "output_type": "stream",
     "text": [
      "-1.0\n"
     ]
    }
   ],
   "source": [
    "print(math.cos(math.pi))\n"
   ]
  },
  {
   "cell_type": "code",
   "execution_count": 6,
   "id": "78ab86c6-eb07-40de-a4a6-f41f6fc2f549",
   "metadata": {},
   "outputs": [
    {
     "data": {
      "text/plain": [
       "0.5"
      ]
     },
     "execution_count": 6,
     "metadata": {},
     "output_type": "execute_result"
    }
   ],
   "source": [
    "math.acos(0)/math.pi"
   ]
  },
  {
   "cell_type": "code",
   "execution_count": 7,
   "id": "f8678776-7f92-4592-9089-f4f3529a1027",
   "metadata": {},
   "outputs": [
    {
     "name": "stdout",
     "output_type": "stream",
     "text": [
      "Help on built-in function sumprod in module math:\n",
      "\n",
      "sumprod(p, q, /)\n",
      "    Return the sum of products of values from two iterables p and q.\n",
      "\n",
      "    Roughly equivalent to:\n",
      "\n",
      "        sum(itertools.starmap(operator.mul, zip(p, q, strict=True)))\n",
      "\n",
      "    For float and mixed int/float inputs, the intermediate products\n",
      "    and sums are computed with extended precision.\n",
      "\n"
     ]
    }
   ],
   "source": [
    "help(math.sumprod)\n"
   ]
  },
  {
   "cell_type": "code",
   "execution_count": null,
   "id": "6c71d4c7-e779-42a8-ba65-aa925190b1fe",
   "metadata": {},
   "outputs": [],
   "source": []
  }
 ],
 "metadata": {
  "kernelspec": {
   "display_name": "Python 3 (ipykernel)",
   "language": "python",
   "name": "python3"
  },
  "language_info": {
   "codemirror_mode": {
    "name": "ipython",
    "version": 3
   },
   "file_extension": ".py",
   "mimetype": "text/x-python",
   "name": "python",
   "nbconvert_exporter": "python",
   "pygments_lexer": "ipython3",
   "version": "3.13.5"
  }
 },
 "nbformat": 4,
 "nbformat_minor": 5
}
