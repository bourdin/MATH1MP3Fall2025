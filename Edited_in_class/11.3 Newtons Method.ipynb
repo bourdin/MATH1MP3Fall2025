{
 "cells": [
  {
   "cell_type": "markdown",
   "id": "1bc39dfc-759b-405d-a60c-1e7b3ed7e6cf",
   "metadata": {},
   "source": [
    "# Newton's method\n",
    "\n",
    "$$\n",
    "x_n = x_{n-1} - \\frac{f(x_{n-1})}{f'(x_{n-1})}\n",
    "$$\n"
   ]
  },
  {
   "cell_type": "code",
   "execution_count": 3,
   "id": "26828e35-14d5-4f35-86d3-f737377ca601",
   "metadata": {},
   "outputs": [],
   "source": [
    "import math\n",
    "def f(x):\n",
    "    return math.cos(x)\n",
    "def fprime(x):\n",
    "    return -math.sin(x)\n",
    "\n",
    "    "
   ]
  },
  {
   "cell_type": "code",
   "execution_count": 6,
   "id": "20fc7260-f3ac-475a-aa73-54a00670861a",
   "metadata": {},
   "outputs": [],
   "source": [
    "def NewtonsMethod(f, fprime, x0, tol=1.e-6):\n",
    "# xn is x_n\n",
    "# xnm1 is x_{n-1}\n",
    "    nIter = 0\n",
    "    xnm1 = x0\n",
    "    xn = x0\n",
    "    while abs(f(xn)) >= tol:\n",
    "       nIter += 1\n",
    "       xn = xnm1 - f(xnm1) / fprime(xnm1)\n",
    "       xnm1 = xn\n",
    "       print(f\"step: {nIter}, x = {xn}, f(x) = {f(xn)}\")\n",
    "    return xn \n",
    "\n",
    "    "
   ]
  },
  {
   "cell_type": "code",
   "execution_count": 13,
   "id": "80154a64-6afa-479b-8047-cb201373280e",
   "metadata": {},
   "outputs": [
    {
     "name": "stdout",
     "output_type": "stream",
     "text": [
      "step: 1, x = 20.033330554894015, f(x) = 0.3774320702816059\n",
      "step: 2, x = 20.440908177298457, f(x) = -0.020554481357053393\n",
      "step: 3, x = 20.420349352567552, f(x) = 2.895766104142157e-06\n",
      "step: 4, x = 20.420352248333657, f(x) = -9.803364199544708e-16\n"
     ]
    },
    {
     "data": {
      "text/plain": [
       "20.420352248333657"
      ]
     },
     "execution_count": 13,
     "metadata": {},
     "output_type": "execute_result"
    }
   ],
   "source": [
    "NewtonsMethod(f, fprime, 0.05)\n",
    "\n",
    "\n"
   ]
  },
  {
   "cell_type": "markdown",
   "id": "8de7dd34-3653-44a5-b06c-5245f96613ae",
   "metadata": {},
   "source": [
    "### Quasi-Newton methods:\n",
    "basic idea is to replace $f'$ with an approximation, for instance $\\frac{f(a+h) - f(a)}{h}$ for a small enough $h$.\n",
    "\n",
    "\n",
    "\n",
    "\n"
   ]
  },
  {
   "cell_type": "code",
   "execution_count": 10,
   "id": "2e1dcab2-0280-40ff-a1c4-91251278bacc",
   "metadata": {},
   "outputs": [],
   "source": [
    "def fprime2(x):\n",
    "    h = 1.e-4\n",
    "    return (f(x+h)-f(x))/h\n",
    "\n"
   ]
  },
  {
   "cell_type": "code",
   "execution_count": 14,
   "id": "33946acc-9584-4d41-b7d2-c52a6a5aa652",
   "metadata": {},
   "outputs": [
    {
     "name": "stdout",
     "output_type": "stream",
     "text": [
      "step: 1, x = 20.01338384312539, f(x) = 0.3958271618119337\n",
      "step: 2, x = 20.444406215019733, f(x) = -0.02405164717579954\n",
      "step: 3, x = 20.420347579123952, f(x) = 4.669209704102017e-06\n",
      "step: 4, x = 20.420352248333664, f(x) = -8.085763777555472e-15\n"
     ]
    },
    {
     "data": {
      "text/plain": [
       "20.420352248333664"
      ]
     },
     "execution_count": 14,
     "metadata": {},
     "output_type": "execute_result"
    }
   ],
   "source": [
    "NewtonsMethod(f, fprime2, 0.05)\n"
   ]
  },
  {
   "cell_type": "code",
   "execution_count": 17,
   "id": "6e8d3939-127f-4913-90f1-397dfa861ab1",
   "metadata": {},
   "outputs": [
    {
     "name": "stdout",
     "output_type": "stream",
     "text": [
      "step: 1, x = 20.01338384312539, f(x) = 0.3958271618119337\n",
      "step: 2, x = 20.444406215019733, f(x) = -0.02405164717579954\n",
      "step: 3, x = 20.420347579123952, f(x) = 4.669209704102017e-06\n",
      "step: 4, x = 20.420352248333664, f(x) = -8.085763777555472e-15\n"
     ]
    },
    {
     "data": {
      "text/plain": [
       "20.420352248333664"
      ]
     },
     "execution_count": 17,
     "metadata": {},
     "output_type": "execute_result"
    }
   ],
   "source": [
    "h = 1e-4\n",
    "NewtonsMethod(f, lambda x : (f(x+h)-f(x))/h, 0.05)"
   ]
  },
  {
   "cell_type": "code",
   "execution_count": null,
   "id": "3dcb0724-1f42-44fd-8d26-b821b2cb439c",
   "metadata": {},
   "outputs": [],
   "source": []
  }
 ],
 "metadata": {
  "kernelspec": {
   "display_name": "Python 3 (ipykernel)",
   "language": "python",
   "name": "python3"
  },
  "language_info": {
   "codemirror_mode": {
    "name": "ipython",
    "version": 3
   },
   "file_extension": ".py",
   "mimetype": "text/x-python",
   "name": "python",
   "nbconvert_exporter": "python",
   "pygments_lexer": "ipython3",
   "version": "3.13.5"
  }
 },
 "nbformat": 4,
 "nbformat_minor": 5
}
