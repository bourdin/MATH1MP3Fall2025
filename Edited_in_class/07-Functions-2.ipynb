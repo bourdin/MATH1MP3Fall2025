{
 "cells": [
  {
   "cell_type": "markdown",
   "id": "b9c944a2",
   "metadata": {},
   "source": [
    "# Chapter 7: Functions -- advanced topics"
   ]
  },
  {
   "cell_type": "markdown",
   "id": "7e425cd6",
   "metadata": {},
   "source": [
    "## 7.1 Scope\n",
    "* variable defined *inside* a function are only visible *inside* the function (we call these *local* variables)\n",
    "* variables defined *outside* a function are visible but cannot be changed (they are *global* variables)\n",
    "* if a local variable has the same name as a global variable, it replaces the global variable"
   ]
  },
  {
   "cell_type": "code",
   "execution_count": 1,
   "id": "3d3dfa85",
   "metadata": {},
   "outputs": [
    {
     "name": "stdout",
     "output_type": "stream",
     "text": [
      "inside example1: x = 1, y = 2, z = 23\n"
     ]
    }
   ],
   "source": [
    "x = 1\n",
    "def example1(y):\n",
    "    z = 23\n",
    "    # in example1, x is global, y and z are local\n",
    "    print(f\"inside example1: x = {x}, y = {y}, z = {z}\")\n",
    "\n",
    "example1(2)\n"
   ]
  },
  {
   "cell_type": "code",
   "execution_count": 3,
   "id": "97f8f2cd",
   "metadata": {},
   "outputs": [
    {
     "ename": "NameError",
     "evalue": "name 'z' is not defined",
     "output_type": "error",
     "traceback": [
      "\u001b[31m---------------------------------------------------------------------------\u001b[39m",
      "\u001b[31mNameError\u001b[39m                                 Traceback (most recent call last)",
      "\u001b[36mCell\u001b[39m\u001b[36m \u001b[39m\u001b[32mIn[3]\u001b[39m\u001b[32m, line 2\u001b[39m\n\u001b[32m      1\u001b[39m \u001b[38;5;66;03m# since y and z are local to example1, they are \"out of scope\" here\u001b[39;00m\n\u001b[32m----> \u001b[39m\u001b[32m2\u001b[39m \u001b[38;5;28mprint\u001b[39m(\u001b[33mf\u001b[39m\u001b[33m\"\u001b[39m\u001b[33moutside example1: x = \u001b[39m\u001b[38;5;132;01m{\u001b[39;00mx\u001b[38;5;132;01m}\u001b[39;00m\u001b[33m, z = \u001b[39m\u001b[38;5;132;01m{\u001b[39;00m\u001b[43mz\u001b[49m\u001b[38;5;132;01m}\u001b[39;00m\u001b[33m\"\u001b[39m)\n",
      "\u001b[31mNameError\u001b[39m: name 'z' is not defined"
     ]
    }
   ],
   "source": [
    "# since y and z are local to example1, they are \"out of scope\" here\n",
    "print(f\"outside example1: x = {x}, z = {z}\")"
   ]
  },
  {
   "cell_type": "code",
   "execution_count": 4,
   "id": "e7cbddd0",
   "metadata": {},
   "outputs": [
    {
     "name": "stdout",
     "output_type": "stream",
     "text": [
      "before example2: x = 1\n",
      "inside example2: x = 3\n",
      "after example2:  x = 1\n"
     ]
    }
   ],
   "source": [
    "x = 1\n",
    "def example2(y):\n",
    "    z = 23\n",
    "    x = y\n",
    "    # This is a bit subtle: we have created a \"new\" local variable x which is equal to 3\n",
    "    # changing x here does not affect the value of the 'global' x\n",
    "    print(f\"inside example2: x = {x}\")\n",
    "print(f\"before example2: x = {x}\")\n",
    "example2(3)\n",
    "print(f\"after example2:  x = {x}\")\n"
   ]
  },
  {
   "cell_type": "markdown",
   "id": "771c67f4",
   "metadata": {},
   "source": []
  },
  {
   "cell_type": "code",
   "execution_count": 14,
   "id": "b895593a",
   "metadata": {},
   "outputs": [
    {
     "name": "stdout",
     "output_type": "stream",
     "text": [
      "before example3: x = 1\n"
     ]
    },
    {
     "ename": "UnboundLocalError",
     "evalue": "cannot access local variable 'x' where it is not associated with a value",
     "output_type": "error",
     "traceback": [
      "\u001b[31m---------------------------------------------------------------------------\u001b[39m",
      "\u001b[31mUnboundLocalError\u001b[39m                         Traceback (most recent call last)",
      "\u001b[36mCell\u001b[39m\u001b[36m \u001b[39m\u001b[32mIn[14]\u001b[39m\u001b[32m, line 11\u001b[39m\n\u001b[32m      9\u001b[39m     \u001b[38;5;28mprint\u001b[39m(\u001b[33mf\u001b[39m\u001b[33m\"\u001b[39m\u001b[33minside example3: z = \u001b[39m\u001b[38;5;132;01m{\u001b[39;00mz\u001b[38;5;132;01m}\u001b[39;00m\u001b[33m\"\u001b[39m)\n\u001b[32m     10\u001b[39m \u001b[38;5;28mprint\u001b[39m(\u001b[33mf\u001b[39m\u001b[33m\"\u001b[39m\u001b[33mbefore example3: x = \u001b[39m\u001b[38;5;132;01m{\u001b[39;00mx\u001b[38;5;132;01m}\u001b[39;00m\u001b[33m\"\u001b[39m)\n\u001b[32m---> \u001b[39m\u001b[32m11\u001b[39m \u001b[43mexample3\u001b[49m\u001b[43m(\u001b[49m\u001b[32;43m3\u001b[39;49m\u001b[43m)\u001b[49m\n\u001b[32m     12\u001b[39m \u001b[38;5;28mprint\u001b[39m(\u001b[33mf\u001b[39m\u001b[33m\"\u001b[39m\u001b[33mafter example3:  x = \u001b[39m\u001b[38;5;132;01m{\u001b[39;00mx\u001b[38;5;132;01m}\u001b[39;00m\u001b[33m\"\u001b[39m)\n",
      "\u001b[36mCell\u001b[39m\u001b[36m \u001b[39m\u001b[32mIn[14]\u001b[39m\u001b[32m, line 3\u001b[39m, in \u001b[36mexample3\u001b[39m\u001b[34m(y)\u001b[39m\n\u001b[32m      2\u001b[39m \u001b[38;5;28;01mdef\u001b[39;00m\u001b[38;5;250m \u001b[39m\u001b[34mexample3\u001b[39m(y):\n\u001b[32m----> \u001b[39m\u001b[32m3\u001b[39m     z = \u001b[43mx\u001b[49m + \u001b[32m1\u001b[39m\n\u001b[32m      4\u001b[39m     x = \u001b[32m3\u001b[39m\n\u001b[32m      5\u001b[39m     \u001b[38;5;66;03m# or x = x + 1\u001b[39;00m\n\u001b[32m      6\u001b[39m     \u001b[38;5;66;03m# This is incorrect: the left hand side suggests that x is a new local variable, but the right hand side \u001b[39;00m\n\u001b[32m      7\u001b[39m     \u001b[38;5;66;03m# suggests that we want to access the 'global' x\u001b[39;00m\n",
      "\u001b[31mUnboundLocalError\u001b[39m: cannot access local variable 'x' where it is not associated with a value"
     ]
    }
   ],
   "source": [
    "x = 1\n",
    "def example3(y):\n",
    "    z = x + 1\n",
    "    x = 3\n",
    "    # or x = x + 1\n",
    "    # This is incorrect: the left hand side suggests that x is a new local variable, but the right hand side \n",
    "    # suggests that we want to access the 'global' x\n",
    "    print(f\"inside example3: x = {x}\")\n",
    "    print(f\"inside example3: z = {z}\")\n",
    "print(f\"before example3: x = {x}\")\n",
    "example3(3)\n",
    "print(f\"after example3:  x = {x}\")"
   ]
  },
  {
   "cell_type": "markdown",
   "id": "3ca5d81d",
   "metadata": {},
   "source": [
    "### Short version:\n",
    "* Avoid global variables as much as possible\n",
    "* Even though it is technically possible, **do not access global variables** inside a function. \n",
    "* Pass all needed variables as parameters."
   ]
  },
  {
   "cell_type": "code",
   "execution_count": 16,
   "id": "4e61f680",
   "metadata": {},
   "outputs": [
    {
     "name": "stdout",
     "output_type": "stream",
     "text": [
      "inside example1: x = 1, y = 2, z = 1\n"
     ]
    }
   ],
   "source": [
    "t = 1\n",
    "# This version does not access x directly. Instead, we are passing x as a parameter\n",
    "def example4(y, x):\n",
    "    z = x\n",
    "    # in example1, x is global, y and z are local\n",
    "    print(f\"inside example1: x = {x}, y = {y}, z = {z}\")\n",
    "\n",
    "example4(2, t)\n"
   ]
  },
  {
   "cell_type": "markdown",
   "id": "daf403d9",
   "metadata": {},
   "source": [
    "## 7.2 Side effects\n",
    "\n",
    "> \"A function is said to have a *side effects* if it has any observable effect other than its primary effect of reading the value of its arguments and returning a value to the invoker of the operation.\"\n",
    "\n",
    "* We have seen that a python function cannot change variables outside its scope (see `example2` above).\n",
    "* It also cannot change the value of its arguments. (this makes sense, since we can pass *constants* as arguments).\n",
    "\n",
    "Summary, anything that you want modified in a function needs to be `return`ed"
   ]
  },
  {
   "cell_type": "code",
   "execution_count": 21,
   "id": "d1aec90d",
   "metadata": {},
   "outputs": [
    {
     "name": "stdout",
     "output_type": "stream",
     "text": [
      "before example5: x = 1, y = 2\n",
      "inside example5: x = 2, y = 2\n",
      "after example5:  x = 2, y = 2\n",
      "before example5: x = 2, y = 2\n",
      "inside example5: x = 2, y = 2\n",
      "after example5:  x = 2, y = 2\n"
     ]
    }
   ],
   "source": [
    "x = 1\n",
    "y = 2\n",
    "def example5(x, z):\n",
    "    x = z\n",
    "    print(f\"inside example5: x = {x}, y = {y}\")\n",
    "    return x\n",
    "\n",
    "print(f\"before example5: x = {x}, y = {y}\")\n",
    "x = example5(x,y)\n",
    "print(f\"after example5:  x = {x}, y = {y}\")\n",
    "\n",
    "print(f\"before example5: x = {x}, y = {y}\")\n",
    "x = example5(x,y)\n",
    "print(f\"after example5:  x = {x}, y = {y}\")\n",
    "\n"
   ]
  },
  {
   "cell_type": "markdown",
   "id": "eb963227",
   "metadata": {},
   "source": [
    "## 7.3 Warning: things get more complicated with containers..."
   ]
  },
  {
   "cell_type": "code",
   "execution_count": 24,
   "id": "ae3d1156",
   "metadata": {},
   "outputs": [
    {
     "name": "stdout",
     "output_type": "stream",
     "text": [
      "before example6: X = [1, 2, 3], Y = [4, 5, 6]\n",
      "inside example6: X = [1, 5, 3], Z = [4, 5, 6]\n",
      "after example6:  X = [1, 5, 3], Y = [4, 5, 6]\n"
     ]
    }
   ],
   "source": [
    "X = [1,2,3]\n",
    "Y = [4,5,6]\n",
    "def example6(Z):\n",
    "    X[1] = Z[1]\n",
    "    #X = [9, 10, 11, 12]\n",
    "    print(f\"inside example6: X = {X}, Z = {Z}\")\n",
    "\n",
    "print(f\"after example6:  X = {X}, Y = {Y}\")"
   ]
  },
  {
   "cell_type": "code",
   "execution_count": null,
   "id": "18cf302f-189c-4ac8-a050-7fe73c26cfc9",
   "metadata": {},
   "outputs": [],
   "source": []
  },
  {
   "cell_type": "code",
   "execution_count": null,
   "id": "5c2a0ccb-0894-43b0-90c6-13538f1d3600",
   "metadata": {},
   "outputs": [],
   "source": []
  },
  {
   "cell_type": "markdown",
   "id": "e65413ac",
   "metadata": {},
   "source": [
    "How come X was changed inside `example6`???"
   ]
  },
  {
   "cell_type": "code",
   "execution_count": null,
   "id": "a531c1ed-75c3-4b4f-ab5c-89903a78b8d7",
   "metadata": {},
   "outputs": [],
   "source": []
  },
  {
   "cell_type": "code",
   "execution_count": 28,
   "id": "24f740aa-43e8-4d27-bd92-bf580857cbcc",
   "metadata": {},
   "outputs": [
    {
     "name": "stdout",
     "output_type": "stream",
     "text": [
      "X = [1, 2, 3], Z = [1, 2, 3]\n",
      "X = [1, 6, 3], Z = [1, 6, 3]\n",
      "X = [9, 10, 11], Z = [1, 6, 3]\n"
     ]
    }
   ],
   "source": [
    "X = [1,2,3]\n",
    "Z = X\n",
    "print(f\"X = {X}, Z = {Z}\") \n",
    "X[1] = 6\n",
    "print(f\"X = {X}, Z = {Z}\") \n",
    "\n",
    "X = [9, 10, 11]\n",
    "print(f\"X = {X}, Z = {Z}\") \n",
    "\n"
   ]
  },
  {
   "cell_type": "code",
   "execution_count": 29,
   "id": "2378c09f",
   "metadata": {},
   "outputs": [
    {
     "name": "stdout",
     "output_type": "stream",
     "text": [
      "before example7: X = [1, 2, 3], Y = [4, 5, 6]\n",
      "inside example7: X = [4, 5, 6], Z = [4, 5, 6]\n",
      "after example7:  X = [1, 2, 3], Y = [4, 5, 6]\n"
     ]
    }
   ],
   "source": [
    "X = [1,2,3]\n",
    "Y = [4,5,6]\n",
    "def example7(Z):\n",
    "    X = Z\n",
    "    print(f\"inside example7: X = {X}, Z = {Z}\")\n",
    "print(f\"before example7: X = {X}, Y = {Y}\")\n",
    "example7(Y)\n",
    "print(f\"after example7:  X = {X}, Y = {Y}\")\n"
   ]
  },
  {
   "cell_type": "markdown",
   "id": "d343ed8c",
   "metadata": {},
   "source": [
    "How come X was changed inside `example6` but not inside `example7`???"
   ]
  },
  {
   "cell_type": "markdown",
   "id": "54cab72d",
   "metadata": {},
   "source": [
    "## 7.4 lambda-functions\n",
    "Lambdas are compact ways to define functions without necessarily giving them names. \n",
    "\n",
    "Syntax:\n",
    "```\n",
    "lambda arguments : returned expression\n",
    "```\n"
   ]
  },
  {
   "cell_type": "code",
   "execution_count": 32,
   "id": "8036ef62",
   "metadata": {},
   "outputs": [
    {
     "name": "stdout",
     "output_type": "stream",
     "text": [
      "f(4) = 16\n",
      "f(5) = 25\n"
     ]
    }
   ],
   "source": [
    "def evaluateat(x, f):\n",
    "    print(f\"f({x}) = {f(x)}\")\n",
    "\n",
    "def g(x):\n",
    "    return x**2\n",
    "\n",
    "evaluateat(4, g)\n",
    "evaluateat(5, g)\n"
   ]
  },
  {
   "cell_type": "markdown",
   "id": "8b178c96",
   "metadata": {},
   "source": [
    "say we just want to call `evaluateat` for $f(x) = x^2$ but will never really reuse $f$, so don't want to define this function. We can use a lambda here:"
   ]
  },
  {
   "cell_type": "code",
   "execution_count": 51,
   "id": "09073bb4",
   "metadata": {},
   "outputs": [
    {
     "name": "stdout",
     "output_type": "stream",
     "text": [
      "f(10) = 100\n"
     ]
    }
   ],
   "source": [
    "evaluateat(lambda x : x**2, 10)"
   ]
  },
  {
   "cell_type": "markdown",
   "id": "8e5999a3",
   "metadata": {},
   "source": [
    "A classical use of lambdas is to fix some parameters of a function.\n",
    "The function $f(x) = |x|$ is not differentiable at 0. It is common to approximate by\n",
    "$$\n",
    "    f_\\varepsilon(x) \\ \\sqrt{x^2+ \\varepsilon},\n",
    "$$\n",
    "where $0 <\\varepsilon$ is a small regularization parameter.\n",
    "\n",
    "Let's compare the values of $f$ and $f_\\varepsilon$."
   ]
  },
  {
   "cell_type": "code",
   "execution_count": 34,
   "id": "fcf9a9cd",
   "metadata": {},
   "outputs": [],
   "source": [
    "import math\n",
    "def smoothabs(a,epsilon):\n",
    "    return math.sqrt(a**2+epsilon)\n",
    "    "
   ]
  },
  {
   "cell_type": "code",
   "execution_count": 35,
   "id": "f9cfedfe",
   "metadata": {},
   "outputs": [
    {
     "data": {
      "image/png": "[encoded data removed]",
      "text/plain": [
       "<Figure size 640x480 with 1 Axes>"
      ]
     },
     "metadata": {},
     "output_type": "display_data"
    }
   ],
   "source": [
    "%matplotlib inline\n",
    "import matplotlib.pyplot as plt\n",
    "import numpy as np\n",
    "X = np.linspace(-1,1,101)\n",
    "\n",
    "f = plt.figure()\n",
    "plt.plot(X,[abs(x) for x in X], label = f'$|x|$')\n",
    "for epsilon in [0.1, 0.01, 0.001]:\n",
    "    plt.plot(X,[smoothabs(x,epsilon) for x in X], label = f'$|x|_\\\\varepsilon, \\\\varepsilon = {{{epsilon}}}$')\n",
    "plt.legend(loc=0)\n",
    "plt.grid()\n",
    "plt.show()\n"
   ]
  },
  {
   "cell_type": "code",
   "execution_count": 41,
   "id": "7adc763a",
   "metadata": {},
   "outputs": [
    {
     "name": "stdout",
     "output_type": "stream",
     "text": [
      "x:    0.900\t0.990\t0.999\t0.999\t\n",
      "f(x): 0.810\t0.980\t0.998\t0.998\t\n",
      "x:    -0.100\t-0.010\t-0.001\t0.000\t0.001\t0.010\t0.100\t\n",
      "f(x): 0.141\t0.100\t0.100\t0.100\t0.100\t0.100\t0.141\t\n",
      "x:    -0.100\t-0.010\t-0.001\t0.000\t0.001\t0.010\t0.100\t\n",
      "f(x): 0.100\t0.010\t0.001\t0.000\t0.001\t0.010\t0.100\t\n"
     ]
    }
   ],
   "source": [
    "def tabulate (x, f):\n",
    "    print(\"x:    \", end=\"\")\n",
    "    for xx in x:\n",
    "        print(f\"{xx:.3f}\", end = \"\\t\")\n",
    "    print()\n",
    "    print(\"f(x): \", end=\"\")\n",
    "    for xx in x:\n",
    "        print(f\"{f(xx):.3f}\", end = \"\\t\")\n",
    "    print()\n",
    "\n",
    "def g(y):\n",
    "    return y**2\n",
    "\n",
    "tabulate([0.9, 0.99, 0.999, 0.999], g)\n",
    "\n",
    "X = [-0.1, -0.01, -0.001, 0, 0.001, 0.01, 0.1]\n",
    "epsilon = 0.01\n",
    "tabulate(X, lambda x : smoothabs(x, epsilon))\n",
    "tabulate(X, lambda x : abs(x))\n"
   ]
  },
  {
   "cell_type": "code",
   "execution_count": null,
   "id": "7f64c913-94be-4542-857b-e6ade8547e96",
   "metadata": {},
   "outputs": [],
   "source": []
  },
  {
   "cell_type": "code",
   "execution_count": 117,
   "id": "0565167c",
   "metadata": {},
   "outputs": [
    {
     "name": "stdout",
     "output_type": "stream",
     "text": [
      "x:    -1.000\t-0.500\t0.000\t0.500\t1.000\t\n",
      "f(x): 1.000\t0.500\t0.000\t0.500\t1.000\t\n",
      "x:    -1.000\t-0.500\t0.000\t0.500\t1.000\t\n",
      "f(x): 1.000\t0.501\t0.032\t0.501\t1.000\t\n"
     ]
    }
   ],
   "source": [
    "X = [-1, -0.5, 0, 0.5, 1]\n",
    "tabulate(X, lambda x: abs(x))\n",
    "tabulate(X, lambda x : smoothabs(x, 0.001))"
   ]
  },
  {
   "cell_type": "code",
   "execution_count": 42,
   "id": "f59ad6aa",
   "metadata": {},
   "outputs": [
    {
     "name": "stdout",
     "output_type": "stream",
     "text": [
      "x:    -0.100\t-0.010\t-0.001\t0.000\t0.001\t0.010\t0.100\t\n",
      "f(x): 0.010\t0.000\t0.000\t0.000\t0.000\t0.000\t0.010\t\n",
      "x:    -0.100\t-0.010\t-0.001\t0.000\t0.001\t0.010\t0.100\t\n",
      "f(x): -0.199\t-0.019\t-0.001\t0.001\t0.003\t0.021\t0.201\t\n"
     ]
    }
   ],
   "source": [
    "def derivate(f,a,h):\n",
    "    return (f(a+h) - f(a)) / h\n",
    "\n",
    "def g(x):\n",
    "    return x**2\n",
    "\n",
    "h = 0.001\n",
    "tabulate(X,g)\n",
    "tabulate(X, lambda x : derivate(g,x,h))\n"
   ]
  },
  {
   "cell_type": "code",
   "execution_count": null,
   "id": "7d3afec2-5482-424e-8bba-bd43db671989",
   "metadata": {},
   "outputs": [],
   "source": []
  }
 ],
 "metadata": {
  "kernelspec": {
   "display_name": "Python 3 (ipykernel)",
   "language": "python",
   "name": "python3"
  },
  "language_info": {
   "codemirror_mode": {
    "name": "ipython",
    "version": 3
   },
   "file_extension": ".py",
   "mimetype": "text/x-python",
   "name": "python",
   "nbconvert_exporter": "python",
   "pygments_lexer": "ipython3",
   "version": "3.13.5"
  }
 },
 "nbformat": 4,
 "nbformat_minor": 5
}
