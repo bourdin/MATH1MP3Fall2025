{
 "cells": [
  {
   "cell_type": "markdown",
   "id": "62548fd2",
   "metadata": {},
   "source": [
    "# Playing with loops"
   ]
  },
  {
   "cell_type": "markdown",
   "id": "74555a0f",
   "metadata": {},
   "source": [
    "## 1. Replace all vowels from a string by a \"*\".\n",
    "\n",
    "Note that strings are \"immutable\", so we cannot change or remove a character, but we can add to them."
   ]
  },
  {
   "cell_type": "code",
   "execution_count": 6,
   "id": "19e7cbf8-d42b-4b09-8ba5-d955fee51dbf",
   "metadata": {},
   "outputs": [
    {
     "name": "stdout",
     "output_type": "stream",
     "text": [
      "F*nd **t *f * str*ng c*nt**ns *n* *pp*r c*s* l*tt*r\n",
      "Is th*s w*rk*ng?\n"
     ]
    }
   ],
   "source": [
    "text1 = \"Find out if a string contains any upper case letter\"\n",
    "text2 = \"Is this working?\"\n",
    "\n",
    "def stringReplace1(txt):\n",
    "    vowels = \"aeiouy\"\n",
    "    newText = \"\"\n",
    "    for c in txt:\n",
    "        if c in vowels:\n",
    "            newText += \"*\"\n",
    "        else:\n",
    "            newText += c\n",
    "    return newText\n",
    "# testing:\n",
    "print(stringReplace1(text1))\n",
    "print(stringReplace1(text2))\n",
    "\n",
    "# notice that this fails to replace Upper case vowels, so let's try again"
   ]
  },
  {
   "cell_type": "code",
   "execution_count": 7,
   "id": "47072a4d-5e49-450c-9991-612ea710d863",
   "metadata": {},
   "outputs": [
    {
     "name": "stdout",
     "output_type": "stream",
     "text": [
      "F*nd **t *f * str*ng c*nt**ns *n* *pp*r c*s* l*tt*r\n",
      "*s th*s w*rk*ng?\n"
     ]
    }
   ],
   "source": [
    "text1 = \"Find out if a string contains any upper case letter\"\n",
    "text2 = \"Is this working?\"\n",
    "\n",
    "def stringReplace2(txt):\n",
    "    vowels = \"aeiouy\"\n",
    "    newText = \"\"\n",
    "    for c in txt:\n",
    "        if c.lower() in vowels:\n",
    "            newText += \"*\"\n",
    "        else:\n",
    "            newText += c\n",
    "    return newText\n",
    "# testing:\n",
    "print(stringReplace2(text1))\n",
    "print(stringReplace2(text2))\n",
    "# Everything OK now"
   ]
  },
  {
   "cell_type": "markdown",
   "id": "6e390a4d-3ca2-4a23-99a6-bf35049093ea",
   "metadata": {},
   "source": [
    "Note that typing `dir(text1)` for instance shows that there is a `replace` function.\n",
    "Let's try to figure out how to use it using `help(text1.replace)`"
   ]
  },
  {
   "cell_type": "code",
   "execution_count": 10,
   "id": "af12fc08-9e4f-4eb0-9d4a-a507b1d212cf",
   "metadata": {},
   "outputs": [
    {
     "name": "stdout",
     "output_type": "stream",
     "text": [
      "Help on built-in function replace:\n",
      "\n",
      "replace(old, new, /, count=-1) method of builtins.str instance\n",
      "    Return a copy with all occurrences of substring old replaced by new.\n",
      "\n",
      "      count\n",
      "        Maximum number of occurrences to replace.\n",
      "        -1 (the default value) means replace all occurrences.\n",
      "\n",
      "    If the optional argument count is given, only the first count occurrences are\n",
      "    replaced.\n",
      "\n"
     ]
    }
   ],
   "source": [
    "help(text1.replace)"
   ]
  },
  {
   "cell_type": "code",
   "execution_count": 16,
   "id": "9ae43e0c-2bc7-401c-a052-2bfe172fdf06",
   "metadata": {},
   "outputs": [
    {
     "name": "stdout",
     "output_type": "stream",
     "text": [
      "F*nd **t *f * str*ng c*nt**ns *n* *pp*r c*s* l*tt*r\n",
      "Is th*s w*rk*ng?\n"
     ]
    }
   ],
   "source": [
    "# A third version using str.replace:\n",
    "def stringReplace3(txt):\n",
    "    vowels = \"aeiouy\"\n",
    "    newText = txt\n",
    "    for v in vowels:\n",
    "        newText.replace(v, '*', -1)\n",
    "    return newText\n",
    "# testing:\n",
    "print(stringReplace1(text1))\n",
    "print(stringReplace1(text2))"
   ]
  },
  {
   "cell_type": "markdown",
   "id": "bdf66148",
   "metadata": {},
   "source": [
    "## 2. Print a multiplication table"
   ]
  },
  {
   "cell_type": "code",
   "execution_count": 22,
   "id": "1afc8cef",
   "metadata": {},
   "outputs": [
    {
     "name": "stdout",
     "output_type": "stream",
     "text": [
      "  1   2   3   4   5   6   7   8   9  10 \n",
      "  2   4   6   8  10  12  14  16  18  20 \n",
      "  3   6   9  12  15  18  21  24  27  30 \n",
      "  4   8  12  16  20  24  28  32  36  40 \n",
      "  5  10  15  20  25  30  35  40  45  50 \n",
      "  6  12  18  24  30  36  42  48  54  60 \n",
      "  7  14  21  28  35  42  49  56  63  70 \n",
      "  8  16  24  32  40  48  56  64  72  80 \n",
      "  9  18  27  36  45  54  63  72  81  90 \n",
      " 10  20  30  40  50  60  70  80  90 100 \n"
     ]
    }
   ],
   "source": [
    "N = 15\n",
    "def printMultiplicationTable(N):\n",
    "    for i in range(N):\n",
    "        for j in range(N):\n",
    "            print(f'{(i+1)*(j+1):3d}',end = ' ')\n",
    "        print()\n",
    "printMultiplicationTable(10)\n",
    "# f'{(i+1)*(j+1):3d}' is a f-string where i and j will be replaced by their value.\n",
    "# the ':3d' commands instructs python to use 3 characters when printing the integers."
   ]
  },
  {
   "cell_type": "markdown",
   "id": "ca0d33f8",
   "metadata": {},
   "source": [
    "### 3. Revert a list "
   ]
  },
  {
   "cell_type": "code",
   "execution_count": 40,
   "id": "baf1cfee-8401-463f-85ad-89f1526c0325",
   "metadata": {},
   "outputs": [
    {
     "name": "stdout",
     "output_type": "stream",
     "text": [
      "['eight', 'SEVEN', 6, 'five', 4.0, 3, 2, 'One']\n",
      "['eight', 'SEVEN', 6, 'five', 4.0, 3, 2, 'One']\n"
     ]
    }
   ],
   "source": [
    "L = [\"One\", 2, 3, 4.0, \"five\", 6, 'SEVEN', \"eight\"]\n",
    "\n",
    "# This is correct, but as I said in class, there is almost always\n",
    "# a nicer way to write loops than for i in range(N)\n",
    "def revertList1(l):\n",
    "    newL = []\n",
    "    N = len(l)\n",
    "    for i in range(N):\n",
    "        newL += [l[N-i-1]]\n",
    "    return newL\n",
    "\n",
    "\n",
    "def revertList2(l):\n",
    "    newL = []\n",
    "    for i in l:\n",
    "        newL = [i] + newL\n",
    "        # Note how I need to enclose i in [].\n",
    "        # This is because I need to convert i into a list with one item \n",
    "        # in order to add it to a list\n",
    "    return newL\n",
    "\n",
    "print(revertList1(L))\n",
    "print(revertList2(L))"
   ]
  },
  {
   "cell_type": "markdown",
   "id": "6cc57be9",
   "metadata": {},
   "source": [
    "### 4. Find out if a string contains any upper case letter\n"
   ]
  },
  {
   "cell_type": "code",
   "execution_count": 14,
   "id": "825de7c6",
   "metadata": {},
   "outputs": [
    {
     "name": "stdout",
     "output_type": "stream",
     "text": [
      "all lowercase string :  False\n",
      "sOme UPPER case here! :  True\n",
      "+=-$%^&   :  False\n"
     ]
    }
   ],
   "source": [
    "TestString = [\"all lowercase string\",\n",
    "              \"sOme UPPER case here!\",\n",
    "              \"+=-$%^&  \"]\n",
    "\n",
    "def hasUpper(S):\n",
    "    \"\"\" returns true of S contains at least one upper case letter, \n",
    "    and 0 otherwise \"\"\"\n",
    "    # for c in S:\n",
    "    #     if c.upper() == c:\n",
    "    #         return True\n",
    "    # return False\n",
    "    # if S.lower() == S\n",
    "    #    S contains only lower case letters -> False\n",
    "    # else\n",
    "    #    S contains at least one upper case letter p --> True\n",
    "    return S.lower()!= S\n",
    "    # return not S.lower() == S\n",
    "\n",
    "for S in TestString:\n",
    "    print(S, \": \" , \n",
    "          hasUpper(S))\n",
    "    "
   ]
  },
  {
   "cell_type": "markdown",
   "id": "41f5378d",
   "metadata": {},
   "source": [
    "### 5. Find the smallest and largest number in a list of floats or ints"
   ]
  },
  {
   "cell_type": "code",
   "execution_count": null,
   "id": "38965188",
   "metadata": {},
   "outputs": [],
   "source": []
  },
  {
   "cell_type": "markdown",
   "id": "9ca3d590",
   "metadata": {},
   "source": [
    "### 6. \"Flatten\" a nested loop "
   ]
  },
  {
   "cell_type": "code",
   "execution_count": null,
   "id": "b7498039",
   "metadata": {},
   "outputs": [],
   "source": []
  },
  {
   "cell_type": "markdown",
   "id": "50ef4a2f",
   "metadata": {},
   "source": [
    "### 7. Find if a year is a leap year\n",
    "> Every year that is exactly divisible by four is a leap year, except for years that are exactly divisible by 100, but these centurial years are leap years if they are exactly divisible by 400. For example, the years 1700, 1800, and 1900 are not leap years, but the years 1600 and 2000 are."
   ]
  },
  {
   "cell_type": "markdown",
   "id": "0ac604a8",
   "metadata": {},
   "source": []
  },
  {
   "cell_type": "code",
   "execution_count": null,
   "id": "0a386aa7",
   "metadata": {},
   "outputs": [],
   "source": []
  },
  {
   "cell_type": "markdown",
   "id": "6fdfc174",
   "metadata": {},
   "source": []
  }
 ],
 "metadata": {
  "kernelspec": {
   "display_name": "Python 3 (ipykernel)",
   "language": "python",
   "name": "python3"
  },
  "language_info": {
   "codemirror_mode": {
    "name": "ipython",
    "version": 3
   },
   "file_extension": ".py",
   "mimetype": "text/x-python",
   "name": "python",
   "nbconvert_exporter": "python",
   "pygments_lexer": "ipython3",
   "version": "3.13.5"
  }
 },
 "nbformat": 4,
 "nbformat_minor": 5
}
