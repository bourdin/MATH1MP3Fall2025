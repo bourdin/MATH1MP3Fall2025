{
 "cells": [
  {
   "cell_type": "markdown",
   "id": "62548fd2",
   "metadata": {},
   "source": [
    "# Playing with loops"
   ]
  },
  {
   "cell_type": "markdown",
   "id": "74555a0f",
   "metadata": {},
   "source": [
    "## 1. Replace all vowels from a string by a \"*\".\n",
    "\n",
    "Note that strings are \"immutable\", so we cannot change or remove a character, but we can add to them."
   ]
  },
  {
   "cell_type": "code",
   "execution_count": 2,
   "id": "19e7cbf8-d42b-4b09-8ba5-d955fee51dbf",
   "metadata": {},
   "outputs": [
    {
     "name": "stdout",
     "output_type": "stream",
     "text": [
      "F*nd **t *f * str*ng c*nt**ns *n* *pp*r c*s* l*tt*r\n",
      "Is th*s w*rk*ng?\n"
     ]
    }
   ],
   "source": [
    "text1 = \"Find out if a string contains any upper case letter\"\n",
    "text2 = \"Is this working?\"\n",
    "\n",
    "def stringReplace1(txt):\n",
    "    vowels = \"aeiouy\"\n",
    "    newText = \"\"\n",
    "    for c in txt:\n",
    "        if c in vowels:\n",
    "            newText += \"*\"\n",
    "        else:\n",
    "            newText += c\n",
    "    return newText\n",
    "# testing:\n",
    "print(stringReplace1(text1))\n",
    "print(stringReplace1(text2))\n",
    "\n",
    "# notice that this fails to replace Upper case vowels, so let's try again"
   ]
  },
  {
   "cell_type": "code",
   "execution_count": 3,
   "id": "47072a4d-5e49-450c-9991-612ea710d863",
   "metadata": {},
   "outputs": [
    {
     "name": "stdout",
     "output_type": "stream",
     "text": [
      "F*nd **t *f * str*ng c*nt**ns *n* *pp*r c*s* l*tt*r\n",
      "*s th*s w*rk*ng?\n"
     ]
    }
   ],
   "source": [
    "text1 = \"Find out if a string contains any upper case letter\"\n",
    "text2 = \"Is this working?\"\n",
    "\n",
    "def stringReplace2(txt):\n",
    "    vowels = \"aeiouy\"\n",
    "    newText = \"\"\n",
    "    for c in txt:\n",
    "        if c.lower() in vowels:\n",
    "            newText += \"*\"\n",
    "        else:\n",
    "            newText += c\n",
    "    return newText\n",
    "# testing:\n",
    "print(stringReplace2(text1))\n",
    "print(stringReplace2(text2))\n",
    "# Everything OK now"
   ]
  },
  {
   "cell_type": "markdown",
   "id": "6e390a4d-3ca2-4a23-99a6-bf35049093ea",
   "metadata": {},
   "source": [
    "Note that typing `dir(text1)` for instance shows that there is a `replace` function.\n",
    "Let's try to figure out how to use it using `help(text1.replace)`"
   ]
  },
  {
   "cell_type": "code",
   "execution_count": 4,
   "id": "af12fc08-9e4f-4eb0-9d4a-a507b1d212cf",
   "metadata": {},
   "outputs": [
    {
     "name": "stdout",
     "output_type": "stream",
     "text": [
      "Help on built-in function replace:\n",
      "\n",
      "replace(old, new, /, count=-1) method of builtins.str instance\n",
      "    Return a copy with all occurrences of substring old replaced by new.\n",
      "\n",
      "      count\n",
      "        Maximum number of occurrences to replace.\n",
      "        -1 (the default value) means replace all occurrences.\n",
      "\n",
      "    If the optional argument count is given, only the first count occurrences are\n",
      "    replaced.\n",
      "\n"
     ]
    }
   ],
   "source": [
    "help(text1.replace)"
   ]
  },
  {
   "cell_type": "code",
   "execution_count": 5,
   "id": "9ae43e0c-2bc7-401c-a052-2bfe172fdf06",
   "metadata": {},
   "outputs": [
    {
     "name": "stdout",
     "output_type": "stream",
     "text": [
      "F*nd **t *f * str*ng c*nt**ns *n* *pp*r c*s* l*tt*r\n",
      "Is th*s w*rk*ng?\n"
     ]
    }
   ],
   "source": [
    "# A third version using str.replace:\n",
    "def stringReplace3(txt):\n",
    "    vowels = \"aeiouy\"\n",
    "    newText = txt\n",
    "    for v in vowels:\n",
    "        newText.replace(v, '*', -1)\n",
    "    return newText\n",
    "# testing:\n",
    "print(stringReplace1(text1))\n",
    "print(stringReplace1(text2))"
   ]
  },
  {
   "cell_type": "markdown",
   "id": "bdf66148",
   "metadata": {},
   "source": [
    "## 2. Print a multiplication table"
   ]
  },
  {
   "cell_type": "code",
   "execution_count": 6,
   "id": "1afc8cef",
   "metadata": {},
   "outputs": [
    {
     "name": "stdout",
     "output_type": "stream",
     "text": [
      "  1   2   3   4   5   6   7   8   9  10 \n",
      "  2   4   6   8  10  12  14  16  18  20 \n",
      "  3   6   9  12  15  18  21  24  27  30 \n",
      "  4   8  12  16  20  24  28  32  36  40 \n",
      "  5  10  15  20  25  30  35  40  45  50 \n",
      "  6  12  18  24  30  36  42  48  54  60 \n",
      "  7  14  21  28  35  42  49  56  63  70 \n",
      "  8  16  24  32  40  48  56  64  72  80 \n",
      "  9  18  27  36  45  54  63  72  81  90 \n",
      " 10  20  30  40  50  60  70  80  90 100 \n"
     ]
    }
   ],
   "source": [
    "N = 15\n",
    "def printMultiplicationTable(N):\n",
    "    for i in range(N):\n",
    "        for j in range(N):\n",
    "            print(f'{(i+1)*(j+1):3d}',end = ' ')\n",
    "        print()\n",
    "printMultiplicationTable(10)\n",
    "# f'{(i+1)*(j+1):3d}' is a f-string where i and j will be replaced by their value.\n",
    "# the ':3d' commands instructs python to use 3 characters when printing the integers."
   ]
  },
  {
   "cell_type": "markdown",
   "id": "ca0d33f8",
   "metadata": {},
   "source": [
    "### 3. Revert a list "
   ]
  },
  {
   "cell_type": "code",
   "execution_count": 7,
   "id": "baf1cfee-8401-463f-85ad-89f1526c0325",
   "metadata": {},
   "outputs": [
    {
     "name": "stdout",
     "output_type": "stream",
     "text": [
      "['eight', 'SEVEN', 6, 'five', 4.0, 3, 2, 'One']\n",
      "['eight', 'SEVEN', 6, 'five', 4.0, 3, 2, 'One']\n"
     ]
    }
   ],
   "source": [
    "L = [\"One\", 2, 3, 4.0, \"five\", 6, 'SEVEN', \"eight\"]\n",
    "\n",
    "# This is correct, but as I said in class, there is almost always\n",
    "# a nicer way to write loops than for i in range(N)\n",
    "def revertList1(l):\n",
    "    newL = []\n",
    "    N = len(l)\n",
    "    for i in range(N):\n",
    "        newL += [l[N-i-1]]\n",
    "    return newL\n",
    "\n",
    "\n",
    "def revertList2(l):\n",
    "    newL = []\n",
    "    for i in l:\n",
    "        newL = [i] + newL\n",
    "        # Note how I need to enclose i in [].\n",
    "        # This is because I need to convert i into a list with one item \n",
    "        # in order to add it to a list\n",
    "    return newL\n",
    "\n",
    "print(revertList1(L))\n",
    "print(revertList2(L))"
   ]
  },
  {
   "cell_type": "markdown",
   "id": "6cc57be9",
   "metadata": {},
   "source": [
    "### 4. Find out if a string contains any upper case letter\n"
   ]
  },
  {
   "cell_type": "code",
   "execution_count": 8,
   "id": "825de7c6",
   "metadata": {},
   "outputs": [
    {
     "name": "stdout",
     "output_type": "stream",
     "text": [
      "all lowercase string :  False\n",
      "sOme UPPER case here! :  True\n",
      "+=-$%^&   :  False\n"
     ]
    }
   ],
   "source": [
    "TestString = [\"all lowercase string\",\n",
    "              \"sOme UPPER case here!\",\n",
    "              \"+=-$%^&  \"]\n",
    "\n",
    "def hasUpper(S):\n",
    "    \"\"\" returns true of S contains at least one upper case letter, \n",
    "    and 0 otherwise \"\"\"\n",
    "    # for c in S:\n",
    "    #     if c.upper() == c:\n",
    "    #         return True\n",
    "    # return False\n",
    "    # if S.lower() == S\n",
    "    #    S contains only lower case letters -> False\n",
    "    # else\n",
    "    #    S contains at least one upper case letter p --> True\n",
    "    return S.lower()!= S\n",
    "    # return not S.lower() == S\n",
    "\n",
    "for S in TestString:\n",
    "    print(S, \": \" , \n",
    "          hasUpper(S))\n",
    "    "
   ]
  },
  {
   "cell_type": "markdown",
   "id": "41f5378d",
   "metadata": {},
   "source": [
    "### 5. Find the smallest and largest number in a list of floats or ints"
   ]
  },
  {
   "cell_type": "code",
   "execution_count": 9,
   "id": "38965188",
   "metadata": {},
   "outputs": [
    {
     "name": "stdout",
     "output_type": "stream",
     "text": [
      "(-12.34, 9.3)\n"
     ]
    }
   ],
   "source": [
    "testList = [1, 4, 2, 8, 9.3, -12.34, 0]\n",
    "def minmax(L):\n",
    "    m = L[0]\n",
    "    M = L[0]\n",
    "    for l in L:\n",
    "       m = min(m, l)\n",
    "       M = max(M,l)\n",
    "    return m, M\n",
    "\n",
    "print(minmax(testList))"
   ]
  },
  {
   "cell_type": "code",
   "execution_count": null,
   "id": "8ba142eb-d510-4cb3-ad73-90e4b87ba26b",
   "metadata": {},
   "outputs": [],
   "source": []
  },
  {
   "cell_type": "markdown",
   "id": "9ca3d590",
   "metadata": {},
   "source": [
    "### 6. \"Flatten\" a nested list\n"
   ]
  },
  {
   "cell_type": "code",
   "execution_count": 10,
   "id": "b7498039",
   "metadata": {},
   "outputs": [
    {
     "name": "stdout",
     "output_type": "stream",
     "text": [
      "[[1, 2, 3], [6, 2, 8], [5, 6, 7]]\n",
      "[1, 2, 3, 6, 2, 8, 5, 6, 7]\n"
     ]
    }
   ],
   "source": [
    "M = [[1, 2, 3], \n",
    "     [6, 2, 8], \n",
    "     [5, 6, 7]]\n",
    "print(M)\n",
    "# Given M, I want [1, 2, 3, 6, 2, 8, 5, 6, 7]\n",
    "def flattenRows(M):\n",
    "    flatM = []\n",
    "    for row in M:\n",
    "        flatM = flatM + row\n",
    "    return flatM\n",
    "print(flattenRows(M))\n",
    "\n",
    "# Assuming that all rows havev the same length, flatten column-wise\n",
    "# Given M, I want [1, 6, 5, 2, 2, 6, 3, 8, 7]\n",
    "\n"
   ]
  },
  {
   "cell_type": "markdown",
   "id": "50ef4a2f",
   "metadata": {},
   "source": [
    "### 7. Find if a year is a leap year\n",
    "> Every year that is exactly divisible by four is a leap year, except for years that are exactly divisible by 100, but these centurial years are leap years if they are exactly divisible by 400. For example, the years 1700, 1800, and 1900 are not leap years, but the years 1600 and 2000 are."
   ]
  },
  {
   "cell_type": "markdown",
   "id": "0ac604a8",
   "metadata": {},
   "source": [
    "def leapYear(year):"
   ]
  },
  {
   "cell_type": "code",
   "execution_count": 11,
   "id": "0a386aa7",
   "metadata": {},
   "outputs": [
    {
     "name": "stdout",
     "output_type": "stream",
     "text": [
      "2024 is leap: True\n",
      "2000 is leap: True\n",
      "1900 is leap: False\n",
      "1832 is leap: True\n",
      "2025 is leap: False\n"
     ]
    }
   ],
   "source": [
    "def leapYear(year):\n",
    "    if year % 4 == 0:\n",
    "        if year % 100 == 0:\n",
    "            if year % 400 == 0:\n",
    "                return True\n",
    "            else:\n",
    "                return False\n",
    "        else:\n",
    "            return True\n",
    "    else:\n",
    "       return False \n",
    "for year in [2024, 2000, 1900, 1832, 2025]:\n",
    "    print (f\"{year} is leap: {leapYear(year)}\")"
   ]
  },
  {
   "cell_type": "markdown",
   "id": "6fdfc174",
   "metadata": {},
   "source": [
    "## 8. Geometric sequences\n",
    "Let $a$ and $r$ be two given real numbers and consider the sequence $(a_n)$ defined by\n",
    "$$\n",
    "a_0 = a,\n",
    "$$\n",
    "and \n",
    "$$\n",
    "a_{i+1} = r a_i,\\  i > 0.\n",
    "$$\n",
    "\n",
    "Write a function to compute $a_N$ given $a$, $r$, and $N$."
   ]
  },
  {
   "cell_type": "code",
   "execution_count": 13,
   "id": "76370412-c8a6-4597-be30-55d98c9f019c",
   "metadata": {},
   "outputs": [],
   "source": [
    "def geometricSequence(a,r,N):\n",
    "    return "
   ]
  },
  {
   "cell_type": "code",
   "execution_count": 14,
   "id": "6d524532-3a83-4bfb-88d4-48c13215c7a5",
   "metadata": {},
   "outputs": [
    {
     "name": "stdout",
     "output_type": "stream",
     "text": [
      "0: None\n",
      "1: None\n",
      "2: None\n",
      "3: None\n",
      "4: None\n",
      "5: None\n",
      "6: None\n",
      "7: None\n",
      "8: None\n",
      "9: None\n"
     ]
    }
   ],
   "source": [
    "a = 1\n",
    "r = 2\n",
    "for N in range(10):\n",
    "    print(f\"{N}: {geometricSequence(a,r,N)}\")"
   ]
  },
  {
   "cell_type": "markdown",
   "id": "54c2667e-0d95-4f2c-9fd8-6fe5ed6a6b60",
   "metadata": {},
   "source": [
    "## 9. Sum of a geometric series.\n",
    "It is easy to show that the formula above reduces to \n",
    "$$\n",
    "a_n = a  r^n.\n",
    "$$\n",
    "Let's write a function that computes the sum $S_N = \\sum_{i=0}^N a_i$."
   ]
  },
  {
   "cell_type": "code",
   "execution_count": 77,
   "id": "e0179fe2-a63d-4636-8b3f-d23b705fe4a1",
   "metadata": {},
   "outputs": [
    {
     "name": "stdout",
     "output_type": "stream",
     "text": [
      "0: 1.0\n",
      "1: 1.5\n",
      "2: 1.75\n",
      "3: 1.875\n",
      "4: 1.9375\n",
      "5: 1.96875\n",
      "6: 1.984375\n",
      "7: 1.9921875\n",
      "8: 1.99609375\n",
      "9: 1.998046875\n"
     ]
    }
   ],
   "source": [
    "def geometricSeries(a,r,N):\n",
    "\n",
    "# print(f\"{N}: {geometricSeries(a,r,10)}\")\n",
    "a = 1\n",
    "r = 1/2\n",
    "for N in range(10):\n",
    "    print(f\"{N}: {geometricSeries(a,r,N)}\")"
   ]
  },
  {
   "cell_type": "markdown",
   "id": "d416e6ab-52f4-426a-a651-8772683b3fd1",
   "metadata": {},
   "source": [
    "## 10. Convergence of the sum of a geometric series\n",
    "It is easy to show that \n",
    "\n",
    "$$ \n",
    "S_N = a\\left(\\frac{1-r^{N+1}}{1-r} \\right),\n",
    "$$\n",
    "so that if $r<1$ $S_N$ approaches $S = \\frac{a}{1-r}$ as $N$ becomes very large, and that $S_N$ diverges if $r\\ge 1$.\n",
    "\n",
    "The first statement can be expressed rigorously in mathematical terms as:\n",
    "\n",
    "For any $\\varepsilon >0$, there exists $M > 0$ such that for any $n > M$, $|S_n-S|< \\varepsilon$.\n",
    "\n",
    "\n",
    "Let's try to compute the smallest $N$ given $a$, $r$, and $\\varepsilon$"
   ]
  },
  {
   "cell_type": "code",
   "execution_count": 80,
   "id": "431f5028-1123-48e8-89a0-d92cbc883139",
   "metadata": {},
   "outputs": [
    {
     "name": "stdout",
     "output_type": "stream",
     "text": [
      "0.1, 5\n",
      "0.01, 8\n",
      "0.001, 11\n",
      "1e-05, 18\n"
     ]
    }
   ],
   "source": [
    "def geometricSeriesConvergence(a,r,epsilon):\n",
    "\n",
    "a = 1\n",
    "r = 1/2\n",
    "for epsilon in [1e-1, 1e-2,  1e-3, 1.e-5]:\n",
    "# epsilon = 0.1\n",
    "    print(f\"epsilon: {epsilon}, M: {geometricSeriesConvergence(a,r,epsilon)}\")"
   ]
  },
  {
   "cell_type": "markdown",
   "id": "db7bdbf8-718f-42f1-a6c6-e2a97d170918",
   "metadata": {},
   "source": [
    "## 11. The Fibonacci sequence\n",
    "The Fibonacci sequence is defined recursively by:\n",
    "$$f_0 = f_1 = 1,$$\n",
    "and\n",
    "$$f_n = f_{n-1} + f_{n-2}.$$\n",
    "\n",
    "Let's print the terms $1$ to $N$ of this sequence."
   ]
  },
  {
   "cell_type": "code",
   "execution_count": 81,
   "id": "aeff187f-09ac-4ab8-a824-4ef6a24e9b29",
   "metadata": {},
   "outputs": [],
   "source": [
    "def Fibonacci(N):"
   ]
  },
  {
   "cell_type": "code",
   "execution_count": 82,
   "id": "8dda61dd-5a27-4d4e-b353-d415caf9db63",
   "metadata": {},
   "outputs": [
    {
     "name": "stdout",
     "output_type": "stream",
     "text": [
      "f_0 = 1\n",
      "f_1 = 1\n",
      "f_2 = 2\n",
      "f_3 = 3\n",
      "f_4 = 5\n",
      "f_5 = 8\n",
      "f_6 = 13\n",
      "f_7 = 21\n",
      "f_8 = 34\n",
      "f_9 = 55\n",
      "f_10 = 89\n"
     ]
    },
    {
     "data": {
      "text/plain": [
       "89"
      ]
     },
     "execution_count": 82,
     "metadata": {},
     "output_type": "execute_result"
    }
   ],
   "source": [
    "N = 10\n",
    "Fibonacci(N)"
   ]
  },
  {
   "cell_type": "code",
   "execution_count": null,
   "id": "55f1b175-dcbb-4748-b9ab-563ead80ac06",
   "metadata": {},
   "outputs": [],
   "source": []
  }
 ],
 "metadata": {
  "kernelspec": {
   "display_name": "Python 3 (ipykernel)",
   "language": "python",
   "name": "python3"
  },
  "language_info": {
   "codemirror_mode": {
    "name": "ipython",
    "version": 3
   },
   "file_extension": ".py",
   "mimetype": "text/x-python",
   "name": "python",
   "nbconvert_exporter": "python",
   "pygments_lexer": "ipython3",
   "version": "3.13.5"
  }
 },
 "nbformat": 4,
 "nbformat_minor": 5
}
