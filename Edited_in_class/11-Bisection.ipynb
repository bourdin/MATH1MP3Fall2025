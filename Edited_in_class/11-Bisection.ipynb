{
 "cells": [
  {
   "cell_type": "markdown",
   "id": "f155d58f-4d65-4b5e-9640-1778c4d9d104",
   "metadata": {},
   "source": [
    "# \n",
    "11. Solving equations"
   ]
  },
  {
   "cell_type": "code",
   "execution_count": 1,
   "id": "6ac9c525-29c8-4067-bd23-5db6f2a30986",
   "metadata": {},
   "outputs": [],
   "source": [
    "def bisection1(f,a,b,tol = 1.0e-4):\n",
    "    if f(a) * f(b) > 0:\n",
    "        print(f\"f({a}) and f({b}) do not have opposite signs\")\n",
    "        return \n",
    "    elif f(a) == 0:\n",
    "        return a,a\n",
    "    elif f(b) == 0:\n",
    "        return b,b\n",
    "\n",
    "    iter = 0\n",
    "    while abs(b-a) > tol:\n",
    "        iter += 1\n",
    "        m = (a+b)/2\n",
    "        print(f\"{iter:3d}: a    = {a},    b = {b},    m = {m}\")\n",
    "        print(f\"{iter:3d}: f(a) = {f(a)}, f(b) = {f(b)}, f(m) = {f(m)}\")\n",
    "        \n",
    "        if f(a) * f(m) < 0:\n",
    "            b = m\n",
    "        elif f(a) * f(m) > 0:\n",
    "            a = m\n",
    "        else:\n",
    "            a = m\n",
    "            b = m\n",
    "    return a,b\n",
    "\n",
    "\n",
    "    "
   ]
  },
  {
   "cell_type": "code",
   "execution_count": 2,
   "id": "d125bb52-53d0-4737-ae27-cd540388482c",
   "metadata": {},
   "outputs": [
    {
     "name": "stdout",
     "output_type": "stream",
     "text": [
      "  1: a    = 0,    b = 3,    m = 1.5\n",
      "  1: f(a) = -2, f(b) = 7, f(m) = 0.25\n",
      "  2: a    = 0,    b = 1.5,    m = 0.75\n",
      "  2: f(a) = -2, f(b) = 0.25, f(m) = -1.4375\n",
      "  3: a    = 0.75,    b = 1.5,    m = 1.125\n",
      "  3: f(a) = -1.4375, f(b) = 0.25, f(m) = -0.734375\n",
      "  4: a    = 1.125,    b = 1.5,    m = 1.3125\n",
      "  4: f(a) = -0.734375, f(b) = 0.25, f(m) = -0.27734375\n",
      "  5: a    = 1.3125,    b = 1.5,    m = 1.40625\n",
      "  5: f(a) = -0.27734375, f(b) = 0.25, f(m) = -0.0224609375\n",
      "  6: a    = 1.40625,    b = 1.5,    m = 1.453125\n",
      "  6: f(a) = -0.0224609375, f(b) = 0.25, f(m) = 0.111572265625\n",
      "  7: a    = 1.40625,    b = 1.453125,    m = 1.4296875\n",
      "  7: f(a) = -0.0224609375, f(b) = 0.111572265625, f(m) = 0.04400634765625\n",
      "  8: a    = 1.40625,    b = 1.4296875,    m = 1.41796875\n",
      "  8: f(a) = -0.0224609375, f(b) = 0.04400634765625, f(m) = 0.0106353759765625\n",
      "  9: a    = 1.40625,    b = 1.41796875,    m = 1.412109375\n",
      "  9: f(a) = -0.0224609375, f(b) = 0.0106353759765625, f(m) = -0.005947113037109375\n",
      " 10: a    = 1.412109375,    b = 1.41796875,    m = 1.4150390625\n",
      " 10: f(a) = -0.005947113037109375, f(b) = 0.0106353759765625, f(m) = 0.0023355484008789062\n",
      " 11: a    = 1.412109375,    b = 1.4150390625,    m = 1.41357421875\n",
      " 11: f(a) = -0.005947113037109375, f(b) = 0.0023355484008789062, f(m) = -0.0018079280853271484\n",
      " 12: a    = 1.41357421875,    b = 1.4150390625,    m = 1.414306640625\n",
      " 12: f(a) = -0.0018079280853271484, f(b) = 0.0023355484008789062, f(m) = 0.0002632737159729004\n",
      "the root of f in (0,3) is in (1.41357421875,1.414306640625)\n"
     ]
    }
   ],
   "source": [
    "import math\n",
    "def f(x):\n",
    "    return x**2-2\n",
    "\n",
    "a = 0\n",
    "b = 3\n",
    "\n",
    "a1,b1 = bisection1(f,a,b,tol = 1e-3)\n",
    "print(f\"the root of f in ({a},{b}) is in ({a1},{b1})\")\n",
    "\n",
    "\n",
    "\n",
    "\n"
   ]
  },
  {
   "cell_type": "code",
   "execution_count": null,
   "id": "9c95db6b-5d46-496a-877c-607e466ed1e9",
   "metadata": {},
   "outputs": [],
   "source": []
  }
 ],
 "metadata": {
  "kernelspec": {
   "display_name": "Python 3 (ipykernel)",
   "language": "python",
   "name": "python3"
  },
  "language_info": {
   "codemirror_mode": {
    "name": "ipython",
    "version": 3
   },
   "file_extension": ".py",
   "mimetype": "text/x-python",
   "name": "python",
   "nbconvert_exporter": "python",
   "pygments_lexer": "ipython3",
   "version": "3.13.5"
  }
 },
 "nbformat": 4,
 "nbformat_minor": 5
}
