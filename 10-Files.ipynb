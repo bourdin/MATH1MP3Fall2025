{
 "cells": [
  {
   "cell_type": "markdown",
   "id": "8e3b92e4",
   "metadata": {},
   "source": [
    "### Files\n",
    "Files are kind of like containers in that they \"contain\" information. Technically, a `file` object does not really contain the information but is a way to access or write it on a physical medium... \n",
    "\n",
    "* 'open' a file (so that one can read  write):\n",
    "   `f = open(<file_name>, <access_mode>)`\n",
    "   returns a file object, which is somewhat like a container.\n",
    "    - `access_mode = 'r'` for read-only\n",
    "    - `access_mode = 'a'` to append to an existing file\n",
    "    - `access-mode = 'x'` top overwrite an existing file (Use with caution)\n",
    "* `f.close()` when done writing. \n",
    "* `f.write(str)` to write `str` to the file. Write operation may not be actually committed to the file until it is closed.\n",
    "* `f.read()` reads the entire file\n",
    "* `f.readline()` reads one line. Iterate over `f.readline()` to read the whole file, one line at a time\n",
    "* `f.readlines()` read the whole file into a list of string. One line in each string\n"
   ]
  },
  {
   "cell_type": "code",
   "execution_count": null,
   "id": "1a348f47",
   "metadata": {},
   "outputs": [],
   "source": [
    "f = open('example.txt','w')\n",
    "f.write('The quick brown fox jumps over the lazy dog\\n')\n",
    "f.write('a man a plan a canal panama')\n",
    "f.close()\n",
    "\n",
    "f2 = open('example.txt')\n",
    "s = f2.read()\n",
    "f2.close\n",
    "print(s)"
   ]
  },
  {
   "cell_type": "code",
   "execution_count": null,
   "id": "0247c33a",
   "metadata": {},
   "outputs": [],
   "source": [
    "f3 = open('1-1000000.txt')\n",
    "pistr = f3.read()\n",
    "print(pistr[:256])\n",
    "pistr.index('2468')\n",
    "len(pistr)\n"
   ]
  },
  {
   "cell_type": "code",
   "execution_count": 10,
   "id": "e0c5cdd0",
   "metadata": {},
   "outputs": [
    {
     "name": "stdout",
     "output_type": "stream",
     "text": [
      "The quick brown fox jumps over the lazy dog\n",
      "\n",
      "a man a plan a canal panama\n"
     ]
    }
   ],
   "source": [
    "f2 = open('example.txt')\n",
    "for line in f2.readlines():\n",
    "    print(line)\n",
    "f2.close()"
   ]
  },
  {
   "cell_type": "code",
   "execution_count": 30,
   "id": "a1ee0107",
   "metadata": {},
   "outputs": [
    {
     "name": "stdout",
     "output_type": "stream",
     "text": [
      "3\n"
     ]
    }
   ],
   "source": [
    "word = 'math'\n",
    "f = open('Frankenstein.txt')\n",
    "counter = 0\n",
    "for line in f.readlines():\n",
    "    counter += line.lower().count(word)\n",
    "print(counter)\n",
    "f.close()"
   ]
  },
  {
   "cell_type": "code",
   "execution_count": null,
   "id": "874f7081",
   "metadata": {},
   "outputs": [],
   "source": []
  }
 ],
 "metadata": {
  "kernelspec": {
   "display_name": "base",
   "language": "python",
   "name": "python3"
  },
  "language_info": {
   "codemirror_mode": {
    "name": "ipython",
    "version": 3
   },
   "file_extension": ".py",
   "mimetype": "text/x-python",
   "name": "python",
   "nbconvert_exporter": "python",
   "pygments_lexer": "ipython3",
   "version": "3.12.11"
  }
 },
 "nbformat": 4,
 "nbformat_minor": 5
}
