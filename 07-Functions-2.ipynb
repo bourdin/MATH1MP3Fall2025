{
 "cells": [
  {
   "cell_type": "markdown",
   "id": "b9c944a2",
   "metadata": {},
   "source": [
    "# Chapter 7: Functions -- advanced topics"
   ]
  },
  {
   "cell_type": "markdown",
   "id": "7e425cd6",
   "metadata": {},
   "source": [
    "## 7.1 Scope\n",
    "* variable defined *inside* a function are only visible *inside* the function (we call these *local* variables)\n",
    "* variables defined *outside* a function are visible but cannot be changed (they are *global* variables)\n",
    "* if a local variable has the same name as a global variable, it replaces the global variable"
   ]
  },
  {
   "cell_type": "code",
   "execution_count": null,
   "id": "3d3dfa85",
   "metadata": {},
   "outputs": [],
   "source": [
    "x = 1\n",
    "def example1(y):\n",
    "    z = 23\n",
    "    # in example1, x is global, y and z are local\n",
    "    print(f\"inside example1: x = {x}, y = {y}, z = {z}\")\n",
    "\n",
    "example1(2)"
   ]
  },
  {
   "cell_type": "code",
   "execution_count": null,
   "id": "97f8f2cd",
   "metadata": {},
   "outputs": [],
   "source": [
    "# since y and z are local to example1, they are \"out of scope\" here\n",
    "print(f\"outside example1: x = {x}, y = {y}, z = {z}\")"
   ]
  },
  {
   "cell_type": "code",
   "execution_count": null,
   "id": "e7cbddd0",
   "metadata": {},
   "outputs": [],
   "source": [
    "x = 1\n",
    "def example2(y):\n",
    "    z = 23\n",
    "    x = y\n",
    "    # This is a bit subtle: we have created a \"new\" local variable x which is equal to 3\n",
    "    # changing x here does not affect the value of the 'global' x\n",
    "    print(f\"inside example2: x = {x}\")\n",
    "print(f\"before example2: x = {x}\")\n",
    "example2(3)\n",
    "print(f\"after example2:  x = {x}\")\n"
   ]
  },
  {
   "cell_type": "markdown",
   "id": "771c67f4",
   "metadata": {},
   "source": []
  },
  {
   "cell_type": "code",
   "execution_count": null,
   "id": "b895593a",
   "metadata": {},
   "outputs": [],
   "source": [
    "x = 1\n",
    "def example3(y):\n",
    "    z = 23\n",
    "    x = x + 1\n",
    "    # This is incorrect: the left hand side suggests that x is a new local variable, but the right hand side \n",
    "    # suggests that we want to access the 'global' x\n",
    "    print(f\"inside example3: x = {x}\")\n",
    "print(f\"before example3: x = {x}\")\n",
    "example3(3)\n",
    "print(f\"after example3:  x = {x}\")"
   ]
  },
  {
   "cell_type": "markdown",
   "id": "3ca5d81d",
   "metadata": {},
   "source": [
    "### Short version:\n",
    "* Avoid global variables as much as possible\n",
    "* Even though it is technically possible, **do not access global variables** inside a function. \n",
    "* Pass all needed variables as parameters."
   ]
  },
  {
   "cell_type": "code",
   "execution_count": null,
   "id": "4e61f680",
   "metadata": {},
   "outputs": [],
   "source": [
    "x = 1\n",
    "# This version does not access x directly. Instead, we are passing x as a parameter\n",
    "def example4(y, x):\n",
    "    z = 23\n",
    "    # in example1, x is global, y and z are local\n",
    "    print(f\"inside example1: x = {x}, y = {y}, z = {z}\")\n",
    "\n",
    "example4(2, x)"
   ]
  },
  {
   "cell_type": "markdown",
   "id": "daf403d9",
   "metadata": {},
   "source": [
    "## 7.2 Side effects\n",
    "\n",
    "> \"A function is said to have a *side effects* if it has any observable effect other than its primary effect of reading the value of its arguments and returning a value to the invoker of the operation.\"\n",
    "\n",
    "* We have seen that a python function cannot change variables outside its scope (see `example2` above).\n",
    "* It also cannot change the value of its arguments. (this makes sense, since we can pass *constants* as arguments).\n",
    "\n",
    "Summary, anything that you want modified in a function needs to be `return`ed"
   ]
  },
  {
   "cell_type": "code",
   "execution_count": null,
   "id": "d1aec90d",
   "metadata": {},
   "outputs": [],
   "source": [
    "x = 1\n",
    "y = 2\n",
    "def example5(x,z):\n",
    "    x = z\n",
    "    print(f\"inside example5: x = {x}, y = {y}\")\n",
    "\n",
    "print(f\"before example5: x = {x}, y = {y}\")\n",
    "example5(x,y)\n",
    "print(f\"after example5:  x = {x}, y = {y}\")"
   ]
  },
  {
   "cell_type": "markdown",
   "id": "eb963227",
   "metadata": {},
   "source": [
    "## 7.3 Warning: things get more complicated with containers..."
   ]
  },
  {
   "cell_type": "code",
   "execution_count": null,
   "id": "ae3d1156",
   "metadata": {},
   "outputs": [],
   "source": [
    "X = [1,2,3]\n",
    "Y = [4,5,6]\n",
    "def example6(Z):\n",
    "    X[1] = Z[1]\n",
    "    print(f\"inside example6: X = {X}, Z = {Z}\")\n",
    "print(f\"before example6: X = {X}, Y = {Y}\")\n",
    "example6(Y)\n",
    "print(f\"after example6:  X = {X}, Y = {Y}\")"
   ]
  },
  {
   "cell_type": "markdown",
   "id": "e65413ac",
   "metadata": {},
   "source": [
    "How come X was changed inside `example6`???"
   ]
  },
  {
   "cell_type": "code",
   "execution_count": null,
   "id": "2378c09f",
   "metadata": {},
   "outputs": [],
   "source": [
    "X = [1,2,3]\n",
    "Y = [4,5,6]\n",
    "def example7(Z):\n",
    "    X = Z\n",
    "    print(f\"inside example7: X = {X}, Z = {Z}\")\n",
    "print(f\"before example7: X = {X}, Y = {Y}\")\n",
    "example7(Y)\n",
    "print(f\"after example7:  X = {X}, Y = {Y}\")"
   ]
  },
  {
   "cell_type": "markdown",
   "id": "d343ed8c",
   "metadata": {},
   "source": [
    "How come X was changed inside `example6` but not inside `example7`???"
   ]
  },
  {
   "cell_type": "markdown",
   "id": "54cab72d",
   "metadata": {},
   "source": [
    "## 7.4 lambda-functions\n",
    "Lambdas are compact ways to define functions without necessarily giving them names. \n",
    "\n",
    "Syntax:\n",
    "```\n",
    "lambda arguments : expression\n",
    "```"
   ]
  },
  {
   "cell_type": "code",
   "execution_count": null,
   "id": "8036ef62",
   "metadata": {},
   "outputs": [],
   "source": [
    "def evaluateat(f,x):\n",
    "    print(f\"f({x}) = {f(x)}\")\n",
    "\n",
    "def g(x):\n",
    "    return x**2\n",
    "\n",
    "evaluateat(g,4)\n",
    "evaluateat(g,5)"
   ]
  },
  {
   "cell_type": "markdown",
   "id": "8b178c96",
   "metadata": {},
   "source": [
    "say we just want to call `evaluateat` for $f(x) = x^2$ but will never really reuse $f$, so don't want to define this function. We can use a lambda here:"
   ]
  },
  {
   "cell_type": "code",
   "execution_count": null,
   "id": "09073bb4",
   "metadata": {},
   "outputs": [],
   "source": [
    "evaluateat(lambda x : x**2, 10)"
   ]
  },
  {
   "cell_type": "markdown",
   "id": "8e5999a3",
   "metadata": {},
   "source": [
    "A classical use of lambdas is to fix some parameters of a function.\n",
    "The function $f(x) = |x|$ is not differentiable at 0. It is common to approximate by\n",
    "$$\n",
    "    f_\\varepsilon(x) \\ \\sqrt{x^2+ \\varepsilon},\n",
    "$$\n",
    "where $0 <\\varepsilon$ is a small regularization parameter.\n",
    "\n",
    "Let's compare the values of $f$ and $f_\\varepsilon$."
   ]
  },
  {
   "cell_type": "code",
   "execution_count": null,
   "id": "fcf9a9cd",
   "metadata": {},
   "outputs": [],
   "source": [
    "import math\n",
    "def smoothabs(a,epsilon):\n",
    "    return math.sqrt(a**2+epsilon)"
   ]
  },
  {
   "cell_type": "code",
   "execution_count": null,
   "id": "f9cfedfe",
   "metadata": {},
   "outputs": [],
   "source": [
    "%matplotlib inline\n",
    "import matplotlib.pyplot as plt\n",
    "import numpy as np\n",
    "X = np.linspace(-1,1,101)\n",
    "\n",
    "f = plt.figure()\n",
    "plt.plot(X,[abs(x) for x in X], label = f'$|x|$')\n",
    "for epsilon in [0.1, 0.01, 0.001]:\n",
    "    plt.plot(X,[smoothabs(x,epsilon) for x in X], label = f'$|x|_\\\\varepsilon, \\\\varepsilon = {{{epsilon}}}$')\n",
    "plt.legend(loc=0)\n",
    "plt.grid()\n",
    "plt.show()\n"
   ]
  },
  {
   "cell_type": "code",
   "execution_count": null,
   "id": "7adc763a",
   "metadata": {},
   "outputs": [],
   "source": [
    "def tabulate (x,f):\n",
    "    print(\"x:    \", end=\"\")\n",
    "    for xx in x:\n",
    "        print(f\"{xx:.3f}\", end = \"\\t\")\n",
    "    print()\n",
    "    print(\"f(x): \", end=\"\")\n",
    "    for xx in x:\n",
    "        print(f\"{f(xx):.3f}\", end = \"\\t\")\n",
    "    print()\n",
    "\n",
    "def g(y):\n",
    "    return y**2\n",
    "\n",
    "tabulate([1.,2.,3., 4.5], g)\n",
    "\n"
   ]
  },
  {
   "cell_type": "code",
   "execution_count": null,
   "id": "0565167c",
   "metadata": {},
   "outputs": [],
   "source": [
    "X = [-1, -0.5, 0, 0.5, 1]\n",
    "tabulate(X, lambda x: abs(x))\n",
    "tabulate(X, lambda x : smoothabs(x, 0.001))"
   ]
  },
  {
   "cell_type": "code",
   "execution_count": null,
   "id": "f59ad6aa",
   "metadata": {},
   "outputs": [],
   "source": [
    "def derivate(f,a,h):\n",
    "    return (f(a+h) - f(a))/h\n",
    "\n",
    "def g(x):\n",
    "    return x**2\n",
    "\n",
    "tabulate(X,g)\n",
    "tabulate(X, lambda x : derivate(g,x,0.001))"
   ]
  }
 ],
 "metadata": {
  "kernelspec": {
   "display_name": "base",
   "language": "python",
   "name": "python3"
  },
  "language_info": {
   "codemirror_mode": {
    "name": "ipython",
    "version": 3
   },
   "file_extension": ".py",
   "mimetype": "text/x-python",
   "name": "python",
   "nbconvert_exporter": "python",
   "pygments_lexer": "ipython3",
   "version": "3.12.11"
  }
 },
 "nbformat": 4,
 "nbformat_minor": 5
}
