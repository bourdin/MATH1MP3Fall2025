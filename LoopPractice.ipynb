{
 "cells": [
  {
   "cell_type": "markdown",
   "id": "62548fd2",
   "metadata": {},
   "source": [
    "# Playing with loops"
   ]
  },
  {
   "cell_type": "markdown",
   "id": "74555a0f",
   "metadata": {},
   "source": [
    "## 1. Replace all vowels from a string by a \"*\".\n",
    "\n",
    "Note that strings are \"immutable\", so we cannot change or remove a character, but we can add to them."
   ]
  },
  {
   "cell_type": "code",
   "execution_count": null,
   "id": "d3741a64",
   "metadata": {},
   "outputs": [],
   "source": []
  },
  {
   "cell_type": "markdown",
   "id": "bdf66148",
   "metadata": {},
   "source": [
    "## 2. Print a multiplication table"
   ]
  },
  {
   "cell_type": "code",
   "execution_count": null,
   "id": "1afc8cef",
   "metadata": {},
   "outputs": [
    {
     "name": "stdout",
     "output_type": "stream",
     "text": [
      "  1   2   3   4   5   6   7   8   9  10  11  12  13  14  15 \n",
      "  2   4   6   8  10  12  14  16  18  20  22  24  26  28  30 \n",
      "  3   6   9  12  15  18  21  24  27  30  33  36  39  42  45 \n",
      "  4   8  12  16  20  24  28  32  36  40  44  48  52  56  60 \n",
      "  5  10  15  20  25  30  35  40  45  50  55  60  65  70  75 \n",
      "  6  12  18  24  30  36  42  48  54  60  66  72  78  84  90 \n",
      "  7  14  21  28  35  42  49  56  63  70  77  84  91  98 105 \n",
      "  8  16  24  32  40  48  56  64  72  80  88  96 104 112 120 \n",
      "  9  18  27  36  45  54  63  72  81  90  99 108 117 126 135 \n",
      " 10  20  30  40  50  60  70  80  90 100 110 120 130 140 150 \n",
      " 11  22  33  44  55  66  77  88  99 110 121 132 143 154 165 \n",
      " 12  24  36  48  60  72  84  96 108 120 132 144 156 168 180 \n",
      " 13  26  39  52  65  78  91 104 117 130 143 156 169 182 195 \n",
      " 14  28  42  56  70  84  98 112 126 140 154 168 182 196 210 \n",
      " 15  30  45  60  75  90 105 120 135 150 165 180 195 210 225 \n"
     ]
    }
   ],
   "source": []
  },
  {
   "cell_type": "markdown",
   "id": "ca0d33f8",
   "metadata": {},
   "source": [
    "### 3. Revert a list "
   ]
  },
  {
   "cell_type": "code",
   "execution_count": null,
   "id": "a848f950",
   "metadata": {},
   "outputs": [
    {
     "name": "stdout",
     "output_type": "stream",
     "text": [
      "['eight', 'SEVEN', 6, 'five', 4.0, 3, 2, 'One']\n",
      "['eight', 'SEVEN', 6, 'five', 4.0, 3, 2, 'One']\n"
     ]
    }
   ],
   "source": [
    "L = [\"One\", 2, 3, 4.0, \"five\", 6, 'SEVEN', \"eight\"]"
   ]
  },
  {
   "cell_type": "markdown",
   "id": "6cc57be9",
   "metadata": {},
   "source": [
    "### 4. Find if a string contains any upper case letter"
   ]
  },
  {
   "cell_type": "code",
   "execution_count": null,
   "id": "825de7c6",
   "metadata": {},
   "outputs": [],
   "source": []
  },
  {
   "cell_type": "markdown",
   "id": "41f5378d",
   "metadata": {},
   "source": [
    "### 5. Find the smallest and largest number in a list of floats or ints"
   ]
  },
  {
   "cell_type": "code",
   "execution_count": null,
   "id": "38965188",
   "metadata": {},
   "outputs": [],
   "source": []
  },
  {
   "cell_type": "markdown",
   "id": "9ca3d590",
   "metadata": {},
   "source": [
    "### 6. \"Flatten\" a nested loop "
   ]
  },
  {
   "cell_type": "code",
   "execution_count": null,
   "id": "b7498039",
   "metadata": {},
   "outputs": [],
   "source": []
  },
  {
   "cell_type": "markdown",
   "id": "50ef4a2f",
   "metadata": {},
   "source": [
    "### 7. Find if a year is a leap year\n",
    "> Every year that is exactly divisible by four is a leap year, except for years that are exactly divisible by 100, but these centurial years are leap years if they are exactly divisible by 400. For example, the years 1700, 1800, and 1900 are not leap years, but the years 1600 and 2000 are."
   ]
  },
  {
   "cell_type": "markdown",
   "id": "0ac604a8",
   "metadata": {},
   "source": []
  },
  {
   "cell_type": "code",
   "execution_count": null,
   "id": "0a386aa7",
   "metadata": {},
   "outputs": [],
   "source": []
  },
  {
   "cell_type": "markdown",
   "id": "6fdfc174",
   "metadata": {},
   "source": []
  }
 ],
 "metadata": {
  "kernelspec": {
   "display_name": "base",
   "language": "python",
   "name": "python3"
  },
  "language_info": {
   "codemirror_mode": {
    "name": "ipython",
    "version": 3
   },
   "file_extension": ".py",
   "mimetype": "text/x-python",
   "name": "python",
   "nbconvert_exporter": "python",
   "pygments_lexer": "ipython3",
   "version": "3.12.11"
  }
 },
 "nbformat": 4,
 "nbformat_minor": 5
}
