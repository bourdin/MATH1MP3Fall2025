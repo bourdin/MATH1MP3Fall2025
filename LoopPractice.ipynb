{
 "cells": [
  {
   "cell_type": "markdown",
   "id": "62548fd2",
   "metadata": {},
   "source": [
    "# Playing with loops"
   ]
  },
  {
   "cell_type": "markdown",
   "id": "74555a0f",
   "metadata": {},
   "source": [
    "## 1. Replace all vowels from a string by a \"*\".\n",
    "\n",
    "Note that strings are \"immutable\", so we cannot change or remove a character, but we can add to them."
   ]
  },
  {
   "cell_type": "code",
   "execution_count": 7,
   "id": "d3741a64",
   "metadata": {},
   "outputs": [
    {
     "name": "stdout",
     "output_type": "stream",
     "text": [
      "N is not a vowel\n",
      "o is a vowel\n",
      "t is not a vowel\n",
      "e is a vowel\n",
      "  is not a vowel\n",
      "t is not a vowel\n",
      "h is not a vowel\n",
      "a is a vowel\n",
      "t is not a vowel\n",
      "  is not a vowel\n",
      "s is not a vowel\n",
      "t is not a vowel\n",
      "r is not a vowel\n",
      "i is a vowel\n",
      "n is not a vowel\n",
      "g is not a vowel\n",
      "s is not a vowel\n",
      "  is not a vowel\n",
      "a is a vowel\n",
      "r is not a vowel\n",
      "e is a vowel\n",
      "  is not a vowel\n",
      "i is a vowel\n",
      "m is not a vowel\n",
      "m is not a vowel\n",
      "u is a vowel\n",
      "t is not a vowel\n",
      "a is a vowel\n",
      "b is not a vowel\n",
      "l is not a vowel\n",
      "e is a vowel\n",
      "  is not a vowel\n"
     ]
    }
   ],
   "source": [
    "text = 'Note that strings are immutable '\n",
    "vowels = ['a', 'e', 'i', 'o', 'u', 'y']\n",
    "\n",
    "\n",
    "for c in text:\n",
    "    if c in vowels:\n",
    "        print(f\"{c} is a vowel\")\n",
    "    else:\n",
    "        print(f\"{c} is not a vowel\")\n",
    "\n",
    "        "
   ]
  },
  {
   "cell_type": "code",
   "execution_count": 8,
   "id": "c5b105c6-b722-40bc-bf5b-4d539e338fcc",
   "metadata": {},
   "outputs": [
    {
     "ename": "TypeError",
     "evalue": "'str' object does not support item assignment",
     "output_type": "error",
     "traceback": [
      "\u001b[31m---------------------------------------------------------------------------\u001b[39m",
      "\u001b[31mTypeError\u001b[39m                                 Traceback (most recent call last)",
      "\u001b[36mCell\u001b[39m\u001b[36m \u001b[39m\u001b[32mIn[8]\u001b[39m\u001b[32m, line 3\u001b[39m\n\u001b[32m      1\u001b[39m \u001b[38;5;28;01mfor\u001b[39;00m i \u001b[38;5;129;01min\u001b[39;00m \u001b[38;5;28mrange\u001b[39m(\u001b[38;5;28mlen\u001b[39m(text)):\n\u001b[32m      2\u001b[39m     \u001b[38;5;28;01mif\u001b[39;00m text[i] \u001b[38;5;129;01min\u001b[39;00m vowels:\n\u001b[32m----> \u001b[39m\u001b[32m3\u001b[39m         \u001b[43mtext\u001b[49m\u001b[43m[\u001b[49m\u001b[43mi\u001b[49m\u001b[43m]\u001b[49m = \u001b[33m'\u001b[39m\u001b[33m*\u001b[39m\u001b[33m'\u001b[39m\n",
      "\u001b[31mTypeError\u001b[39m: 'str' object does not support item assignment"
     ]
    }
   ],
   "source": [
    "for i in range(len(text)):\n",
    "    if text[i] in vowels:\n",
    "        text[i] = '*'\n",
    "# This won't work :("
   ]
  },
  {
   "cell_type": "code",
   "execution_count": 6,
   "id": "fcd3151c-f72e-46e1-ab36-bd6643161d68",
   "metadata": {},
   "outputs": [
    {
     "name": "stdout",
     "output_type": "stream",
     "text": [
      "Print a multiplication table. You should always test your code\n",
      "Pr*nt * m*lt*pl*c*t**n t*bl*. *** sh**ld *lw**s t*st ***r c*d*\n"
     ]
    }
   ],
   "source": [
    "text = \"Print a multiplication table. You should always test your code\"\n",
    "# vowels = ['a', 'e', 'i', 'o', 'u', 'y']\n",
    "vowels = \"aeiouy\"\n",
    "\n",
    "newText = \"\"\n",
    "\n",
    "for c in text:\n",
    "    if c.lower()\n",
    "    in vowels:\n",
    "        newText = newText + '*'\n",
    "        \n",
    "    else:\n",
    "        newText = newText + c\n",
    "        \n",
    "print(text)\n",
    "print(newText)"
   ]
  },
  {
   "cell_type": "markdown",
   "id": "bdf66148",
   "metadata": {},
   "source": [
    "## 2. Print a multiplication table"
   ]
  },
  {
   "cell_type": "code",
   "execution_count": 31,
   "id": "1afc8cef",
   "metadata": {},
   "outputs": [
    {
     "name": "stdout",
     "output_type": "stream",
     "text": [
      "  1   2   3   4   5   6   7   8   9  10  11  12  13  14  15 \n",
      "  2   4   6   8  10  12  14  16  18  20  22  24  26  28  30 \n",
      "  3   6   9  12  15  18  21  24  27  30  33  36  39  42  45 \n",
      "  4   8  12  16  20  24  28  32  36  40  44  48  52  56  60 \n",
      "  5  10  15  20  25  30  35  40  45  50  55  60  65  70  75 \n",
      "  6  12  18  24  30  36  42  48  54  60  66  72  78  84  90 \n",
      "  7  14  21  28  35  42  49  56  63  70  77  84  91  98 105 \n",
      "  8  16  24  32  40  48  56  64  72  80  88  96 104 112 120 \n",
      "  9  18  27  36  45  54  63  72  81  90  99 108 117 126 135 \n",
      " 10  20  30  40  50  60  70  80  90 100 110 120 130 140 150 \n",
      " 11  22  33  44  55  66  77  88  99 110 121 132 143 154 165 \n",
      " 12  24  36  48  60  72  84  96 108 120 132 144 156 168 180 \n",
      " 13  26  39  52  65  78  91 104 117 130 143 156 169 182 195 \n",
      " 14  28  42  56  70  84  98 112 126 140 154 168 182 196 210 \n",
      " 15  30  45  60  75  90 105 120 135 150 165 180 195 210 225 \n"
     ]
    }
   ],
   "source": [
    "N = 15\n",
    "for a in range(1,N+1):\n",
    "    for b in range(1,N+1):\n",
    "        print(f'{a*b:3d}', end = ' ')\n",
    "    print()\n",
    "\n",
    "    \n",
    "        "
   ]
  },
  {
   "cell_type": "markdown",
   "id": "ca0d33f8",
   "metadata": {},
   "source": [
    "### 3. Revert a list "
   ]
  },
  {
   "cell_type": "code",
   "execution_count": 7,
   "id": "a848f950",
   "metadata": {},
   "outputs": [],
   "source": [
    "L = [\"One\", 2, 3, 4.0, \"five\", 6, 'SEVEN', \"eight\"]"
   ]
  },
  {
   "cell_type": "code",
   "execution_count": 18,
   "id": "724ed73e-8a5c-482c-aa49-dbe2a1e8e958",
   "metadata": {},
   "outputs": [
    {
     "name": "stdout",
     "output_type": "stream",
     "text": [
      "eight SEVEN 6 five 4.0 3 2 One \n",
      "eight SEVEN 6 five 4.0 3 2 One \n",
      "eight SEVEN 6 five 4.0 3 2 One \n",
      "eight SEVEN 6 five 4.0 3 2 One \n"
     ]
    }
   ],
   "source": [
    "# print L in reverse order\n",
    "for i in range(len(L)):\n",
    "    print(L[-(i+1)], end = ' ')\n",
    "print()\n",
    "\n",
    "for i in range(len(L)):\n",
    "    print(L[len(L)-i-1], end = ' ')    \n",
    "print()\n",
    "\n",
    "for i in range(len(L)-1,-1,-1):\n",
    "    print(L[i], end = ' ')\n",
    "print()\n",
    "\n",
    "for i in range(len(L),0,-1):\n",
    "    print(L[i-1], end = ' ')\n",
    "print()\n"
   ]
  },
  {
   "cell_type": "code",
   "execution_count": 21,
   "id": "7e4a7871-2b58-4b78-ad82-a265d339df2f",
   "metadata": {},
   "outputs": [
    {
     "name": "stdout",
     "output_type": "stream",
     "text": [
      "['eight', 'SEVEN', 6, 'five', 4.0, 3, 2, 'One']\n"
     ]
    }
   ],
   "source": [
    "# indirect way:\n",
    "# 1. create Linv which is the invert of L\n",
    "# 2. print Linv\n",
    "\n",
    "Linv = []\n",
    "for i in L:\n",
    "    Linv = [i] + Linv\n",
    "print(Linv)\n",
    "\n"
   ]
  },
  {
   "cell_type": "code",
   "execution_count": 24,
   "id": "c4f4ccea-8a2c-4bee-9c3d-45f8670d5827",
   "metadata": {},
   "outputs": [
    {
     "name": "stdout",
     "output_type": "stream",
     "text": [
      "[8, 7, 6, 5, 4, 3, 2, 1]\n"
     ]
    }
   ],
   "source": [
    "L = [1,2,3,4,5,6,7,8]\n",
    "N = len(L)\n",
    "for i in range(N // 2):\n",
    "    tempVar = L[i]\n",
    "    L[i] = L[N-1-i]\n",
    "    L[N-1-i] = tempVar\n",
    "print(L)"
   ]
  },
  {
   "cell_type": "markdown",
   "id": "6cc57be9",
   "metadata": {},
   "source": [
    "### 4. Find if a string contains any upper case letter"
   ]
  },
  {
   "cell_type": "code",
   "execution_count": null,
   "id": "825de7c6",
   "metadata": {},
   "outputs": [],
   "source": []
  },
  {
   "cell_type": "markdown",
   "id": "41f5378d",
   "metadata": {},
   "source": [
    "### 5. Find the smallest and largest number in a list of floats or ints"
   ]
  },
  {
   "cell_type": "code",
   "execution_count": null,
   "id": "38965188",
   "metadata": {},
   "outputs": [],
   "source": []
  },
  {
   "cell_type": "markdown",
   "id": "9ca3d590",
   "metadata": {},
   "source": [
    "### 6. \"Flatten\" a nested loop "
   ]
  },
  {
   "cell_type": "code",
   "execution_count": null,
   "id": "b7498039",
   "metadata": {},
   "outputs": [],
   "source": []
  },
  {
   "cell_type": "markdown",
   "id": "50ef4a2f",
   "metadata": {},
   "source": [
    "### 7. Find if a year is a leap year\n",
    "> Every year that is exactly divisible by four is a leap year, except for years that are exactly divisible by 100, but these centurial years are leap years if they are exactly divisible by 400. For example, the years 1700, 1800, and 1900 are not leap years, but the years 1600 and 2000 are."
   ]
  },
  {
   "cell_type": "markdown",
   "id": "0ac604a8",
   "metadata": {},
   "source": []
  },
  {
   "cell_type": "code",
   "execution_count": null,
   "id": "0a386aa7",
   "metadata": {},
   "outputs": [],
   "source": []
  },
  {
   "cell_type": "markdown",
   "id": "6fdfc174",
   "metadata": {},
   "source": []
  }
 ],
 "metadata": {
  "kernelspec": {
   "display_name": "Python 3 (ipykernel)",
   "language": "python",
   "name": "python3"
  },
  "language_info": {
   "codemirror_mode": {
    "name": "ipython",
    "version": 3
   },
   "file_extension": ".py",
   "mimetype": "text/x-python",
   "name": "python",
   "nbconvert_exporter": "python",
   "pygments_lexer": "ipython3",
   "version": "3.13.5"
  }
 },
 "nbformat": 4,
 "nbformat_minor": 5
}
