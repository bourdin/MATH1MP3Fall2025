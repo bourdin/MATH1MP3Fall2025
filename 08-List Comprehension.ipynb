{
 "cells": [
  {
   "cell_type": "markdown",
   "id": "1d40e13c",
   "metadata": {},
   "source": [
    "# Chapter 8: List comprehensions\n",
    "List comprehension are a simple way to define lists\n",
    "Syntax:\n",
    "```\n",
    "newlist = [expression for item in iterable if condition == True]\n",
    "```\n"
   ]
  },
  {
   "cell_type": "code",
   "execution_count": 1,
   "id": "dc28308e",
   "metadata": {},
   "outputs": [
    {
     "name": "stdout",
     "output_type": "stream",
     "text": [
      "[1, 4, 9, 16, 25, 36, 49]\n"
     ]
    }
   ],
   "source": [
    "# given X = [x_1, x_2, ..., x_n] and f(x), build\n",
    "# Y = [f(x_1), f(x_2), ... f(x_n)]\n",
    "\n",
    "X = [1, 2, 3, 4, 5, 6, 7]\n",
    "def f(x):\n",
    "    return x**2\n",
    "\n",
    "Y = [f(x) for x in X]\n",
    "print(Y)"
   ]
  },
  {
   "cell_type": "code",
   "execution_count": 1,
   "id": "47e3195c",
   "metadata": {},
   "outputs": [
    {
     "name": "stdout",
     "output_type": "stream",
     "text": [
      "['apple', 'banana', 'mango']\n"
     ]
    }
   ],
   "source": [
    "fruits = [\"apple\", \"banana\", \"cherry\", \"kiwi\", \"mango\"]\n",
    "# get a list of all fruits whose name contain an \"a\":\n",
    "\n",
    "afruits = [f for f in fruits if \"a\" in f]\n",
    "print(afruits)"
   ]
  },
  {
   "cell_type": "code",
   "execution_count": 7,
   "id": "31baad95",
   "metadata": {},
   "outputs": [
    {
     "name": "stdout",
     "output_type": "stream",
     "text": [
      "[7, 14, 21, 28, 35, 42, 49, 56, 63, 70, 77, 84]\n"
     ]
    }
   ],
   "source": [
    "# print the fist n multiples of 7\n",
    "n = 12\n",
    "print([7*i for i in range(1, n+1)])"
   ]
  },
  {
   "cell_type": "markdown",
   "id": "3a58f055",
   "metadata": {},
   "source": [
    "Note that the expression itself can be something complicated, involving conditionals, for instance"
   ]
  },
  {
   "cell_type": "code",
   "execution_count": 5,
   "id": "ef4de2b0",
   "metadata": {},
   "outputs": [
    {
     "name": "stdout",
     "output_type": "stream",
     "text": [
      "['apple', '******', 'cherry', 'kiwi', 'mango']\n"
     ]
    }
   ],
   "source": [
    "bfruits = [f if not f.startswith(\"b\") else \"*\"*len(f) for f in fruits]\n",
    "print(bfruits)"
   ]
  },
  {
   "cell_type": "code",
   "execution_count": null,
   "id": "4a4ba67a",
   "metadata": {},
   "outputs": [],
   "source": []
  }
 ],
 "metadata": {
  "kernelspec": {
   "display_name": "base",
   "language": "python",
   "name": "python3"
  },
  "language_info": {
   "codemirror_mode": {
    "name": "ipython",
    "version": 3
   },
   "file_extension": ".py",
   "mimetype": "text/x-python",
   "name": "python",
   "nbconvert_exporter": "python",
   "pygments_lexer": "ipython3",
   "version": "3.12.11"
  }
 },
 "nbformat": 4,
 "nbformat_minor": 5
}
