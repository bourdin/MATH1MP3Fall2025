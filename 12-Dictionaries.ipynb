{
 "cells": [
  {
   "cell_type": "markdown",
   "id": "dc0d5752",
   "metadata": {},
   "source": [
    "# 12. Dictionaries\n",
    "\n",
    "A python `dictionary` is a *container* consisting of pairs key:values.\n",
    "The name is a reference to a physical dictionary in which each entry can be thought of as a pair word:definition.\n",
    "\n",
    "Dictionaries are defined as\n",
    "    `{<key1>: <value1>, <key2>: <value2>, ...}`,\n",
    "where keys should be unique, and can be of (almost) any python type. In most common uses, keys are strings."
   ]
  },
  {
   "cell_type": "code",
   "execution_count": null,
   "id": "3e963bcf",
   "metadata": {},
   "outputs": [],
   "source": [
    "D = {'first name': 'John', \n",
    "     'last name': 'Doe', \n",
    "     'age': 22}\n",
    "print(D)"
   ]
  },
  {
   "cell_type": "markdown",
   "id": "6ec8f7a9",
   "metadata": {},
   "source": [
    "Here, the keys are `'first name'`, `'last name'`, `'age'` and the values are `'John'`, `'Doe'`, `22` "
   ]
  },
  {
   "cell_type": "code",
   "execution_count": null,
   "id": "fbf03cdc",
   "metadata": {},
   "outputs": [],
   "source": [
    "D1 = {1:2, \n",
    "      2:3, \n",
    "      True:'this is strange', \n",
    "      (1,2,3): \"this feels even stranger\"}\n",
    "print(D1)"
   ]
  },
  {
   "cell_type": "markdown",
   "id": "ed15b540",
   "metadata": {},
   "source": [
    "The keys of `D1` are `1`, `2`, `True`, `(1,2,3)` and the values are `2`, `3`, `'this is strange'`, `\"this feels even stranger\"`.  "
   ]
  },
  {
   "cell_type": "markdown",
   "id": "857d4714",
   "metadata": {},
   "source": [
    "Dictionary can be *indexed*, that is: the entry associated with key `key` of dictionary `D` is \n",
    "    `D[key1]`"
   ]
  },
  {
   "cell_type": "code",
   "execution_count": null,
   "id": "424d9a76",
   "metadata": {},
   "outputs": [],
   "source": [
    "print(D['first name'])\n",
    "print(D['last name'])\n",
    "print(D['age'])\n"
   ]
  },
  {
   "cell_type": "markdown",
   "id": "ad686f4e",
   "metadata": {},
   "source": [
    "The following code is incorrect. Can you figure out why and fix it?"
   ]
  },
  {
   "cell_type": "code",
   "execution_count": null,
   "id": "e6152135",
   "metadata": {},
   "outputs": [],
   "source": [
    "print(D[age])\n",
    "print(D1['1'])"
   ]
  },
  {
   "cell_type": "markdown",
   "id": "f80ad267",
   "metadata": {},
   "source": [
    "Can you explain what is the difference between `{'a': 1, 'b':2}` and `{1: 'a', 2: 'b'}`?"
   ]
  },
  {
   "cell_type": "code",
   "execution_count": null,
   "id": "0c826114",
   "metadata": {},
   "outputs": [],
   "source": []
  },
  {
   "cell_type": "markdown",
   "id": "7ad9a29c",
   "metadata": {},
   "source": [
    "One way to think of dictionaries is as lists whose indices can be of arbitrary type (or perhaps lists as dictionaries with integer keys).\n",
    "\n",
    "This means that entries are not *ordered* (*i.e.* `{'a':1, 'b':2} == {'b':2, 'a':1}`) like sets but can be *indexed* like lists, and values can be changed."
   ]
  },
  {
   "cell_type": "code",
   "execution_count": null,
   "id": "560ab561",
   "metadata": {},
   "outputs": [],
   "source": [
    "{'a':1, 'b':2} == {'b':2, 'a':1}\n",
    "D['age'] = 32\n",
    "print(D)"
   ]
  },
  {
   "cell_type": "markdown",
   "id": "0079d6b3",
   "metadata": {},
   "source": [
    "### Dictionaries have a few specific methods:\n",
    "* `D.keys()`: the list of keys in `D`\n",
    "* `D.values()`: the list of values in `D`\n",
    "* `D.items()`: the list of (key:values) pairs in `D`\n",
    "* `D.pop(key)`: remove the pair associated with `key` from `D`"
   ]
  },
  {
   "cell_type": "code",
   "execution_count": null,
   "id": "a628f64e",
   "metadata": {},
   "outputs": [],
   "source": [
    "print('keys: ',D.keys())\n",
    "print('values: ',D.values())\n",
    "print('items: ',D.items())\n",
    "D1 = {'a': 1, 'b': 2, 'c': 3, 'd': 4}\n",
    "D1.pop('c')\n",
    "print(D1)"
   ]
  },
  {
   "cell_type": "markdown",
   "id": "42635347",
   "metadata": {},
   "source": [
    "## Dictionaries cookbook\n",
    "### Concatenate 2 dictionaries: `update`"
   ]
  },
  {
   "cell_type": "code",
   "execution_count": null,
   "id": "8881d41d",
   "metadata": {},
   "outputs": [],
   "source": [
    "D1 = {'a':1, 'b':2}\n",
    "print('Before update: ', D1)\n",
    "D1.update({'c':3, 'd':4})\n",
    "print('After update:  ', D1)"
   ]
  },
  {
   "cell_type": "code",
   "execution_count": null,
   "id": "e210da63",
   "metadata": {},
   "outputs": [],
   "source": [
    "D1 = {'a':1, 'b':2}\n",
    "print('Before update: ', D1)\n",
    "D1.update({'c':3, 'd':4, 'b':'new b'})\n",
    "print('After update:  ', D1)"
   ]
  },
  {
   "cell_type": "markdown",
   "id": "cde82e3f",
   "metadata": {},
   "source": [
    "### Many ways iterate over pairs in a `dict`?"
   ]
  },
  {
   "cell_type": "code",
   "execution_count": null,
   "id": "8f19c3af",
   "metadata": {},
   "outputs": [],
   "source": [
    "for k in D1.keys():\n",
    "    v = D1[k]\n",
    "    print(f\"key {k}: value {v}\")"
   ]
  },
  {
   "cell_type": "code",
   "execution_count": null,
   "id": "bf1974af",
   "metadata": {},
   "outputs": [],
   "source": [
    "# This can be abbreviated as follows, I am not completely sure I understand the logic\n",
    "for k in D1:\n",
    "    v = D1[k]\n",
    "    print(f\"key {k}: value {v}\")"
   ]
  },
  {
   "cell_type": "code",
   "execution_count": null,
   "id": "97c68f38",
   "metadata": {},
   "outputs": [],
   "source": [
    "# use zip with keys and values. Probably the least efficient\n",
    "for k, v in zip(D1.keys(), D1.values()):\n",
    "    print(f\"key {k}: value {v}\")"
   ]
  },
  {
   "cell_type": "code",
   "execution_count": null,
   "id": "36220f7e",
   "metadata": {},
   "outputs": [],
   "source": [
    "# use items. The most elegant\n",
    "for k,v in D1.items():\n",
    "    print(f\"key {k}: value {v}\")"
   ]
  },
  {
   "cell_type": "markdown",
   "id": "e35f5bc3",
   "metadata": {},
   "source": [
    "## Playing with dictionaries:\n",
    "### Re-implement `update` as a function"
   ]
  },
  {
   "cell_type": "code",
   "execution_count": null,
   "id": "f9935b08",
   "metadata": {},
   "outputs": [],
   "source": [
    "def merge(D1,D2):\n",
    "    for k,v in D2.items():\n",
    "        D1[k] = v\n",
    "    return(D1)\n",
    "\n",
    "D1 = {'a': 1, 'b': 2}\n",
    "D2 = {1: 'red', 'two': 4}\n",
    "D1 = merge(D1,D2)\n",
    "print(D1)"
   ]
  },
  {
   "cell_type": "markdown",
   "id": "576c5091",
   "metadata": {},
   "source": [
    "### Dictionary of lists v.s. lists of dictionaries\n",
    "```\n",
    "DictOfLists = {'first name': ['Dick', 'Tom', 'Harry', 'Mary'],\n",
    "               'last name': ['Solomon', 'Solomon', 'Solomon', 'Albright'],\n",
    "                'age': [60, 20, 30, 50] \n",
    "              }\n",
    "ListOfDicts = [{'first name': 'Dick', 'last name': 'Solomon', 'age': 60},\n",
    "               {'first name': 'Tom', 'last name': 'Solomon', 'age': 20},\n",
    "               {'first name': 'Harry', 'last name': 'Solomon', 'age': 30},\n",
    "               {'first name': 'Mary', 'last name': 'Albright', 'age': 50}\n",
    "              ]\n",
    "```\n",
    "Think rows v.s. columns of data in a spreadsheet. Both exist but have different usage.\n",
    "\n",
    "When using a dictionary to keep track of all the students' grades in this class.\n",
    "Using a dictionary of lists would make things like computing average grades in each exam easy\n",
    "Using a list of dictionary would make sending an email to each student with a record of their grades easy.\n",
    "\n",
    "Homework: write a function that convert one into the other."
   ]
  },
  {
   "cell_type": "code",
   "execution_count": null,
   "id": "3ec027dc",
   "metadata": {},
   "outputs": [],
   "source": [
    "DictOfLists = {'first name': ['Dick', 'Tom', 'Harry', 'Mary'],\n",
    "               'last name': ['Solomon', 'Solomon', 'Solomon', 'Albright'],\n",
    "                'age': [60, 20, 30, 50] \n",
    "              }\n",
    "ListOfDicts = [{'first name': 'Dick',  'last name': 'Solomon',  'age': 60},\n",
    "               {'first name': 'Tom',   'last name': 'Solomon',  'age': 20},\n",
    "               {'first name': 'Harry', 'last name': 'Solomon',  'age': 30},\n",
    "               {'first name': 'Mary',  'last name': 'Albright', 'age': 50}\n",
    "              ]"
   ]
  }
 ],
 "metadata": {
  "kernelspec": {
   "display_name": "base",
   "language": "python",
   "name": "python3"
  },
  "language_info": {
   "codemirror_mode": {
    "name": "ipython",
    "version": 3
   },
   "file_extension": ".py",
   "mimetype": "text/x-python",
   "name": "python",
   "nbconvert_exporter": "python",
   "pygments_lexer": "ipython3",
   "version": "3.12.9"
  }
 },
 "nbformat": 4,
 "nbformat_minor": 5
}
