{
 "cells": [
  {
   "cell_type": "code",
   "execution_count": 2,
   "id": "034ab214-3f91-4b81-8ad6-e9a81e562163",
   "metadata": {},
   "outputs": [
    {
     "name": "stdout",
     "output_type": "stream",
     "text": [
      "Hello  0\n",
      "Hello  1\n",
      "Hello  2\n"
     ]
    }
   ],
   "source": [
    "i = 1\n",
    "for i in range(3):\n",
    "    print(\"Hello \", i)\n",
    "    i += 1\n",
    "    "
   ]
  },
  {
   "cell_type": "code",
   "execution_count": 3,
   "id": "ca800b48-175e-4b84-9f3b-f260a2569c09",
   "metadata": {},
   "outputs": [
    {
     "name": "stdout",
     "output_type": "stream",
     "text": [
      "Hello  0\n",
      "Hello  1\n",
      "Hello  2\n"
     ]
    }
   ],
   "source": [
    "for i in range(3):\n",
    "    print(\"Hello \", i)\n",
    "    "
   ]
  },
  {
   "cell_type": "code",
   "execution_count": 4,
   "id": "911cf35a-9dc8-4148-bd89-95ada2e4bba5",
   "metadata": {},
   "outputs": [
    {
     "name": "stdout",
     "output_type": "stream",
     "text": [
      "Hello  0\n",
      "Hello  1\n",
      "Hello  2\n"
     ]
    }
   ],
   "source": [
    "for i in [0,1,2]:\n",
    "   print(\"Hello \", i)"
   ]
  },
  {
   "cell_type": "markdown",
   "id": "fecb6bba-bd73-4dc6-bfce-b53a66a18dc1",
   "metadata": {},
   "source": [
    "### enumerate function\n",
    "\n",
    "\n",
    "problem: iterate through each component of a container, knowing the index of the current iterate in the container"
   ]
  },
  {
   "cell_type": "code",
   "execution_count": 6,
   "id": "cbe2227c-417d-4483-886a-d786b664a544",
   "metadata": {},
   "outputs": [
    {
     "name": "stdout",
     "output_type": "stream",
     "text": [
      "0 1\n",
      "1 2\n",
      "2 three\n"
     ]
    }
   ],
   "source": [
    "A = [1, 2, 'three']\n",
    "for i in range(len(A)):\n",
    "    print(i, A[i])"
   ]
  },
  {
   "cell_type": "code",
   "execution_count": 10,
   "id": "44ccfb7b-88c7-49ae-a197-5d01f59ccceb",
   "metadata": {},
   "outputs": [
    {
     "name": "stdout",
     "output_type": "stream",
     "text": [
      "0 1\n",
      "1 2\n",
      "2 three\n"
     ]
    }
   ],
   "source": [
    "B = set(A)\n",
    "for i, a in enumerate(B):\n",
    "    print(i, a)"
   ]
  },
  {
   "cell_type": "markdown",
   "id": "f0dc7d63-0732-4451-8828-2f1b57cb937b",
   "metadata": {},
   "source": [
    "### zip function\n",
    "ex: dot product of two vectors\n",
    "\n",
    "\n",
    "$a.b = \\sum a_i b_i$ "
   ]
  },
  {
   "cell_type": "markdown",
   "id": "3b61e873-9473-4610-bfb1-5354a3de579b",
   "metadata": {},
   "source": [
    "U = [1, 2, 3]\n",
    "V = [4, 5, 6]\n",
    "N = len(U)\n",
    "dotProduct = 0\n",
    "for i in range(N):\n",
    "    dotProduct += U[i] * V[i]\n",
    "\n",
    "print(f\"{U}.{V} = {dotProduct}\")\n"
   ]
  },
  {
   "cell_type": "code",
   "execution_count": 14,
   "id": "12acbd0b-4d51-405f-a715-4233da0287ed",
   "metadata": {},
   "outputs": [
    {
     "name": "stdout",
     "output_type": "stream",
     "text": [
      "[1, 2, 3].[4, 5, 6] = 32\n"
     ]
    }
   ],
   "source": [
    "dot\n",
    "Product = 0\n",
    "for u, v in zip(U, V):\n",
    "    dotProduct += u*v\n",
    "print(f\"{U}.{V} = {dotProduct}\")"
   ]
  },
  {
   "cell_type": "markdown",
   "id": "0cda1be3-4559-4f1f-83ae-926f7c3d1ae0",
   "metadata": {},
   "source": [
    "Most likely something like\n",
    "```\n",
    "for i in range(len(A)):\n",
    "    :\n",
    "    :\n",
    "```\n",
    "is not the best way to write a loop (use `enumerate` or `zip`)\n",
    "\n",
    "\n"
   ]
  },
  {
   "cell_type": "code",
   "execution_count": 16,
   "id": "99fcaac6-4ca6-47f5-bf47-e3cf514a4c99",
   "metadata": {},
   "outputs": [],
   "source": [
    "## Nested loops\n"
   ]
  },
  {
   "cell_type": "code",
   "execution_count": 22,
   "id": "baa9a5d1-da2a-44a6-a0b9-3187ffe4dd5a",
   "metadata": {},
   "outputs": [
    {
     "name": "stdout",
     "output_type": "stream",
     "text": [
      "1 2 3 \n",
      "4 5 6 \n",
      "7 8 9 \n"
     ]
    }
   ],
   "source": [
    "M = [[1,2,3],\n",
    "     [4,5,6],\n",
    "     [7,8,9]]\n",
    "\n",
    "# print(len(M))\n",
    "for row in M:\n",
    "    for val in row:\n",
    "        print(val, end=' ')\n",
    "    print()\n",
    "    \n"
   ]
  },
  {
   "cell_type": "code",
   "execution_count": 24,
   "id": "39ca2d78-a38f-42b6-bbfd-6b9e9acb2b98",
   "metadata": {},
   "outputs": [
    {
     "name": "stdout",
     "output_type": "stream",
     "text": [
      "1 2 3 \n",
      "4 5 6 \n",
      "7 8 9 \n"
     ]
    }
   ],
   "source": [
    "n = len(M)\n",
    "for i in range(n):\n",
    "    for j in range(n):\n",
    "        print(M[i][j], end=' ') #M[i][j] = M_{i,j} \n",
    "    print()\n"
   ]
  },
  {
   "cell_type": "code",
   "execution_count": 25,
   "id": "dd0c732d-fe43-4a4c-b75f-ed4c998c860e",
   "metadata": {},
   "outputs": [
    {
     "name": "stdout",
     "output_type": "stream",
     "text": [
      "1 \n",
      "4 5 \n",
      "7 8 9 \n"
     ]
    }
   ],
   "source": [
    "# print only the lower triangular part:\n",
    "n = len(M)\n",
    "for i in range(n):\n",
    "    for j in range(i+1):\n",
    "        print(M[i][j], end=' ')\n",
    "    print()\n",
    "    "
   ]
  },
  {
   "cell_type": "code",
   "execution_count": null,
   "id": "44a10573-bf3d-4a09-8329-e71f5d549ab5",
   "metadata": {},
   "outputs": [],
   "source": [
    "# print only the lower triangular part:\n",
    "n = len(M)\n",
    "for i in range(n):\n",
    "    for j in range(i+1):\n",
    "        print(M[i][j], end=' ')\n",
    "    print()\n",
    "\n",
    "# another way:\n",
    "for rowIdx, row in enumerate(M):\n",
    "    for colIdx, v in enumerate(row[:rowIdx+1]):\n",
    "        print(v, end=' ')\n",
    "    print()\n"
   ]
  },
  {
   "cell_type": "code",
   "execution_count": 26,
   "id": "f2907a0c-6e71-4155-9a69-1a1e682d362b",
   "metadata": {},
   "outputs": [
    {
     "ename": "IndentationError",
     "evalue": "expected an indented block after 'for' statement on line 2 (323355050.py, line 6)",
     "output_type": "error",
     "traceback": [
      "  \u001b[36mCell\u001b[39m\u001b[36m \u001b[39m\u001b[32mIn[26]\u001b[39m\u001b[32m, line 6\u001b[39m\n\u001b[31m    \u001b[39m\u001b[31mfor i in range(n):\u001b[39m\n                      ^\n\u001b[31mIndentationError\u001b[39m\u001b[31m:\u001b[39m expected an indented block after 'for' statement on line 2\n"
     ]
    }
   ],
   "source": [
    "for i in range(n):\n",
    "    for j in range(p):\n",
    "        # do something\n",
    "        # This will be repeated n.p times\n",
    "\n",
    "for i in range(n):\n",
    "    for j in range(n):\n",
    "        for k in range(n):\n",
    "            # do something\n",
    "# Complexity is n**3\n",
    "\n",
    "            "
   ]
  },
  {
   "cell_type": "code",
   "execution_count": 28,
   "id": "11ff83f0-bdb4-44ce-84fb-8951325798a4",
   "metadata": {},
   "outputs": [
    {
     "name": "stdout",
     "output_type": "stream",
     "text": [
      "i  0  j  0  k  0\n",
      "i  0  j  0  k  1\n",
      "i  0  j  1  k  0\n",
      "i  0  j  1  k  1\n",
      "i  1  j  0  k  0\n",
      "i  1  j  0  k  1\n",
      "i  1  j  1  k  0\n",
      "i  1  j  1  k  1\n"
     ]
    }
   ],
   "source": [
    "n = 2\n",
    "for i in range(n):\n",
    "    for j in range(n):\n",
    "        for k in range(n):\n",
    "            print(\"i \",i,\" j \",j,\" k \", k)\n",
    "\n"
   ]
  },
  {
   "cell_type": "code",
   "execution_count": 29,
   "id": "0aed5c67-36c7-4fc7-8215-dfdbf402f9ad",
   "metadata": {},
   "outputs": [
    {
     "name": "stdout",
     "output_type": "stream",
     "text": [
      "1\n",
      "2\n",
      "3\n",
      "4\n",
      "5\n",
      "6\n",
      "7\n",
      "8\n",
      "9\n"
     ]
    }
   ],
   "source": [
    "# example: breaking out of an infinite loop:\n",
    "counter = 1\n",
    "while True:\n",
    "    if counter >= 10:\n",
    "        break\n",
    "    print(counter)\n",
    "    counter += 1\n",
    "    "
   ]
  },
  {
   "cell_type": "code",
   "execution_count": null,
   "id": "7fa8f819-a041-4d93-acbf-8386811c6113",
   "metadata": {},
   "outputs": [],
   "source": []
  }
 ],
 "metadata": {
  "kernelspec": {
   "display_name": "Python 3 (ipykernel)",
   "language": "python",
   "name": "python3"
  },
  "language_info": {
   "codemirror_mode": {
    "name": "ipython",
    "version": 3
   },
   "file_extension": ".py",
   "mimetype": "text/x-python",
   "name": "python",
   "nbconvert_exporter": "python",
   "pygments_lexer": "ipython3",
   "version": "3.13.5"
  }
 },
 "nbformat": 4,
 "nbformat_minor": 5
}
