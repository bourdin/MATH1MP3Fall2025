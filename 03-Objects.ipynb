{
 "cells": [
  {
   "cell_type": "markdown",
   "id": "0112277c",
   "metadata": {},
   "source": [
    "# Objects\n",
    "\n",
    "Without going too deep in details, anything python manipulates is an *object*. We have discussed strings, ints, floats, and modules. All these are *objects*.\n",
    "A python object defines *methods*, that is built-in operations acting on themselves"
   ]
  },
  {
   "cell_type": "markdown",
   "id": "83351583",
   "metadata": {},
   "source": [
    "## 1. Strings again"
   ]
  },
  {
   "cell_type": "code",
   "execution_count": null,
   "id": "c7243c02",
   "metadata": {},
   "outputs": [],
   "source": [
    "# like any python objects, strings have built-in 'methods':\n",
    "print('hello'.upper())"
   ]
  },
  {
   "cell_type": "code",
   "execution_count": null,
   "id": "2e9dfcb2",
   "metadata": {},
   "outputs": [],
   "source": []
  },
  {
   "cell_type": "code",
   "execution_count": null,
   "id": "8a4056cb",
   "metadata": {},
   "outputs": [],
   "source": [
    "# you can see a list of methods acting on a string using the command 'dir'\n",
    "dir('hello')"
   ]
  },
  {
   "cell_type": "code",
   "execution_count": null,
   "id": "d68cd826",
   "metadata": {},
   "outputs": [],
   "source": [
    "print('hello world'.title())\n",
    "print('hello world'.startswith('h'))\n",
    "print('hello world'.startswith('hello'))\n",
    "\n",
    "# you can cascade methods one after another\n",
    "print('hello world'.title().startswith('h'))\n",
    "print('hello world'.title().startswith('h'.upper()))"
   ]
  },
  {
   "cell_type": "markdown",
   "id": "cfdad3d6",
   "metadata": {},
   "source": [
    "### 1.1 String indexing\n",
    "A *container* is an object that can hold an arbitrary number of other objects. Technically, a string is a container of characters.\n",
    "Containers can implement an *indexing* method denoted by square brackets ('[]').\n",
    "\n",
    "* `s[0]` is the first character in `s`, `s[1]` the second etc.\n",
    "* `s[-1]` is the last character in `s`, `s[-2]`, second to last etc\n",
    "* `len(s)` return the length of `s`, i.e. number of characters in `s`"
   ]
  },
  {
   "cell_type": "code",
   "execution_count": null,
   "id": "853d9975",
   "metadata": {},
   "outputs": [],
   "source": [
    "s = 'Life is beautiful'\n",
    "print(s[0], s[1])\n",
    "print(s[-1], s[-2])\n",
    "print(len(s))"
   ]
  },
  {
   "cell_type": "markdown",
   "id": "83dd7254",
   "metadata": {},
   "source": [
    "### 1.2 F-string\n",
    "\n",
    "Nothing R-rated here... 'f' stands for 'formatted'!\n",
    "\n",
    "In f-strings, expression in curly braces ('{}') are *replacement fields* that are substituted."
   ]
  },
  {
   "cell_type": "code",
   "execution_count": null,
   "id": "712e3541",
   "metadata": {},
   "outputs": [],
   "source": [
    "n = 7\n",
    "animal = 'dog'\n",
    "print(f'A {animal} year is worth {n} human years')"
   ]
  },
  {
   "cell_type": "markdown",
   "id": "cb109245",
   "metadata": {},
   "source": [
    "## 2. Containers\n",
    "Strings are just examples of a bigger concept: *containers*. Containers contain stuff (duh!). They share methods to refer to some of their content, or perform operations on them.\n",
    "Typical operations are \n",
    "* indexing `x[i]`\n",
    "* query `'M' in '1MP3'` \n",
    "* extension, concatenation, restriction, ..."
   ]
  },
  {
   "cell_type": "markdown",
   "id": "fb5d9c81",
   "metadata": {},
   "source": [
    "### 2.1. Lists\n",
    "\n",
    "A *list* is an *ordered* collection of objects (i.e. [1,2] and [2,1] are not equal).\n",
    "\n",
    "* Lists are defined using square brackets ('[]') or the `list()` operator. \n",
    "* The bracket operator can also be used to index. \n",
    "* ':' can be used to extract a list given a range of indices\n",
    "* the last index in a range is omitted, so l[1:3] means the list [l[1], l[2]]"
   ]
  },
  {
   "cell_type": "code",
   "execution_count": null,
   "id": "828084ab",
   "metadata": {},
   "outputs": [],
   "source": [
    "l = [1,2,3,4,5,6]\n",
    "print(l[0])\n",
    "print(l[1:3])\n",
    "print(l[:-2])"
   ]
  },
  {
   "cell_type": "markdown",
   "id": "c125c420",
   "metadata": {},
   "source": [
    "Another unusual feature of python is that not all element in a list must be the same type of objects:"
   ]
  },
  {
   "cell_type": "code",
   "execution_count": null,
   "id": "1d226341",
   "metadata": {},
   "outputs": [],
   "source": [
    "l = [1, 'two', 3+4j, [5,6,7]]\n",
    "print(l)"
   ]
  },
  {
   "cell_type": "markdown",
   "id": "cc70b664-2b14-4965-91c6-2bd7fdef04c0",
   "metadata": {},
   "source": [
    "Other operations on lists:\n",
    "`count`, `sort`, `append`, `reverse`, `extend`, ... (see `type(list())` for a long list)\n",
    "\n",
    "Do they also work on strings (i.e. which ones are connected to the fact that lists are containers)?"
   ]
  },
  {
   "cell_type": "markdown",
   "id": "91eb8ab6-d172-4fb6-8fc2-3d0fd0d54d21",
   "metadata": {},
   "source": [
    "Other operations on lists:\n",
    "`count`, `sort`, `append`, `reverse`, `extend`, ... (see `type(list())` for a long list)\n",
    "\n",
    "Do they also work on strings (i.e. which ones are connected to the fact that lists are containers)?"
   ]
  },
  {
   "cell_type": "markdown",
   "id": "5b9a6c9f-f085-4d67-b873-64af357215c7",
   "metadata": {},
   "source": []
  },
  {
   "cell_type": "code",
   "execution_count": null,
   "id": "4211eb19-0f19-4c71-b673-38fc0e6b6ecb",
   "metadata": {},
   "outputs": [],
   "source": []
  },
  {
   "cell_type": "code",
   "execution_count": null,
   "id": "d8643551-5044-4435-abf9-868d63b2bc31",
   "metadata": {},
   "outputs": [],
   "source": []
  },
  {
   "cell_type": "markdown",
   "id": "ae18f7b8",
   "metadata": {},
   "source": [
    "### 2.2 Tuples\n",
    "\n",
    "tuples are pretty much like list except that they are immutable (i.e. they cannot be modified). They use regular parentheses '()'.\n",
    "I don't see much use for them in mathematical programming... I may be wrong though...\n"
   ]
  },
  {
   "cell_type": "code",
   "execution_count": null,
   "id": "3e9be079",
   "metadata": {},
   "outputs": [],
   "source": [
    "t = (1,2,'three')\n",
    "print(t[1])\n",
    "t[2] = -1"
   ]
  },
  {
   "cell_type": "markdown",
   "id": "5b0f8b4c",
   "metadata": {},
   "source": [
    "### 2.3 Sets\n",
    "Sets are unordered (just like in math) so they cannot be indexed.\n"
   ]
  },
  {
   "cell_type": "code",
   "execution_count": null,
   "id": "dfc31b7a",
   "metadata": {},
   "outputs": [],
   "source": [
    "s1 = set([1,2,3,4])\n",
    "s2 = {'red', 'white', 2}\n",
    "\n",
    "print('Union:        ', s1 | s2) # in CS, '|' often denotes logical 'or'. One could also write si.union(s2) \n",
    "print('Intersection: ', s1 & s2) # '&' denotes 'and' \n",
    "print(2 in s1)\n",
    "\n",
    "print('s1 is ',s1)\n",
    "# Can you explain why the following commands produce different results?\n",
    "s1.add(3)\n",
    "print('s1 is now ',s1)\n",
    "\n",
    "s1.add('3')\n",
    "print('s1 is now ',s1)\n",
    "s1[2]"
   ]
  },
  {
   "cell_type": "markdown",
   "id": "2de6f1b1",
   "metadata": {},
   "source": [
    "### 2.4 Dictionaries\n",
    "\n",
    "Think of dictionaries as (unordered) lists whose indexes can be any object (hence do not have a canonical ordering).\n",
    "It's a convenient way to store related data together. \n",
    "\n"
   ]
  },
  {
   "cell_type": "markdown",
   "id": "4d6f885e",
   "metadata": {},
   "source": [
    "## 3. Files\n",
    "\n",
    "Files are kind of like containers in that they \"contain\" information. Technically, a `file` object does not really contain the information but is a way to access or write it on a physical medium... \n",
    "\n"
   ]
  },
  {
   "cell_type": "code",
   "execution_count": null,
   "id": "3ba9948e",
   "metadata": {},
   "outputs": [],
   "source": [
    "f = open('example.txt','w')\n",
    "f.write('The quick brown fox jumps over the lazy dog\\n')\n",
    "f.write('a man a plan a canal panama')\n",
    "f.close()\n",
    "\n",
    "f2 = open('example.txt')\n",
    "s = f2.read()\n",
    "f2.close\n",
    "print(s)"
   ]
  },
  {
   "cell_type": "code",
   "execution_count": null,
   "id": "c83637b6",
   "metadata": {},
   "outputs": [],
   "source": [
    "f2 = open('example.txt')\n",
    "s = f2.readlines()\n",
    "f2.close\n",
    "print(s)"
   ]
  },
  {
   "cell_type": "code",
   "execution_count": null,
   "id": "ac96c849",
   "metadata": {},
   "outputs": [],
   "source": [
    "f2 = open('example.txt')\n",
    "print('line 1: ',f2.readline())\n",
    "print('line 2: ',f2.readline())\n",
    "print('line 3: ',f2.readline())\n",
    "f2.close()\n"
   ]
  },
  {
   "cell_type": "markdown",
   "id": "572f6cda",
   "metadata": {},
   "source": [
    "## 5. Variables again, references, values"
   ]
  },
  {
   "cell_type": "code",
   "execution_count": null,
   "id": "4f8789fb",
   "metadata": {},
   "outputs": [],
   "source": [
    "# Can you make sense of the following?\n",
    "a = [1,2,3]\n",
    "b = a\n",
    "print('a is ', a, '\\nb is ', b)\n",
    "a = [4,5,6]\n",
    "print('a is now ', a, '\\nb is now ', b)\n",
    "\n",
    "# but \n",
    "print(\"\\nagain:\")\n",
    "a = [1,2,3]\n",
    "b = a\n",
    "print('a is ', a, '\\nb is ', b)\n",
    "a.extend([9,8,7])\n",
    "print('a is now ', a, '\\nb is now ', b)\n",
    "\n",
    "b[1] = 'new value'\n",
    "print('a is now ', a, '\\nb is now ', b)\n"
   ]
  },
  {
   "cell_type": "code",
   "execution_count": null,
   "id": "d773e310-7378-4c12-b150-21d002ad4955",
   "metadata": {},
   "outputs": [],
   "source": []
  }
 ],
 "metadata": {
  "kernelspec": {
   "display_name": "Python 3 (ipykernel)",
   "language": "python",
   "name": "python3"
  },
  "language_info": {
   "codemirror_mode": {
    "name": "ipython",
    "version": 3
   },
   "file_extension": ".py",
   "mimetype": "text/x-python",
   "name": "python",
   "nbconvert_exporter": "python",
   "pygments_lexer": "ipython3",
   "version": "3.13.5"
  }
 },
 "nbformat": 4,
 "nbformat_minor": 5
}
