{
 "cells": [
  {
   "cell_type": "markdown",
   "id": "2cbe47c3",
   "metadata": {},
   "source": [
    "# Introduction to jupyter notebooks"
   ]
  },
  {
   "cell_type": "markdown",
   "id": "b8588c1a",
   "metadata": {},
   "source": [
    "There are two types of cells:\n",
    "markdown cells are meant to contain text only. You can use markdown to format the text *italic* **bold** \n",
    "use `shift+return` to format the cell, double click to edit"
   ]
  },
  {
   "cell_type": "code",
   "execution_count": null,
   "id": "fc75ad3a",
   "metadata": {},
   "outputs": [],
   "source": [
    "# Code cells are actual python code and are executed when you press shift+return \n",
    "# any text following a `#` sign is a comment (i.e. not executed). \n",
    "# use comments between lines of code to explain what the code does\n",
    "\n",
    "# you can use python as a fancy calculator:\n",
    "1+1"
   ]
  },
  {
   "cell_type": "markdown",
   "id": "ee48d984",
   "metadata": {
    "vscode": {
     "languageId": "markdown"
    }
   },
   "source": [
    "You can insert code or markdown cells above or below a given cell using the appropriate button\n",
    "You can change the type of a cell."
   ]
  },
  {
   "cell_type": "markdown",
   "id": "74e1f6b5",
   "metadata": {},
   "source": [
    "You can run all cells in a notebook instead of hitting `shift+return` repeatedly"
   ]
  },
  {
   "cell_type": "markdown",
   "id": "18703a1c",
   "metadata": {},
   "source": [
    "If you know $\\LaTeX$, you can type mathematics, for instance:\n",
    "\n",
    "The solutions of the quadratic equation $ax^2+bx+c = 0$ with $a\\not = 0$ are\n",
    "$$ x_1 = \\frac{-b-\\sqrt{b^2-4ac}}{2a}$$\n",
    "and \n",
    "$$ x_2 = \\frac{-b+\\sqrt{b^2-4ac}}{2a},$$\n",
    "provided that $b^2-4ac\\ge0$."
   ]
  },
  {
   "cell_type": "markdown",
   "id": "807cb554",
   "metadata": {},
   "source": [
    "the `?` and `help` command can be used to get help on python command"
   ]
  },
  {
   "cell_type": "code",
   "execution_count": null,
   "id": "e4d6f373",
   "metadata": {},
   "outputs": [],
   "source": [
    "?print"
   ]
  },
  {
   "cell_type": "code",
   "execution_count": null,
   "id": "2609b7e3",
   "metadata": {},
   "outputs": [],
   "source": [
    "help(print)"
   ]
  },
  {
   "cell_type": "markdown",
   "id": "4b459a31",
   "metadata": {},
   "source": []
  }
 ],
 "metadata": {
  "kernelspec": {
   "display_name": "base",
   "language": "python",
   "name": "python3"
  },
  "language_info": {
   "codemirror_mode": {
    "name": "ipython",
    "version": 3
   },
   "file_extension": ".py",
   "mimetype": "text/x-python",
   "name": "python",
   "nbconvert_exporter": "python",
   "pygments_lexer": "ipython3",
   "version": "3.12.11"
  }
 },
 "nbformat": 4,
 "nbformat_minor": 5
}
