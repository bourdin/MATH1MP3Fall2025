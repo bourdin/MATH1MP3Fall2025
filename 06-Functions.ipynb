{
 "cells": [
  {
   "cell_type": "markdown",
   "id": "914631bd",
   "metadata": {},
   "source": [
    "# Chapter 6: Functions\n",
    "A *function* is a named, reusable block of code that performs a task when *called*.\n",
    "\n",
    "Like in mathematics functions, given one or several inputs functions returns one or several outputs. The input of a function (which we would call *independent variables* in a mathematical function) are called *arguments*.\n",
    "\n",
    "Functions are an essential part of programming. They promote modularity and code reuse."
   ]
  },
  {
   "cell_type": "markdown",
   "id": "a7187200",
   "metadata": {},
   "source": [
    "## 6.1 defining a function \n",
    "General syntax for a function:\n",
    "```\n",
    "def <function_name>(<arguments>):\n",
    "    \"\"\" docstring: an explanation of what the function does\n",
    "        possibly spread over multiple lines.\n",
    "        This will be printed when calling help(function_name).\n",
    "\n",
    "        Typically, the docstring should start with a one sentence description of what the function does.\n",
    "        Followed by a description of what each argument is\n",
    "        Followed by a description of what is returned by the function\"\"\"\n",
    "    :\n",
    "    :\n",
    "    return <one or several values or nothing>\n",
    "```\n",
    "example:\n",
    "```\n",
    "def square(x):\n",
    "   \"\"\" \n",
    "   Returns the square of its argument.\n",
    "   input: x, the quantity to be squared\n",
    "   output: x**2\n",
    "   \"\"\"\n",
    "   return x**2\n",
    "```\n",
    "\n",
    "Note that the code *inside* the function is not executed here. All we did was to create a new python object: a rule that can be applied to any python object for which the operation `**2` is defined. This is another example situation (like loops and conditionals) where the logical order on which operations are executed in a program may not be the same as the order in which they are written in the program."
   ]
  },
  {
   "cell_type": "code",
   "execution_count": null,
   "id": "67110132",
   "metadata": {},
   "outputs": [],
   "source": [
    "def square(x):\n",
    "   \"\"\" \n",
    "    Returns the square of its argument.\n",
    "    input: x, the quantity to be squared\n",
    "    output: x**2\n",
    "   \"\"\"\n",
    "   return x**2\n",
    "help(square)"
   ]
  },
  {
   "cell_type": "code",
   "execution_count": null,
   "id": "59191077",
   "metadata": {},
   "outputs": [],
   "source": [
    "# Once a function has been created, it can be 'called' with its arguments are passed between parentheses\n",
    "z = square(2)\n",
    "print(z)\n",
    "print(square(-1), square(-1.), square(0+1j))"
   ]
  },
  {
   "cell_type": "code",
   "execution_count": null,
   "id": "322dfb7b",
   "metadata": {},
   "outputs": [],
   "source": [
    "print(square(\"oulala\"))"
   ]
  },
  {
   "cell_type": "markdown",
   "id": "703c11ba",
   "metadata": {},
   "source": [
    "Functions can take and return more than one argument"
   ]
  },
  {
   "cell_type": "code",
   "execution_count": null,
   "id": "348c8036",
   "metadata": {},
   "outputs": [],
   "source": [
    "def sumAndProduct(x,y):\n",
    "    return x+y,x*y"
   ]
  },
  {
   "cell_type": "code",
   "execution_count": null,
   "id": "2e510ba1",
   "metadata": {},
   "outputs": [],
   "source": [
    "print(sumAndProduct(1,2))"
   ]
  },
  {
   "cell_type": "code",
   "execution_count": null,
   "id": "22aeed51",
   "metadata": {},
   "outputs": [],
   "source": [
    "# Note the difference between\n",
    "x = sumAndProduct(1,2)\n",
    "print(x)\n",
    "x,y = sumAndProduct(1,2)\n",
    "print(x,y)"
   ]
  },
  {
   "cell_type": "markdown",
   "id": "2899fce4",
   "metadata": {},
   "source": [
    "## 6.2 Scope\n",
    "\n",
    "Variables defined *inside* a function are *local* to the function. They cannot be accessed from outside the function, unless they are `return`ed. We say that the *scope* of these variable is limited to the function \n"
   ]
  },
  {
   "cell_type": "code",
   "execution_count": null,
   "id": "5fd9a5bb",
   "metadata": {},
   "outputs": [],
   "source": [
    "def f(x):\n",
    "    myLocalVar = x\n",
    "    return 2*x\n",
    "print(myLocalVar)"
   ]
  },
  {
   "cell_type": "code",
   "execution_count": null,
   "id": "c47086a8",
   "metadata": {},
   "outputs": [],
   "source": [
    "x = 2\n",
    "def f(y):\n",
    "    print(f\"Inside the function: x is {x}\")\n",
    "    print(f\"Inside the function: y is {y}\")\n",
    "    return 2*y\n",
    "\n",
    "z = f(2)"
   ]
  },
  {
   "cell_type": "markdown",
   "id": "815d01d9",
   "metadata": {},
   "source": [
    "The arguments of a function are not real variable (just like independent variables in a math functions are not real variables).\n",
    "If a global variable of the same name exists outside the function ('out of scope'), it cannot be accessed."
   ]
  },
  {
   "cell_type": "code",
   "execution_count": null,
   "id": "3a40f81d",
   "metadata": {},
   "outputs": [],
   "source": [
    "x = -1\n",
    "y = 3\n",
    "z = f(8)"
   ]
  },
  {
   "cell_type": "markdown",
   "id": "161007b2",
   "metadata": {},
   "source": [
    "As a general rule, **avoid global variables as much as possible**. Make sure that any variable that is needed inside a function is passed as an argument of the function."
   ]
  },
  {
   "cell_type": "markdown",
   "id": "2e72a357",
   "metadata": {},
   "source": [
    "## 6.3 Keyword arguments\n",
    "It is possible to pass variable 'by keyword' in order to make a code easier to read (this is really useful when a function has many arguments). 'Positional arguments' need to be placed first, followed by 'keyword arguments'."
   ]
  },
  {
   "cell_type": "code",
   "execution_count": null,
   "id": "71be8008",
   "metadata": {},
   "outputs": [],
   "source": [
    "def ratioAndProduct(x,y):\n",
    "    print(f\"Inside the function: x is {x}\")\n",
    "    print(f\"Inside the function: y is {y}\")\n",
    "    if y != 0:\n",
    "        return x/y, x*y\n",
    "    else:\n",
    "        return x*y\n",
    "print(ratioAndProduct(1,2))\n",
    "print(ratioAndProduct(2,1))\n",
    "# but\n",
    "print(ratioAndProduct(x = 1, y = 2))\n",
    "print(ratioAndProduct(y = 2, x = 1))\n",
    "print(ratioAndProduct(1,y=2))"
   ]
  },
  {
   "cell_type": "code",
   "execution_count": null,
   "id": "ebfa34c4",
   "metadata": {},
   "outputs": [],
   "source": [
    "# Why does the following give an error message?\n",
    "print(ratioAndProduct(1,x=2))"
   ]
  },
  {
   "cell_type": "markdown",
   "id": "a5fa7423",
   "metadata": {},
   "source": [
    "Arguments can be given a default value, or be made optional by assigning them a default value of `None`"
   ]
  },
  {
   "cell_type": "code",
   "execution_count": null,
   "id": "bcf260e2",
   "metadata": {},
   "outputs": [],
   "source": [
    "def g(x,y=2):\n",
    "    return x*y\n",
    "print(g(1))\n",
    "print(g(1,3))\n",
    "print(g(x=3,y=7))"
   ]
  },
  {
   "cell_type": "code",
   "execution_count": null,
   "id": "d28d8029",
   "metadata": {},
   "outputs": [],
   "source": [
    "def h(x,y=None):\n",
    "    if y:\n",
    "        return x + y\n",
    "    else:\n",
    "        return x\n",
    "\n",
    "print(h(1))\n",
    "print(h(1,3))  "
   ]
  },
  {
   "cell_type": "markdown",
   "id": "87c8f2d3",
   "metadata": {},
   "source": [
    "## 6.4 Modifying arguments ('side effects')\n",
    "\n",
    "In Python, a variable is a name that refers to an object stored in memory, aka an object reference, so Python uses a 'pass-by-object-reference' system. If an argument is changed in a function, the changes are kept or lost depending on the object's mutability. A *mutable object* can be modified after creation. A function's changes to the object then appear outside the function. An *immutable object* cannot be modified after creation. So a function must make a local copy to modify, and the local copy's changes don't appear outside the function."
   ]
  },
  {
   "cell_type": "code",
   "execution_count": null,
   "id": "18aa434e",
   "metadata": {},
   "outputs": [],
   "source": [
    "x = 1\n",
    "y = 2\n",
    "z = 3\n",
    "def f(x,y):\n",
    "    y = -1\n",
    "    z = 10\n",
    "    print(f\"in function: x {x}, y {y}, z {z}\")\n",
    "    return z\n",
    "\n",
    "t = f(x,y)\n",
    "print(f\"after function: x {x}, y {y}, z {z}\")"
   ]
  },
  {
   "cell_type": "code",
   "execution_count": null,
   "id": "18b27111",
   "metadata": {},
   "outputs": [],
   "source": [
    "myList = [1,2,3,4]\n",
    "def listFunction1(l):\n",
    "    l = [-1,-2,-3,-4]\n",
    "    print(f\"inside the function: {l}\")\n",
    "    return 0\n",
    "\n",
    "print(f\"before the function: {myList}\")\n",
    "z = listFunction1(myList)\n",
    "print(f\"after the function: {myList}\")\n"
   ]
  },
  {
   "cell_type": "code",
   "execution_count": null,
   "id": "91bf12b3",
   "metadata": {},
   "outputs": [],
   "source": [
    "myList = [1,2,3,4]\n",
    "def listFunction2(l):\n",
    "    for i in range(len(l)):\n",
    "        l[i] += i\n",
    "    print(f\"inside the function: {l}\")\n",
    "    return 0\n",
    "\n",
    "print(f\"before the function: {myList}\")\n",
    "z = listFunction2(myList)\n",
    "print(f\"after the function: {myList}\")\n"
   ]
  },
  {
   "cell_type": "markdown",
   "id": "2fc4e844",
   "metadata": {},
   "source": [
    "## Question 4.1"
   ]
  },
  {
   "cell_type": "code",
   "execution_count": null,
   "id": "6cc58dcf",
   "metadata": {},
   "outputs": [],
   "source": [
    "import numpy as np\n",
    "def int2bin(n):\n",
    "    \"\"\" converts an int into an array of booleans using floating point arithmetics\"\"\"\n",
    "    numBits = 0\n",
    "    while 2**numBits <= n:\n",
    "        numBits += 1\n",
    "\n",
    "    # step 2: initialize th ebits list\n",
    "    bits = [False,] * numBits\n",
    "\n",
    "    # step 3: compute the bits themselves\n",
    "    for i in range(1,numBits + 1):\n",
    "        bits[numBits-i] = bool(n%2)\n",
    "        n = n//2\n",
    "    return(bits)\n",
    "\n",
    "# another version with only one loop\n",
    "def int2bin2(n):\n",
    "    \"\"\" converts an int into an array of booleans using floating point arithmetics\"\"\"\n",
    "    bits = []\n",
    "    while n > 0:\n",
    "        bits = [bool(n%2),] + bits\n",
    "        n = n//2\n",
    "    return bits \n",
    "\n",
    "def bin2int(bits):\n",
    "    n = 0\n",
    "    for i,bit in enumerate(bits):\n",
    "        n += bit * 2**(len(bits)-i-1)\n",
    "    return(n)\n",
    "    \n",
    "for n in [1, 2, 44, 255, 256, 234, 299]:\n",
    "    print(n, int2bin(n),  bin2int(int2bin(n)))\n",
    "    print(n, int2bin2(n),  bin2int(int2bin2(n)))\n"
   ]
  },
  {
   "cell_type": "code",
   "execution_count": null,
   "id": "7bc09484",
   "metadata": {},
   "outputs": [],
   "source": []
  },
  {
   "cell_type": "markdown",
   "id": "8dbedfed",
   "metadata": {},
   "source": [
    "## Question 5"
   ]
  },
  {
   "cell_type": "code",
   "execution_count": null,
   "id": "3def3d18",
   "metadata": {},
   "outputs": [],
   "source": [
    "def sieve1(N):\n",
    "    # step 1, initialize the set s - {1, 2, 3, ... N}\n",
    "    s = set()\n",
    "    for i in range(N):\n",
    "        s.add(i+1)\n",
    "    for i in range(2, int(np.ceil(np.sqrt(N)))):\n",
    "        for j in range(i,N//i+1):\n",
    "            if i*j in s:\n",
    "                s.remove(i*j)\n",
    "    return s\n",
    "\n",
    "def sieve2(N):\n",
    "    mask = [True,] * N\n",
    "    for i in range(2, int(np.ceil(np.sqrt(N)))):\n",
    "        for j in range(i,N//i+1):\n",
    "            mask[i*j-1] = False\n",
    "    return(mask)\n",
    "\n",
    "N = 97\n",
    "primes1 = sieve1(N)\n",
    "mask = sieve2(N)\n",
    "primes2 = [0,] * mask.count(True)\n",
    "n = 0\n",
    "for i,m in enumerate(mask):\n",
    "    if m:\n",
    "        primes2[n] = i+1\n",
    "        n += 1\n",
    "print(primes1)\n",
    "print(primes2)\n"
   ]
  },
  {
   "cell_type": "markdown",
   "id": "02df41e9",
   "metadata": {},
   "source": []
  }
 ],
 "metadata": {
  "kernelspec": {
   "display_name": "base",
   "language": "python",
   "name": "python3"
  },
  "language_info": {
   "codemirror_mode": {
    "name": "ipython",
    "version": 3
   },
   "file_extension": ".py",
   "mimetype": "text/x-python",
   "name": "python",
   "nbconvert_exporter": "python",
   "pygments_lexer": "ipython3",
   "version": "3.12.11"
  }
 },
 "nbformat": 4,
 "nbformat_minor": 5
}
