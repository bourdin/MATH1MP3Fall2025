{
 "cells": [
  {
   "cell_type": "markdown",
   "id": "fb7e5987",
   "metadata": {},
   "source": [
    "# Chapter 9: Formatting strings\n",
    "\n",
    "We saw that f-strings provide a way to insert variables into a string"
   ]
  },
  {
   "cell_type": "code",
   "execution_count": null,
   "id": "7af8ec7b",
   "metadata": {},
   "outputs": [
    {
     "name": "stdout",
     "output_type": "stream",
     "text": [
      "a is {a} and b is {b}\n",
      "a is 12 and b is 23.456789012344565\n"
     ]
    }
   ],
   "source": [
    "a = 12\n",
    "b = 105623.45678901234456545675896543751267423561735\n",
    "str = \"a is {a} and b is {b}\"\n",
    "fstr = f\"a is {a} and b is {b}\"\n",
    "print(str)\n",
    "print(fstr)"
   ]
  },
  {
   "cell_type": "markdown",
   "id": "c6970ab9",
   "metadata": {},
   "source": [
    "What if we wanted to print `a` as a real number (i.e. 12.0) or `b` with more or less significant digits?\n",
    "\n",
    "We can use *format specifiers*:\n",
    "![formatting integers](Format-Int.png)\n",
    "![formatting floats](Format-Float.png)\n",
    "\n",
    "There are many more format commands, see the [python documentation](https://docs.python.org/3/library/string.html#formatspec) for some examples"
   ]
  },
  {
   "cell_type": "code",
   "execution_count": 6,
   "id": "85cfbddd",
   "metadata": {},
   "outputs": [
    {
     "name": "stdout",
     "output_type": "stream",
     "text": [
      "a is 12.000000 and b is 23.4568\n"
     ]
    }
   ],
   "source": [
    "f2str = f\"a is {a:f} and b is {b:.4f}\"\n",
    "print(f2str)"
   ]
  },
  {
   "cell_type": "markdown",
   "id": "ed022e9c",
   "metadata": {},
   "source": [
    "print a date in DD/MM/YYYY format"
   ]
  },
  {
   "cell_type": "code",
   "execution_count": 8,
   "id": "17165397",
   "metadata": {},
   "outputs": [
    {
     "name": "stdout",
     "output_type": "stream",
     "text": [
      "03/01/2025\n"
     ]
    }
   ],
   "source": [
    "day = 3\n",
    "month = 1\n",
    "year = 2025\n",
    "date = f\"{day:02d}/{month:02d}/{year:04d}\"\n",
    "print(date)"
   ]
  },
  {
   "cell_type": "code",
   "execution_count": 9,
   "id": "4c509a5b",
   "metadata": {},
   "outputs": [
    {
     "name": "stdout",
     "output_type": "stream",
     "text": [
      "299 is [100101011] in decimal\n"
     ]
    }
   ],
   "source": [
    "i = 299\n",
    "print(f\"{i:d} is [{i:b}] in decimal\")"
   ]
  },
  {
   "cell_type": "code",
   "execution_count": 35,
   "id": "6f5fec05",
   "metadata": {},
   "outputs": [
    {
     "name": "stdout",
     "output_type": "stream",
     "text": [
      "3.14159265358979311599796346854418516159057617187500000000000000000000000000000000\n",
      "|-4.852e+08     |\n",
      "|-4.851652e+08  |\n",
      "|-4.851652e+08  |\n",
      "| 4.851652e+08  |\n",
      "|4.851652e+08   |\n"
     ]
    }
   ],
   "source": [
    "import math\n",
    "print(f\"{math.pi:.80f}\")\n",
    "print(f\"|{-math.exp(20):<15.3e}|\")\n",
    "print(f\"|{-math.exp(20):<15.6e}|\")\n",
    "print(f\"|{-math.exp(20):< 15.6e}|\")\n",
    "print(f\"|{math.exp(20):< 15.6e}|\")\n",
    "print(f\"|{math.exp(20):<15.6e}|\")\n"
   ]
  },
  {
   "cell_type": "code",
   "execution_count": null,
   "id": "4ffbcab3",
   "metadata": {},
   "outputs": [],
   "source": []
  }
 ],
 "metadata": {
  "kernelspec": {
   "display_name": "base",
   "language": "python",
   "name": "python3"
  },
  "language_info": {
   "codemirror_mode": {
    "name": "ipython",
    "version": 3
   },
   "file_extension": ".py",
   "mimetype": "text/x-python",
   "name": "python",
   "nbconvert_exporter": "python",
   "pygments_lexer": "ipython3",
   "version": "3.12.11"
  }
 },
 "nbformat": 4,
 "nbformat_minor": 5
}
